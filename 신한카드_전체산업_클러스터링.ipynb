{
  "nbformat": 4,
  "nbformat_minor": 0,
  "metadata": {
    "colab": {
      "name": "신한카드 전체산업 클러스터링.ipynb",
      "provenance": [],
      "collapsed_sections": [],
      "authorship_tag": "ABX9TyOi4ywYi+oohtRiuVwLR1nG"
    },
    "kernelspec": {
      "name": "python3",
      "display_name": "Python 3"
    },
    "language_info": {
      "name": "python"
    }
  },
  "cells": [
    {
      "cell_type": "code",
      "metadata": {
        "id": "etaTaaaDNOI7"
      },
      "source": [
        "import pandas as pd\n",
        "import plotly.graph_objects as go\n",
        "from matplotlib import pyplot as plt\n",
        "\n",
        "from sklearn.cluster import KMeans\n",
        "from sklearn.preprocessing import MinMaxScaler"
      ],
      "execution_count": 3,
      "outputs": []
    },
    {
      "cell_type": "code",
      "metadata": {
        "id": "WkFYRxdgO2Ty"
      },
      "source": [
        "sh = pd.read_csv('신한카드_전처리.csv', index_col=0, encoding='utf-8')"
      ],
      "execution_count": 4,
      "outputs": []
    },
    {
      "cell_type": "code",
      "metadata": {
        "colab": {
          "base_uri": "https://localhost:8080/",
          "height": 296
        },
        "id": "XmPFafqyO7s5",
        "outputId": "e2317be9-dae3-418b-8c9e-db0d8f254c1e"
      },
      "source": [
        "group = sh.groupby(by='업종대분류').sum().reset_index()\n",
        "group.drop(columns='기준년월', inplace=True)\n",
        "group"
      ],
      "execution_count": 5,
      "outputs": [
        {
          "output_type": "execute_result",
          "data": {
            "text/html": [
              "<div>\n",
              "<style scoped>\n",
              "    .dataframe tbody tr th:only-of-type {\n",
              "        vertical-align: middle;\n",
              "    }\n",
              "\n",
              "    .dataframe tbody tr th {\n",
              "        vertical-align: top;\n",
              "    }\n",
              "\n",
              "    .dataframe thead th {\n",
              "        text-align: right;\n",
              "    }\n",
              "</style>\n",
              "<table border=\"1\" class=\"dataframe\">\n",
              "  <thead>\n",
              "    <tr style=\"text-align: right;\">\n",
              "      <th></th>\n",
              "      <th>업종대분류</th>\n",
              "      <th>신규가맹점수</th>\n",
              "      <th>해지가맹점수</th>\n",
              "      <th>매출가맹점수</th>\n",
              "      <th>카드매출금액</th>\n",
              "      <th>카드매출건수</th>\n",
              "      <th>점당매출금액</th>\n",
              "      <th>건당매출금액</th>\n",
              "    </tr>\n",
              "  </thead>\n",
              "  <tbody>\n",
              "    <tr>\n",
              "      <th>0</th>\n",
              "      <td>기타</td>\n",
              "      <td>0</td>\n",
              "      <td>0</td>\n",
              "      <td>298</td>\n",
              "      <td>536510655000</td>\n",
              "      <td>26429942</td>\n",
              "      <td>32630415137</td>\n",
              "      <td>431028</td>\n",
              "    </tr>\n",
              "    <tr>\n",
              "      <th>1</th>\n",
              "      <td>문화레져</td>\n",
              "      <td>14535</td>\n",
              "      <td>11003</td>\n",
              "      <td>604584</td>\n",
              "      <td>1460789771000</td>\n",
              "      <td>36984488</td>\n",
              "      <td>35463948311</td>\n",
              "      <td>466998863</td>\n",
              "    </tr>\n",
              "    <tr>\n",
              "      <th>2</th>\n",
              "      <td>생활서비스</td>\n",
              "      <td>17865</td>\n",
              "      <td>10420</td>\n",
              "      <td>1033493</td>\n",
              "      <td>12768340037000</td>\n",
              "      <td>303639697</td>\n",
              "      <td>262539862981</td>\n",
              "      <td>506748391</td>\n",
              "    </tr>\n",
              "    <tr>\n",
              "      <th>3</th>\n",
              "      <td>음식</td>\n",
              "      <td>66789</td>\n",
              "      <td>55072</td>\n",
              "      <td>3119532</td>\n",
              "      <td>7139960408000</td>\n",
              "      <td>299308937</td>\n",
              "      <td>13657517419</td>\n",
              "      <td>205746331</td>\n",
              "    </tr>\n",
              "    <tr>\n",
              "      <th>4</th>\n",
              "      <td>음식</td>\n",
              "      <td>1</td>\n",
              "      <td>0</td>\n",
              "      <td>10</td>\n",
              "      <td>6777000</td>\n",
              "      <td>88</td>\n",
              "      <td>3680009</td>\n",
              "      <td>917658</td>\n",
              "    </tr>\n",
              "    <tr>\n",
              "      <th>5</th>\n",
              "      <td>일반유통</td>\n",
              "      <td>22498</td>\n",
              "      <td>19775</td>\n",
              "      <td>1041532</td>\n",
              "      <td>4477134658000</td>\n",
              "      <td>67913960</td>\n",
              "      <td>161795335539</td>\n",
              "      <td>1074226743</td>\n",
              "    </tr>\n",
              "    <tr>\n",
              "      <th>6</th>\n",
              "      <td>전문서비스</td>\n",
              "      <td>23318</td>\n",
              "      <td>16127</td>\n",
              "      <td>1084907</td>\n",
              "      <td>8200716800000</td>\n",
              "      <td>102373719</td>\n",
              "      <td>99894242637</td>\n",
              "      <td>2407934475</td>\n",
              "    </tr>\n",
              "    <tr>\n",
              "      <th>7</th>\n",
              "      <td>종합유통</td>\n",
              "      <td>5107</td>\n",
              "      <td>4245</td>\n",
              "      <td>338286</td>\n",
              "      <td>13120767979000</td>\n",
              "      <td>445767635</td>\n",
              "      <td>162249411697</td>\n",
              "      <td>53835764</td>\n",
              "    </tr>\n",
              "  </tbody>\n",
              "</table>\n",
              "</div>"
            ],
            "text/plain": [
              "   업종대분류  신규가맹점수  해지가맹점수  ...     카드매출건수        점당매출금액      건당매출금액\n",
              "0     기타       0       0  ...   26429942   32630415137      431028\n",
              "1   문화레져   14535   11003  ...   36984488   35463948311   466998863\n",
              "2  생활서비스   17865   10420  ...  303639697  262539862981   506748391\n",
              "3     음식   66789   55072  ...  299308937   13657517419   205746331\n",
              "4    음식        1       0  ...         88       3680009      917658\n",
              "5   일반유통   22498   19775  ...   67913960  161795335539  1074226743\n",
              "6  전문서비스   23318   16127  ...  102373719   99894242637  2407934475\n",
              "7   종합유통    5107    4245  ...  445767635  162249411697    53835764\n",
              "\n",
              "[8 rows x 8 columns]"
            ]
          },
          "metadata": {
            "tags": []
          },
          "execution_count": 5
        }
      ]
    },
    {
      "cell_type": "code",
      "metadata": {
        "id": "qCU915JYQK0W"
      },
      "source": [
        "group = group[group['매출가맹점수']!=0]\n",
        "group = group[group['카드매출건수']!=0]"
      ],
      "execution_count": 6,
      "outputs": []
    },
    {
      "cell_type": "code",
      "metadata": {
        "id": "KpbokjfwPiur"
      },
      "source": [
        "# 점당매출금액, 건당매출금액 재계산\n",
        "group['점당매출금액'] = group['카드매출금액']//group['매출가맹점수']\n",
        "group['건당매출금액'] = group['카드매출금액']//group['카드매출건수']"
      ],
      "execution_count": 7,
      "outputs": []
    },
    {
      "cell_type": "code",
      "metadata": {
        "colab": {
          "base_uri": "https://localhost:8080/"
        },
        "id": "dQ_0-6qMPkbD",
        "outputId": "8ab705fb-2b60-4522-c355-98c37de233e4"
      },
      "source": [
        "# 표준화 수행\n",
        "cls = group.drop(columns='업종대분류')\n",
        "cols = cls.columns\n",
        "scaler = MinMaxScaler()\n",
        "scaler.fit(cls)\n",
        "scaled = scaler.transform(cls)\n",
        "scaled"
      ],
      "execution_count": 9,
      "outputs": [
        {
          "output_type": "execute_result",
          "data": {
            "text/plain": [
              "array([[0.00000000e+00, 0.00000000e+00, 9.23218365e-05, 4.08896915e-02,\n",
              "        5.92906643e-02, 1.00000000e+00, 0.00000000e+00],\n",
              "       [2.17625657e-01, 1.99792998e-01, 1.93803410e-01, 1.11333708e-01,\n",
              "        8.29679061e-02, 9.65991642e-04, 3.21004581e-01],\n",
              "       [2.67484167e-01, 1.89206856e-01, 3.31295307e-01, 9.73139673e-01,\n",
              "        6.81161316e-01, 6.48824269e-03, 3.63692606e-01],\n",
              "       [1.00000000e+00, 1.00000000e+00, 1.00000000e+00, 5.44172211e-01,\n",
              "        6.71446028e-01, 8.95203482e-04, 5.94421964e-02],\n",
              "       [1.49725254e-05, 0.00000000e+00, 0.00000000e+00, 0.00000000e+00,\n",
              "        0.00000000e+00, 0.00000000e+00, 9.48266060e-01],\n",
              "       [3.36851877e-01, 3.59075392e-01, 3.33872305e-01, 3.41224706e-01,\n",
              "        1.52352661e-01, 2.01195578e-03, 7.62866602e-01],\n",
              "       [3.49129348e-01, 2.92834834e-01, 3.47776679e-01, 6.25017855e-01,\n",
              "        2.29656985e-01, 3.82354636e-03, 1.00000000e+00],\n",
              "       [7.64646873e-02, 7.70809123e-02, 1.08438408e-01, 1.00000000e+00,\n",
              "        1.00000000e+00, 2.11748936e-02, 1.52743872e-01]])"
            ]
          },
          "metadata": {
            "tags": []
          },
          "execution_count": 9
        }
      ]
    },
    {
      "cell_type": "code",
      "metadata": {
        "colab": {
          "base_uri": "https://localhost:8080/",
          "height": 265
        },
        "id": "lONoyfLjPpQp",
        "outputId": "e9335b60-5540-4021-ea06-c33a65c1b3df"
      },
      "source": [
        "# screeplot 그리기\n",
        "def elbow(x):\n",
        "  sse = []\n",
        "\n",
        "  for i in range(1, 8):\n",
        "    km = KMeans(n_clusters=i)\n",
        "    km.fit(x)\n",
        "    sse.append(km.inertia_)\n",
        "    plt.plot(sse)\n",
        "  plt.show()\n",
        "\n",
        "elbow(scaled)"
      ],
      "execution_count": 12,
      "outputs": [
        {
          "output_type": "display_data",
          "data": {
            "image/png": "[encoded data removed]",
            "text/plain": [
              "<Figure size 432x288 with 1 Axes>"
            ]
          },
          "metadata": {
            "tags": [],
            "needs_background": "light"
          }
        }
      ]
    },
    {
      "cell_type": "code",
      "metadata": {
        "colab": {
          "base_uri": "https://localhost:8080/"
        },
        "id": "1A-FS_c1PrwF",
        "outputId": "57226577-43a2-4358-ca8f-686b2666bf0d"
      },
      "source": [
        "# cluster 수는 3개로 결정\n",
        "km = KMeans(n_clusters=3)\n",
        "km.fit(scaled)\n",
        "km.cluster_centers_"
      ],
      "execution_count": 13,
      "outputs": [
        {
          "output_type": "execute_result",
          "data": {
            "text/plain": [
              "array([[1.80724371e-01, 1.70340645e-01, 1.75108943e-01, 2.23693192e-01,\n",
              "        1.04853643e-01, 2.01360299e-01, 6.06427449e-01],\n",
              "       [1.00000000e+00, 1.00000000e+00, 1.00000000e+00, 5.44172211e-01,\n",
              "        6.71446028e-01, 8.95203482e-04, 5.94421964e-02],\n",
              "       [1.71974427e-01, 1.33143884e-01, 2.19866858e-01, 9.86569836e-01,\n",
              "        8.40580658e-01, 1.38315681e-02, 2.58218239e-01]])"
            ]
          },
          "metadata": {
            "tags": []
          },
          "execution_count": 13
        }
      ]
    },
    {
      "cell_type": "code",
      "metadata": {
        "colab": {
          "base_uri": "https://localhost:8080/",
          "height": 141
        },
        "id": "bWeQPBCKQ6qL",
        "outputId": "c2fe83a7-197f-49fc-d530-ebe7e461fe43"
      },
      "source": [
        "cluster = pd.DataFrame(km.cluster_centers_, columns=cls.columns)\n",
        "cluster.sort_values(by='카드매출금액', ascending=False, inplace=True)\n",
        "cluster"
      ],
      "execution_count": 14,
      "outputs": [
        {
          "output_type": "execute_result",
          "data": {
            "text/html": [
              "<div>\n",
              "<style scoped>\n",
              "    .dataframe tbody tr th:only-of-type {\n",
              "        vertical-align: middle;\n",
              "    }\n",
              "\n",
              "    .dataframe tbody tr th {\n",
              "        vertical-align: top;\n",
              "    }\n",
              "\n",
              "    .dataframe thead th {\n",
              "        text-align: right;\n",
              "    }\n",
              "</style>\n",
              "<table border=\"1\" class=\"dataframe\">\n",
              "  <thead>\n",
              "    <tr style=\"text-align: right;\">\n",
              "      <th></th>\n",
              "      <th>신규가맹점수</th>\n",
              "      <th>해지가맹점수</th>\n",
              "      <th>매출가맹점수</th>\n",
              "      <th>카드매출금액</th>\n",
              "      <th>카드매출건수</th>\n",
              "      <th>점당매출금액</th>\n",
              "      <th>건당매출금액</th>\n",
              "    </tr>\n",
              "  </thead>\n",
              "  <tbody>\n",
              "    <tr>\n",
              "      <th>2</th>\n",
              "      <td>0.171974</td>\n",
              "      <td>0.133144</td>\n",
              "      <td>0.219867</td>\n",
              "      <td>0.986570</td>\n",
              "      <td>0.840581</td>\n",
              "      <td>0.013832</td>\n",
              "      <td>0.258218</td>\n",
              "    </tr>\n",
              "    <tr>\n",
              "      <th>1</th>\n",
              "      <td>1.000000</td>\n",
              "      <td>1.000000</td>\n",
              "      <td>1.000000</td>\n",
              "      <td>0.544172</td>\n",
              "      <td>0.671446</td>\n",
              "      <td>0.000895</td>\n",
              "      <td>0.059442</td>\n",
              "    </tr>\n",
              "    <tr>\n",
              "      <th>0</th>\n",
              "      <td>0.180724</td>\n",
              "      <td>0.170341</td>\n",
              "      <td>0.175109</td>\n",
              "      <td>0.223693</td>\n",
              "      <td>0.104854</td>\n",
              "      <td>0.201360</td>\n",
              "      <td>0.606427</td>\n",
              "    </tr>\n",
              "  </tbody>\n",
              "</table>\n",
              "</div>"
            ],
            "text/plain": [
              "     신규가맹점수    해지가맹점수    매출가맹점수    카드매출금액    카드매출건수    점당매출금액    건당매출금액\n",
              "2  0.171974  0.133144  0.219867  0.986570  0.840581  0.013832  0.258218\n",
              "1  1.000000  1.000000  1.000000  0.544172  0.671446  0.000895  0.059442\n",
              "0  0.180724  0.170341  0.175109  0.223693  0.104854  0.201360  0.606427"
            ]
          },
          "metadata": {
            "tags": []
          },
          "execution_count": 14
        }
      ]
    },
    {
      "cell_type": "code",
      "metadata": {
        "colab": {
          "base_uri": "https://localhost:8080/",
          "height": 296
        },
        "id": "1lbmobruQ00U",
        "outputId": "eff4be7f-252b-4db1-afde-3a0c03814194"
      },
      "source": [
        "predict = pd.DataFrame(km.predict(scaled))\n",
        "predict.columns = ['Cluster']\n",
        "predict"
      ],
      "execution_count": 15,
      "outputs": [
        {
          "output_type": "execute_result",
          "data": {
            "text/html": [
              "<div>\n",
              "<style scoped>\n",
              "    .dataframe tbody tr th:only-of-type {\n",
              "        vertical-align: middle;\n",
              "    }\n",
              "\n",
              "    .dataframe tbody tr th {\n",
              "        vertical-align: top;\n",
              "    }\n",
              "\n",
              "    .dataframe thead th {\n",
              "        text-align: right;\n",
              "    }\n",
              "</style>\n",
              "<table border=\"1\" class=\"dataframe\">\n",
              "  <thead>\n",
              "    <tr style=\"text-align: right;\">\n",
              "      <th></th>\n",
              "      <th>Cluster</th>\n",
              "    </tr>\n",
              "  </thead>\n",
              "  <tbody>\n",
              "    <tr>\n",
              "      <th>0</th>\n",
              "      <td>0</td>\n",
              "    </tr>\n",
              "    <tr>\n",
              "      <th>1</th>\n",
              "      <td>0</td>\n",
              "    </tr>\n",
              "    <tr>\n",
              "      <th>2</th>\n",
              "      <td>2</td>\n",
              "    </tr>\n",
              "    <tr>\n",
              "      <th>3</th>\n",
              "      <td>1</td>\n",
              "    </tr>\n",
              "    <tr>\n",
              "      <th>4</th>\n",
              "      <td>0</td>\n",
              "    </tr>\n",
              "    <tr>\n",
              "      <th>5</th>\n",
              "      <td>0</td>\n",
              "    </tr>\n",
              "    <tr>\n",
              "      <th>6</th>\n",
              "      <td>0</td>\n",
              "    </tr>\n",
              "    <tr>\n",
              "      <th>7</th>\n",
              "      <td>2</td>\n",
              "    </tr>\n",
              "  </tbody>\n",
              "</table>\n",
              "</div>"
            ],
            "text/plain": [
              "   Cluster\n",
              "0        0\n",
              "1        0\n",
              "2        2\n",
              "3        1\n",
              "4        0\n",
              "5        0\n",
              "6        0\n",
              "7        2"
            ]
          },
          "metadata": {
            "tags": []
          },
          "execution_count": 15
        }
      ]
    },
    {
      "cell_type": "code",
      "metadata": {
        "colab": {
          "base_uri": "https://localhost:8080/",
          "height": 296
        },
        "id": "C9zX6-F1Q2zn",
        "outputId": "279372b1-7782-4be7-d965-acfebc86bf80"
      },
      "source": [
        "scaled = pd.DataFrame(data=scaled, columns=cls.columns)\n",
        "scaled"
      ],
      "execution_count": 16,
      "outputs": [
        {
          "output_type": "execute_result",
          "data": {
            "text/html": [
              "<div>\n",
              "<style scoped>\n",
              "    .dataframe tbody tr th:only-of-type {\n",
              "        vertical-align: middle;\n",
              "    }\n",
              "\n",
              "    .dataframe tbody tr th {\n",
              "        vertical-align: top;\n",
              "    }\n",
              "\n",
              "    .dataframe thead th {\n",
              "        text-align: right;\n",
              "    }\n",
              "</style>\n",
              "<table border=\"1\" class=\"dataframe\">\n",
              "  <thead>\n",
              "    <tr style=\"text-align: right;\">\n",
              "      <th></th>\n",
              "      <th>신규가맹점수</th>\n",
              "      <th>해지가맹점수</th>\n",
              "      <th>매출가맹점수</th>\n",
              "      <th>카드매출금액</th>\n",
              "      <th>카드매출건수</th>\n",
              "      <th>점당매출금액</th>\n",
              "      <th>건당매출금액</th>\n",
              "    </tr>\n",
              "  </thead>\n",
              "  <tbody>\n",
              "    <tr>\n",
              "      <th>0</th>\n",
              "      <td>0.000000</td>\n",
              "      <td>0.000000</td>\n",
              "      <td>0.000092</td>\n",
              "      <td>0.040890</td>\n",
              "      <td>0.059291</td>\n",
              "      <td>1.000000</td>\n",
              "      <td>0.000000</td>\n",
              "    </tr>\n",
              "    <tr>\n",
              "      <th>1</th>\n",
              "      <td>0.217626</td>\n",
              "      <td>0.199793</td>\n",
              "      <td>0.193803</td>\n",
              "      <td>0.111334</td>\n",
              "      <td>0.082968</td>\n",
              "      <td>0.000966</td>\n",
              "      <td>0.321005</td>\n",
              "    </tr>\n",
              "    <tr>\n",
              "      <th>2</th>\n",
              "      <td>0.267484</td>\n",
              "      <td>0.189207</td>\n",
              "      <td>0.331295</td>\n",
              "      <td>0.973140</td>\n",
              "      <td>0.681161</td>\n",
              "      <td>0.006488</td>\n",
              "      <td>0.363693</td>\n",
              "    </tr>\n",
              "    <tr>\n",
              "      <th>3</th>\n",
              "      <td>1.000000</td>\n",
              "      <td>1.000000</td>\n",
              "      <td>1.000000</td>\n",
              "      <td>0.544172</td>\n",
              "      <td>0.671446</td>\n",
              "      <td>0.000895</td>\n",
              "      <td>0.059442</td>\n",
              "    </tr>\n",
              "    <tr>\n",
              "      <th>4</th>\n",
              "      <td>0.000015</td>\n",
              "      <td>0.000000</td>\n",
              "      <td>0.000000</td>\n",
              "      <td>0.000000</td>\n",
              "      <td>0.000000</td>\n",
              "      <td>0.000000</td>\n",
              "      <td>0.948266</td>\n",
              "    </tr>\n",
              "    <tr>\n",
              "      <th>5</th>\n",
              "      <td>0.336852</td>\n",
              "      <td>0.359075</td>\n",
              "      <td>0.333872</td>\n",
              "      <td>0.341225</td>\n",
              "      <td>0.152353</td>\n",
              "      <td>0.002012</td>\n",
              "      <td>0.762867</td>\n",
              "    </tr>\n",
              "    <tr>\n",
              "      <th>6</th>\n",
              "      <td>0.349129</td>\n",
              "      <td>0.292835</td>\n",
              "      <td>0.347777</td>\n",
              "      <td>0.625018</td>\n",
              "      <td>0.229657</td>\n",
              "      <td>0.003824</td>\n",
              "      <td>1.000000</td>\n",
              "    </tr>\n",
              "    <tr>\n",
              "      <th>7</th>\n",
              "      <td>0.076465</td>\n",
              "      <td>0.077081</td>\n",
              "      <td>0.108438</td>\n",
              "      <td>1.000000</td>\n",
              "      <td>1.000000</td>\n",
              "      <td>0.021175</td>\n",
              "      <td>0.152744</td>\n",
              "    </tr>\n",
              "  </tbody>\n",
              "</table>\n",
              "</div>"
            ],
            "text/plain": [
              "     신규가맹점수    해지가맹점수    매출가맹점수    카드매출금액    카드매출건수    점당매출금액    건당매출금액\n",
              "0  0.000000  0.000000  0.000092  0.040890  0.059291  1.000000  0.000000\n",
              "1  0.217626  0.199793  0.193803  0.111334  0.082968  0.000966  0.321005\n",
              "2  0.267484  0.189207  0.331295  0.973140  0.681161  0.006488  0.363693\n",
              "3  1.000000  1.000000  1.000000  0.544172  0.671446  0.000895  0.059442\n",
              "4  0.000015  0.000000  0.000000  0.000000  0.000000  0.000000  0.948266\n",
              "5  0.336852  0.359075  0.333872  0.341225  0.152353  0.002012  0.762867\n",
              "6  0.349129  0.292835  0.347777  0.625018  0.229657  0.003824  1.000000\n",
              "7  0.076465  0.077081  0.108438  1.000000  1.000000  0.021175  0.152744"
            ]
          },
          "metadata": {
            "tags": []
          },
          "execution_count": 16
        }
      ]
    },
    {
      "cell_type": "code",
      "metadata": {
        "colab": {
          "base_uri": "https://localhost:8080/",
          "height": 296
        },
        "id": "77-VylYYRm3g",
        "outputId": "94184ea1-49c8-457b-aa1b-e3dd8164d66a"
      },
      "source": [
        "names = pd.DataFrame(group['업종대분류'])\n",
        "names.reset_index(inplace=True, drop=True)\n",
        "names"
      ],
      "execution_count": 17,
      "outputs": [
        {
          "output_type": "execute_result",
          "data": {
            "text/html": [
              "<div>\n",
              "<style scoped>\n",
              "    .dataframe tbody tr th:only-of-type {\n",
              "        vertical-align: middle;\n",
              "    }\n",
              "\n",
              "    .dataframe tbody tr th {\n",
              "        vertical-align: top;\n",
              "    }\n",
              "\n",
              "    .dataframe thead th {\n",
              "        text-align: right;\n",
              "    }\n",
              "</style>\n",
              "<table border=\"1\" class=\"dataframe\">\n",
              "  <thead>\n",
              "    <tr style=\"text-align: right;\">\n",
              "      <th></th>\n",
              "      <th>업종대분류</th>\n",
              "    </tr>\n",
              "  </thead>\n",
              "  <tbody>\n",
              "    <tr>\n",
              "      <th>0</th>\n",
              "      <td>기타</td>\n",
              "    </tr>\n",
              "    <tr>\n",
              "      <th>1</th>\n",
              "      <td>문화레져</td>\n",
              "    </tr>\n",
              "    <tr>\n",
              "      <th>2</th>\n",
              "      <td>생활서비스</td>\n",
              "    </tr>\n",
              "    <tr>\n",
              "      <th>3</th>\n",
              "      <td>음식</td>\n",
              "    </tr>\n",
              "    <tr>\n",
              "      <th>4</th>\n",
              "      <td>음식</td>\n",
              "    </tr>\n",
              "    <tr>\n",
              "      <th>5</th>\n",
              "      <td>일반유통</td>\n",
              "    </tr>\n",
              "    <tr>\n",
              "      <th>6</th>\n",
              "      <td>전문서비스</td>\n",
              "    </tr>\n",
              "    <tr>\n",
              "      <th>7</th>\n",
              "      <td>종합유통</td>\n",
              "    </tr>\n",
              "  </tbody>\n",
              "</table>\n",
              "</div>"
            ],
            "text/plain": [
              "   업종대분류\n",
              "0     기타\n",
              "1   문화레져\n",
              "2  생활서비스\n",
              "3     음식\n",
              "4    음식 \n",
              "5   일반유통\n",
              "6  전문서비스\n",
              "7   종합유통"
            ]
          },
          "metadata": {
            "tags": []
          },
          "execution_count": 17
        }
      ]
    },
    {
      "cell_type": "code",
      "metadata": {
        "colab": {
          "base_uri": "https://localhost:8080/",
          "height": 296
        },
        "id": "xW6FWIEtRqdP",
        "outputId": "8c008eab-b005-4d9e-de01-3366d45c6e9f"
      },
      "source": [
        "# names와 결합\n",
        "result = pd.concat([scaled, names], axis=1)\n",
        "result = pd.concat([result, predict], axis=1)\n",
        "result"
      ],
      "execution_count": 18,
      "outputs": [
        {
          "output_type": "execute_result",
          "data": {
            "text/html": [
              "<div>\n",
              "<style scoped>\n",
              "    .dataframe tbody tr th:only-of-type {\n",
              "        vertical-align: middle;\n",
              "    }\n",
              "\n",
              "    .dataframe tbody tr th {\n",
              "        vertical-align: top;\n",
              "    }\n",
              "\n",
              "    .dataframe thead th {\n",
              "        text-align: right;\n",
              "    }\n",
              "</style>\n",
              "<table border=\"1\" class=\"dataframe\">\n",
              "  <thead>\n",
              "    <tr style=\"text-align: right;\">\n",
              "      <th></th>\n",
              "      <th>신규가맹점수</th>\n",
              "      <th>해지가맹점수</th>\n",
              "      <th>매출가맹점수</th>\n",
              "      <th>카드매출금액</th>\n",
              "      <th>카드매출건수</th>\n",
              "      <th>점당매출금액</th>\n",
              "      <th>건당매출금액</th>\n",
              "      <th>업종대분류</th>\n",
              "      <th>Cluster</th>\n",
              "    </tr>\n",
              "  </thead>\n",
              "  <tbody>\n",
              "    <tr>\n",
              "      <th>0</th>\n",
              "      <td>0.000000</td>\n",
              "      <td>0.000000</td>\n",
              "      <td>0.000092</td>\n",
              "      <td>0.040890</td>\n",
              "      <td>0.059291</td>\n",
              "      <td>1.000000</td>\n",
              "      <td>0.000000</td>\n",
              "      <td>기타</td>\n",
              "      <td>0</td>\n",
              "    </tr>\n",
              "    <tr>\n",
              "      <th>1</th>\n",
              "      <td>0.217626</td>\n",
              "      <td>0.199793</td>\n",
              "      <td>0.193803</td>\n",
              "      <td>0.111334</td>\n",
              "      <td>0.082968</td>\n",
              "      <td>0.000966</td>\n",
              "      <td>0.321005</td>\n",
              "      <td>문화레져</td>\n",
              "      <td>0</td>\n",
              "    </tr>\n",
              "    <tr>\n",
              "      <th>2</th>\n",
              "      <td>0.267484</td>\n",
              "      <td>0.189207</td>\n",
              "      <td>0.331295</td>\n",
              "      <td>0.973140</td>\n",
              "      <td>0.681161</td>\n",
              "      <td>0.006488</td>\n",
              "      <td>0.363693</td>\n",
              "      <td>생활서비스</td>\n",
              "      <td>2</td>\n",
              "    </tr>\n",
              "    <tr>\n",
              "      <th>3</th>\n",
              "      <td>1.000000</td>\n",
              "      <td>1.000000</td>\n",
              "      <td>1.000000</td>\n",
              "      <td>0.544172</td>\n",
              "      <td>0.671446</td>\n",
              "      <td>0.000895</td>\n",
              "      <td>0.059442</td>\n",
              "      <td>음식</td>\n",
              "      <td>1</td>\n",
              "    </tr>\n",
              "    <tr>\n",
              "      <th>4</th>\n",
              "      <td>0.000015</td>\n",
              "      <td>0.000000</td>\n",
              "      <td>0.000000</td>\n",
              "      <td>0.000000</td>\n",
              "      <td>0.000000</td>\n",
              "      <td>0.000000</td>\n",
              "      <td>0.948266</td>\n",
              "      <td>음식</td>\n",
              "      <td>0</td>\n",
              "    </tr>\n",
              "    <tr>\n",
              "      <th>5</th>\n",
              "      <td>0.336852</td>\n",
              "      <td>0.359075</td>\n",
              "      <td>0.333872</td>\n",
              "      <td>0.341225</td>\n",
              "      <td>0.152353</td>\n",
              "      <td>0.002012</td>\n",
              "      <td>0.762867</td>\n",
              "      <td>일반유통</td>\n",
              "      <td>0</td>\n",
              "    </tr>\n",
              "    <tr>\n",
              "      <th>6</th>\n",
              "      <td>0.349129</td>\n",
              "      <td>0.292835</td>\n",
              "      <td>0.347777</td>\n",
              "      <td>0.625018</td>\n",
              "      <td>0.229657</td>\n",
              "      <td>0.003824</td>\n",
              "      <td>1.000000</td>\n",
              "      <td>전문서비스</td>\n",
              "      <td>0</td>\n",
              "    </tr>\n",
              "    <tr>\n",
              "      <th>7</th>\n",
              "      <td>0.076465</td>\n",
              "      <td>0.077081</td>\n",
              "      <td>0.108438</td>\n",
              "      <td>1.000000</td>\n",
              "      <td>1.000000</td>\n",
              "      <td>0.021175</td>\n",
              "      <td>0.152744</td>\n",
              "      <td>종합유통</td>\n",
              "      <td>2</td>\n",
              "    </tr>\n",
              "  </tbody>\n",
              "</table>\n",
              "</div>"
            ],
            "text/plain": [
              "     신규가맹점수    해지가맹점수    매출가맹점수    카드매출금액  ...    점당매출금액    건당매출금액  업종대분류 Cluster\n",
              "0  0.000000  0.000000  0.000092  0.040890  ...  1.000000  0.000000     기타       0\n",
              "1  0.217626  0.199793  0.193803  0.111334  ...  0.000966  0.321005   문화레져       0\n",
              "2  0.267484  0.189207  0.331295  0.973140  ...  0.006488  0.363693  생활서비스       2\n",
              "3  1.000000  1.000000  1.000000  0.544172  ...  0.000895  0.059442     음식       1\n",
              "4  0.000015  0.000000  0.000000  0.000000  ...  0.000000  0.948266    음식        0\n",
              "5  0.336852  0.359075  0.333872  0.341225  ...  0.002012  0.762867   일반유통       0\n",
              "6  0.349129  0.292835  0.347777  0.625018  ...  0.003824  1.000000  전문서비스       0\n",
              "7  0.076465  0.077081  0.108438  1.000000  ...  0.021175  0.152744   종합유통       2\n",
              "\n",
              "[8 rows x 9 columns]"
            ]
          },
          "metadata": {
            "tags": []
          },
          "execution_count": 18
        }
      ]
    },
    {
      "cell_type": "code",
      "metadata": {
        "colab": {
          "base_uri": "https://localhost:8080/",
          "height": 578
        },
        "id": "xovoYfCWR3NX",
        "outputId": "06b4b88c-f2bc-4cfd-bea0-c6060ed29cdf"
      },
      "source": [
        "def show_cluster(result, name):\n",
        "  categories = cols\n",
        "  color = ['skyblue', 'blue', 'salmon', 'green']\n",
        "\n",
        "  target = result[result['업종대분류']==name]\n",
        "\n",
        "  fig = go.Figure()\n",
        "\n",
        "  fig.add_trace(go.Scatterpolar(\n",
        "      r = cluster.values[0],\n",
        "      theta = categories,\n",
        "      fill='toself',\n",
        "      name='필수산업',\n",
        "      line_color=color[0]\n",
        "  ))\n",
        "\n",
        "  fig.add_trace(go.Scatterpolar(\n",
        "      r = cluster.values[1],\n",
        "      theta = categories,\n",
        "      fill='toself',\n",
        "      name='주류산업',\n",
        "      line_color=color[1]\n",
        "  ))\n",
        "\n",
        "  fig.add_trace(go.Scatterpolar(\n",
        "      r = cluster.values[2],\n",
        "      theta = categories,\n",
        "      fill='toself',\n",
        "      name='비주류산업',\n",
        "      line_color=color[2]\n",
        "  ))\n",
        "\n",
        "  fig.add_trace(go.Scatterpolar(\n",
        "      r = target.values[0],\n",
        "      theta = categories,\n",
        "      fill='toself',\n",
        "      name=name,\n",
        "      line_color=color[3]\n",
        "  ))\n",
        "\n",
        "  fig.update_layout(\n",
        "    polar=dict(\n",
        "      radialaxis=dict(\n",
        "        title=str(target['Cluster']),\n",
        "        visible=True,\n",
        "      )),\n",
        "  )\n",
        "  print(target['Cluster'])\n",
        "  fig.show()\n",
        "\n",
        "# 클라우드 맥주 클러스터링 결과\n",
        "show_cluster(result, '전문서비스')"
      ],
      "execution_count": 21,
      "outputs": [
        {
          "output_type": "stream",
          "text": [
            "6    0\n",
            "Name: Cluster, dtype: int32\n"
          ],
          "name": "stdout"
        },
        {
          "output_type": "display_data",
          "data": {
            "text/html": [
              "<html>\n",
              "<head><meta charset=\"utf-8\" /></head>\n",
              "<body>\n",
              "    <div>\n",
              "            <script src=\"https://cdnjs.cloudflare.com/ajax/libs/mathjax/2.7.5/MathJax.js?config=TeX-AMS-MML_SVG\"></script><script type=\"text/javascript\">if (window.MathJax) {MathJax.Hub.Config({SVG: {font: \"STIX-Web\"}});}</script>\n",
              "                <script type=\"text/javascript\">window.PlotlyConfig = {MathJaxConfig: 'local'};</script>\n",
              "        <script src=\"https://cdn.plot.ly/plotly-latest.min.js\"></script>    \n",
              "            <div id=\"a749085e-05b0-491f-9dc9-9dcceb1886e0\" class=\"plotly-graph-div\" style=\"height:525px; width:100%;\"></div>\n",
              "            <script type=\"text/javascript\">\n",
              "                \n",
              "                    window.PLOTLYENV=window.PLOTLYENV || {};\n",
              "                    \n",
              "                if (document.getElementById(\"a749085e-05b0-491f-9dc9-9dcceb1886e0\")) {\n",
              "                    Plotly.newPlot(\n",
              "                        'a749085e-05b0-491f-9dc9-9dcceb1886e0',\n",
              "                        [{\"fill\": \"toself\", \"line\": {\"color\": \"skyblue\"}, \"name\": \"\\ud544\\uc218\\uc0b0\\uc5c5\", \"r\": [0.1719744269265897, 0.1331438843695526, 0.2198668578070615, 0.9865698362856311, 0.8405806580621267, 0.013831568137048889, 0.25821823897267826], \"theta\": [\"\\uc2e0\\uaddc\\uac00\\ub9f9\\uc810\\uc218\", \"\\ud574\\uc9c0\\uac00\\ub9f9\\uc810\\uc218\", \"\\ub9e4\\ucd9c\\uac00\\ub9f9\\uc810\\uc218\", \"\\uce74\\ub4dc\\ub9e4\\ucd9c\\uae08\\uc561\", \"\\uce74\\ub4dc\\ub9e4\\ucd9c\\uac74\\uc218\", \"\\uc810\\ub2f9\\ub9e4\\ucd9c\\uae08\\uc561\", \"\\uac74\\ub2f9\\ub9e4\\ucd9c\\uae08\\uc561\"], \"type\": \"scatterpolar\"}, {\"fill\": \"toself\", \"line\": {\"color\": \"blue\"}, \"name\": \"\\uc8fc\\ub958\\uc0b0\\uc5c5\", \"r\": [1.0, 1.0, 1.0, 0.5441722108250591, 0.6714460283489412, 0.0008952034822038157, 0.05944219643514026], \"theta\": [\"\\uc2e0\\uaddc\\uac00\\ub9f9\\uc810\\uc218\", \"\\ud574\\uc9c0\\uac00\\ub9f9\\uc810\\uc218\", \"\\ub9e4\\ucd9c\\uac00\\ub9f9\\uc810\\uc218\", \"\\uce74\\ub4dc\\ub9e4\\ucd9c\\uae08\\uc561\", \"\\uce74\\ub4dc\\ub9e4\\ucd9c\\uac74\\uc218\", \"\\uc810\\ub2f9\\ub9e4\\ucd9c\\uae08\\uc561\", \"\\uac74\\ub2f9\\ub9e4\\ucd9c\\uae08\\uc561\"], \"type\": \"scatterpolar\"}, {\"fill\": \"toself\", \"line\": {\"color\": \"salmon\"}, \"name\": \"\\ube44\\uc8fc\\ub958\\uc0b0\\uc5c5\", \"r\": [0.1807243707796194, 0.17034064497385243, 0.1751089429726734, 0.22369319203466745, 0.10485364337211384, 0.20136029875640638, 0.6064274487509613], \"theta\": [\"\\uc2e0\\uaddc\\uac00\\ub9f9\\uc810\\uc218\", \"\\ud574\\uc9c0\\uac00\\ub9f9\\uc810\\uc218\", \"\\ub9e4\\ucd9c\\uac00\\ub9f9\\uc810\\uc218\", \"\\uce74\\ub4dc\\ub9e4\\ucd9c\\uae08\\uc561\", \"\\uce74\\ub4dc\\ub9e4\\ucd9c\\uac74\\uc218\", \"\\uc810\\ub2f9\\ub9e4\\ucd9c\\uae08\\uc561\", \"\\uac74\\ub2f9\\ub9e4\\ucd9c\\uae08\\uc561\"], \"type\": \"scatterpolar\"}, {\"fill\": \"toself\", \"line\": {\"color\": \"green\"}, \"name\": \"\\uc804\\ubb38\\uc11c\\ube44\\uc2a4\", \"r\": [0.34912934764706766, 0.29283483439860547, 0.3477766786065301, 0.6250178550425842, 0.2296569853255827, 0.003823546355008064, 0.9999999999999998, \"\\uc804\\ubb38\\uc11c\\ube44\\uc2a4\", 0], \"theta\": [\"\\uc2e0\\uaddc\\uac00\\ub9f9\\uc810\\uc218\", \"\\ud574\\uc9c0\\uac00\\ub9f9\\uc810\\uc218\", \"\\ub9e4\\ucd9c\\uac00\\ub9f9\\uc810\\uc218\", \"\\uce74\\ub4dc\\ub9e4\\ucd9c\\uae08\\uc561\", \"\\uce74\\ub4dc\\ub9e4\\ucd9c\\uac74\\uc218\", \"\\uc810\\ub2f9\\ub9e4\\ucd9c\\uae08\\uc561\", \"\\uac74\\ub2f9\\ub9e4\\ucd9c\\uae08\\uc561\"], \"type\": \"scatterpolar\"}],\n",
              "                        {\"polar\": {\"radialaxis\": {\"title\": {\"text\": \"6    0\\nName: Cluster, dtype: int32\"}, \"visible\": true}}, \"template\": {\"data\": {\"bar\": [{\"error_x\": {\"color\": \"#2a3f5f\"}, \"error_y\": {\"color\": \"#2a3f5f\"}, \"marker\": {\"line\": {\"color\": \"#E5ECF6\", \"width\": 0.5}}, \"type\": \"bar\"}], \"barpolar\": [{\"marker\": {\"line\": {\"color\": \"#E5ECF6\", \"width\": 0.5}}, \"type\": \"barpolar\"}], \"carpet\": [{\"aaxis\": {\"endlinecolor\": \"#2a3f5f\", \"gridcolor\": \"white\", \"linecolor\": \"white\", \"minorgridcolor\": \"white\", \"startlinecolor\": \"#2a3f5f\"}, \"baxis\": {\"endlinecolor\": \"#2a3f5f\", \"gridcolor\": \"white\", \"linecolor\": \"white\", \"minorgridcolor\": \"white\", \"startlinecolor\": \"#2a3f5f\"}, \"type\": \"carpet\"}], \"choropleth\": [{\"colorbar\": {\"outlinewidth\": 0, \"ticks\": \"\"}, \"type\": \"choropleth\"}], \"contour\": [{\"colorbar\": {\"outlinewidth\": 0, \"ticks\": \"\"}, \"colorscale\": [[0.0, \"#0d0887\"], [0.1111111111111111, \"#46039f\"], [0.2222222222222222, \"#7201a8\"], [0.3333333333333333, \"#9c179e\"], [0.4444444444444444, \"#bd3786\"], [0.5555555555555556, \"#d8576b\"], [0.6666666666666666, \"#ed7953\"], [0.7777777777777778, \"#fb9f3a\"], [0.8888888888888888, \"#fdca26\"], [1.0, \"#f0f921\"]], \"type\": \"contour\"}], \"contourcarpet\": [{\"colorbar\": {\"outlinewidth\": 0, \"ticks\": \"\"}, \"type\": \"contourcarpet\"}], \"heatmap\": [{\"colorbar\": {\"outlinewidth\": 0, \"ticks\": \"\"}, \"colorscale\": [[0.0, \"#0d0887\"], [0.1111111111111111, \"#46039f\"], [0.2222222222222222, \"#7201a8\"], [0.3333333333333333, \"#9c179e\"], [0.4444444444444444, \"#bd3786\"], [0.5555555555555556, \"#d8576b\"], [0.6666666666666666, \"#ed7953\"], [0.7777777777777778, \"#fb9f3a\"], [0.8888888888888888, \"#fdca26\"], [1.0, \"#f0f921\"]], \"type\": \"heatmap\"}], \"heatmapgl\": [{\"colorbar\": {\"outlinewidth\": 0, \"ticks\": \"\"}, \"colorscale\": [[0.0, \"#0d0887\"], [0.1111111111111111, \"#46039f\"], [0.2222222222222222, \"#7201a8\"], [0.3333333333333333, \"#9c179e\"], [0.4444444444444444, \"#bd3786\"], [0.5555555555555556, \"#d8576b\"], [0.6666666666666666, \"#ed7953\"], [0.7777777777777778, \"#fb9f3a\"], [0.8888888888888888, \"#fdca26\"], [1.0, \"#f0f921\"]], \"type\": \"heatmapgl\"}], \"histogram\": [{\"marker\": {\"colorbar\": {\"outlinewidth\": 0, \"ticks\": \"\"}}, \"type\": \"histogram\"}], \"histogram2d\": [{\"colorbar\": {\"outlinewidth\": 0, \"ticks\": \"\"}, \"colorscale\": [[0.0, \"#0d0887\"], [0.1111111111111111, \"#46039f\"], [0.2222222222222222, \"#7201a8\"], [0.3333333333333333, \"#9c179e\"], [0.4444444444444444, \"#bd3786\"], [0.5555555555555556, \"#d8576b\"], [0.6666666666666666, \"#ed7953\"], [0.7777777777777778, \"#fb9f3a\"], [0.8888888888888888, \"#fdca26\"], [1.0, \"#f0f921\"]], \"type\": \"histogram2d\"}], \"histogram2dcontour\": [{\"colorbar\": {\"outlinewidth\": 0, \"ticks\": \"\"}, \"colorscale\": [[0.0, \"#0d0887\"], [0.1111111111111111, \"#46039f\"], [0.2222222222222222, \"#7201a8\"], [0.3333333333333333, \"#9c179e\"], [0.4444444444444444, \"#bd3786\"], [0.5555555555555556, \"#d8576b\"], [0.6666666666666666, \"#ed7953\"], [0.7777777777777778, \"#fb9f3a\"], [0.8888888888888888, \"#fdca26\"], [1.0, \"#f0f921\"]], \"type\": \"histogram2dcontour\"}], \"mesh3d\": [{\"colorbar\": {\"outlinewidth\": 0, \"ticks\": \"\"}, \"type\": \"mesh3d\"}], \"parcoords\": [{\"line\": {\"colorbar\": {\"outlinewidth\": 0, \"ticks\": \"\"}}, \"type\": \"parcoords\"}], \"pie\": [{\"automargin\": true, \"type\": \"pie\"}], \"scatter\": [{\"marker\": {\"colorbar\": {\"outlinewidth\": 0, \"ticks\": \"\"}}, \"type\": \"scatter\"}], \"scatter3d\": [{\"line\": {\"colorbar\": {\"outlinewidth\": 0, \"ticks\": \"\"}}, \"marker\": {\"colorbar\": {\"outlinewidth\": 0, \"ticks\": \"\"}}, \"type\": \"scatter3d\"}], \"scattercarpet\": [{\"marker\": {\"colorbar\": {\"outlinewidth\": 0, \"ticks\": \"\"}}, \"type\": \"scattercarpet\"}], \"scattergeo\": [{\"marker\": {\"colorbar\": {\"outlinewidth\": 0, \"ticks\": \"\"}}, \"type\": \"scattergeo\"}], \"scattergl\": [{\"marker\": {\"colorbar\": {\"outlinewidth\": 0, \"ticks\": \"\"}}, \"type\": \"scattergl\"}], \"scattermapbox\": [{\"marker\": {\"colorbar\": {\"outlinewidth\": 0, \"ticks\": \"\"}}, \"type\": \"scattermapbox\"}], \"scatterpolar\": [{\"marker\": {\"colorbar\": {\"outlinewidth\": 0, \"ticks\": \"\"}}, \"type\": \"scatterpolar\"}], \"scatterpolargl\": [{\"marker\": {\"colorbar\": {\"outlinewidth\": 0, \"ticks\": \"\"}}, \"type\": \"scatterpolargl\"}], \"scatterternary\": [{\"marker\": {\"colorbar\": {\"outlinewidth\": 0, \"ticks\": \"\"}}, \"type\": \"scatterternary\"}], \"surface\": [{\"colorbar\": {\"outlinewidth\": 0, \"ticks\": \"\"}, \"colorscale\": [[0.0, \"#0d0887\"], [0.1111111111111111, \"#46039f\"], [0.2222222222222222, \"#7201a8\"], [0.3333333333333333, \"#9c179e\"], [0.4444444444444444, \"#bd3786\"], [0.5555555555555556, \"#d8576b\"], [0.6666666666666666, \"#ed7953\"], [0.7777777777777778, \"#fb9f3a\"], [0.8888888888888888, \"#fdca26\"], [1.0, \"#f0f921\"]], \"type\": \"surface\"}], \"table\": [{\"cells\": {\"fill\": {\"color\": \"#EBF0F8\"}, \"line\": {\"color\": \"white\"}}, \"header\": {\"fill\": {\"color\": \"#C8D4E3\"}, \"line\": {\"color\": \"white\"}}, \"type\": \"table\"}]}, \"layout\": {\"annotationdefaults\": {\"arrowcolor\": \"#2a3f5f\", \"arrowhead\": 0, \"arrowwidth\": 1}, \"coloraxis\": {\"colorbar\": {\"outlinewidth\": 0, \"ticks\": \"\"}}, \"colorscale\": {\"diverging\": [[0, \"#8e0152\"], [0.1, \"#c51b7d\"], [0.2, \"#de77ae\"], [0.3, \"#f1b6da\"], [0.4, \"#fde0ef\"], [0.5, \"#f7f7f7\"], [0.6, \"#e6f5d0\"], [0.7, \"#b8e186\"], [0.8, \"#7fbc41\"], [0.9, \"#4d9221\"], [1, \"#276419\"]], \"sequential\": [[0.0, \"#0d0887\"], [0.1111111111111111, \"#46039f\"], [0.2222222222222222, \"#7201a8\"], [0.3333333333333333, \"#9c179e\"], [0.4444444444444444, \"#bd3786\"], [0.5555555555555556, \"#d8576b\"], [0.6666666666666666, \"#ed7953\"], [0.7777777777777778, \"#fb9f3a\"], [0.8888888888888888, \"#fdca26\"], [1.0, \"#f0f921\"]], \"sequentialminus\": [[0.0, \"#0d0887\"], [0.1111111111111111, \"#46039f\"], [0.2222222222222222, \"#7201a8\"], [0.3333333333333333, \"#9c179e\"], [0.4444444444444444, \"#bd3786\"], [0.5555555555555556, \"#d8576b\"], [0.6666666666666666, \"#ed7953\"], [0.7777777777777778, \"#fb9f3a\"], [0.8888888888888888, \"#fdca26\"], [1.0, \"#f0f921\"]]}, \"colorway\": [\"#636efa\", \"#EF553B\", \"#00cc96\", \"#ab63fa\", \"#FFA15A\", \"#19d3f3\", \"#FF6692\", \"#B6E880\", \"#FF97FF\", \"#FECB52\"], \"font\": {\"color\": \"#2a3f5f\"}, \"geo\": {\"bgcolor\": \"white\", \"lakecolor\": \"white\", \"landcolor\": \"#E5ECF6\", \"showlakes\": true, \"showland\": true, \"subunitcolor\": \"white\"}, \"hoverlabel\": {\"align\": \"left\"}, \"hovermode\": \"closest\", \"mapbox\": {\"style\": \"light\"}, \"paper_bgcolor\": \"white\", \"plot_bgcolor\": \"#E5ECF6\", \"polar\": {\"angularaxis\": {\"gridcolor\": \"white\", \"linecolor\": \"white\", \"ticks\": \"\"}, \"bgcolor\": \"#E5ECF6\", \"radialaxis\": {\"gridcolor\": \"white\", \"linecolor\": \"white\", \"ticks\": \"\"}}, \"scene\": {\"xaxis\": {\"backgroundcolor\": \"#E5ECF6\", \"gridcolor\": \"white\", \"gridwidth\": 2, \"linecolor\": \"white\", \"showbackground\": true, \"ticks\": \"\", \"zerolinecolor\": \"white\"}, \"yaxis\": {\"backgroundcolor\": \"#E5ECF6\", \"gridcolor\": \"white\", \"gridwidth\": 2, \"linecolor\": \"white\", \"showbackground\": true, \"ticks\": \"\", \"zerolinecolor\": \"white\"}, \"zaxis\": {\"backgroundcolor\": \"#E5ECF6\", \"gridcolor\": \"white\", \"gridwidth\": 2, \"linecolor\": \"white\", \"showbackground\": true, \"ticks\": \"\", \"zerolinecolor\": \"white\"}}, \"shapedefaults\": {\"line\": {\"color\": \"#2a3f5f\"}}, \"ternary\": {\"aaxis\": {\"gridcolor\": \"white\", \"linecolor\": \"white\", \"ticks\": \"\"}, \"baxis\": {\"gridcolor\": \"white\", \"linecolor\": \"white\", \"ticks\": \"\"}, \"bgcolor\": \"#E5ECF6\", \"caxis\": {\"gridcolor\": \"white\", \"linecolor\": \"white\", \"ticks\": \"\"}}, \"title\": {\"x\": 0.05}, \"xaxis\": {\"automargin\": true, \"gridcolor\": \"white\", \"linecolor\": \"white\", \"ticks\": \"\", \"title\": {\"standoff\": 15}, \"zerolinecolor\": \"white\", \"zerolinewidth\": 2}, \"yaxis\": {\"automargin\": true, \"gridcolor\": \"white\", \"linecolor\": \"white\", \"ticks\": \"\", \"title\": {\"standoff\": 15}, \"zerolinecolor\": \"white\", \"zerolinewidth\": 2}}}},\n",
              "                        {\"responsive\": true}\n",
              "                    ).then(function(){\n",
              "                            \n",
              "var gd = document.getElementById('a749085e-05b0-491f-9dc9-9dcceb1886e0');\n",
              "var x = new MutationObserver(function (mutations, observer) {{\n",
              "        var display = window.getComputedStyle(gd).display;\n",
              "        if (!display || display === 'none') {{\n",
              "            console.log([gd, 'removed!']);\n",
              "            Plotly.purge(gd);\n",
              "            observer.disconnect();\n",
              "        }}\n",
              "}});\n",
              "\n",
              "// Listen for the removal of the full notebook cells\n",
              "var notebookContainer = gd.closest('#notebook-container');\n",
              "if (notebookContainer) {{\n",
              "    x.observe(notebookContainer, {childList: true});\n",
              "}}\n",
              "\n",
              "// Listen for the clearing of the current output cell\n",
              "var outputEl = gd.closest('.output');\n",
              "if (outputEl) {{\n",
              "    x.observe(outputEl, {childList: true});\n",
              "}}\n",
              "\n",
              "                        })\n",
              "                };\n",
              "                \n",
              "            </script>\n",
              "        </div>\n",
              "</body>\n",
              "</html>"
            ]
          },
          "metadata": {
            "tags": []
          }
        }
      ]
    },
    {
      "cell_type": "code",
      "metadata": {
        "id": "GJrn8uf-R9-V"
      },
      "source": [
        ""
      ],
      "execution_count": null,
      "outputs": []
    }
  ]
}