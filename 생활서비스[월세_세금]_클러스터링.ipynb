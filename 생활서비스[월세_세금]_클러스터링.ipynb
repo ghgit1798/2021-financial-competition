{
  "nbformat": 4,
  "nbformat_minor": 0,
  "metadata": {
    "colab": {
      "name": "생활서비스[월세/세금] 클러스터링.ipynb",
      "provenance": [],
      "collapsed_sections": [],
      "authorship_tag": "ABX9TyM7XkpoJEsfhKe1V9QtA0Fr",
      "include_colab_link": true
    },
    "kernelspec": {
      "name": "python3",
      "display_name": "Python 3"
    },
    "language_info": {
      "name": "python"
    }
  },
  "cells": [
    {
      "cell_type": "markdown",
      "metadata": {
        "id": "view-in-github",
        "colab_type": "text"
      },
      "source": [
        "<a href=\"https://colab.research.google.com/github/ghgit1798/2021-financial-competition/blob/Guhyeon/%EC%83%9D%ED%99%9C%EC%84%9C%EB%B9%84%EC%8A%A4%5B%EC%9B%94%EC%84%B8_%EC%84%B8%EA%B8%88%5D_%ED%81%B4%EB%9F%AC%EC%8A%A4%ED%84%B0%EB%A7%81.ipynb\" target=\"_parent\"><img src=\"https://colab.research.google.com/assets/colab-badge.svg\" alt=\"Open In Colab\"/></a>"
      ]
    },
    {
      "cell_type": "code",
      "metadata": {
        "id": "etaTaaaDNOI7"
      },
      "source": [
        "import pandas as pd\n",
        "import plotly.graph_objects as go\n",
        "from matplotlib import pyplot as plt\n",
        "\n",
        "from sklearn.cluster import KMeans\n",
        "from sklearn.preprocessing import MinMaxScaler, RobustScaler, StandardScaler"
      ],
      "execution_count": null,
      "outputs": []
    },
    {
      "cell_type": "code",
      "metadata": {
        "id": "WkFYRxdgO2Ty"
      },
      "source": [
        "sh = pd.read_csv('신한카드_업종대분류 전처리완료.csv', index_col=0, encoding='utf-8')"
      ],
      "execution_count": null,
      "outputs": []
    },
    {
      "cell_type": "code",
      "metadata": {
        "colab": {
          "base_uri": "https://localhost:8080/"
        },
        "id": "p6rM0w3RdALO",
        "outputId": "e922fb2c-0a3d-43b1-8af5-fc9b5db830e5"
      },
      "source": [
        "sh.columns"
      ],
      "execution_count": null,
      "outputs": [
        {
          "output_type": "execute_result",
          "data": {
            "text/plain": [
              "Index(['기준년월', '광역시도명', '업종대분류', '업종중분류', '업종소분류', '신규가맹점수', '해지가맹점수',\n",
              "       '매출가맹점수', '카드매출금액', '카드매출건수', '점당매출금액', '건당매출금액'],\n",
              "      dtype='object')"
            ]
          },
          "metadata": {},
          "execution_count": 19
        }
      ]
    },
    {
      "cell_type": "code",
      "metadata": {
        "colab": {
          "base_uri": "https://localhost:8080/"
        },
        "id": "b45jsiMNd7-r",
        "outputId": "6c5824a2-f8f2-49b4-d988-e8e598095b77"
      },
      "source": [
        "sh['업종대분류'].unique()"
      ],
      "execution_count": null,
      "outputs": [
        {
          "output_type": "execute_result",
          "data": {
            "text/plain": [
              "array(['문화레져', '생활서비스', '음식', '일반유통', '전문서비스', '종합유통', '기타'], dtype=object)"
            ]
          },
          "metadata": {},
          "execution_count": 20
        }
      ]
    },
    {
      "cell_type": "markdown",
      "metadata": {
        "id": "9wSG-LTgJs2w"
      },
      "source": [
        "### 카테고리 재분류 필요성\n",
        "- 따라서 **데이터의 카테고리 재분류가 필요**할 수 있다.\n",
        "- 개인교통: 교통관련 카테고리인 연료, 자동차정비, 자동차-기타, 수리점\n",
        "- 일반교통: 대중교통, 택시, 터널/유료도로/하이패스\n",
        "- 특수교통: 항공, 철도, 화물운송업, 여객선\n",
        "- 월납/세금: 월납/세금\n",
        "- 그 외 서비스: 사회단체, 세탁소, 사진, 농기구, 기계/장비 대여, 열쇠/도장 등"
      ]
    },
    {
      "cell_type": "code",
      "metadata": {
        "id": "wr0F7bg3MC4f"
      },
      "source": [
        "sh = sh[sh['업종대분류'].str.contains('생활서비스')]"
      ],
      "execution_count": null,
      "outputs": []
    },
    {
      "cell_type": "code",
      "metadata": {
        "colab": {
          "base_uri": "https://localhost:8080/"
        },
        "id": "qeB3YuXeJ71w",
        "outputId": "0eb837d0-aa93-46a5-84ff-2c4f90b3be57"
      },
      "source": [
        "sh['업종중분류'].unique()"
      ],
      "execution_count": null,
      "outputs": [
        {
          "output_type": "execute_result",
          "data": {
            "text/plain": [
              "array(['기계/장비 대여', '농기구', '대중교통', '미용/사우나/마사지', '사진', '사회단체', '세탁소',\n",
              "       '수리점', '여객선', '연료', '열쇠/도장', '월납/세금', '자동차-기타', '자동차정비', '철도',\n",
              "       '택시', '항공', '화물운송업', '터널/유료도로/하이패스'], dtype=object)"
            ]
          },
          "metadata": {},
          "execution_count": 22
        }
      ]
    },
    {
      "cell_type": "code",
      "metadata": {
        "id": "rs13cLFUJwue"
      },
      "source": [
        "personal_transport = sh[sh['업종중분류'].str.contains('연료|자동차-기타|자동차정비|수리점')]\n",
        "public_transport = sh[sh['업종중분류'].str.contains('대중교통|택시|터널/유료도로|하이패스')]\n",
        "special_transport = sh[sh['업종중분류'].str.contains('항공|철도|화물운송업|여객선')]\n",
        "etc = sh[sh['업종중분류'].str.contains('사회단체|세탁소|사진|농기구|기계/장비 대여|열쇠/도장')]\n",
        "tax = sh[sh['업종중분류'].str.contains('월납/세금')]"
      ],
      "execution_count": null,
      "outputs": []
    },
    {
      "cell_type": "code",
      "metadata": {
        "id": "-dJHa6lXL4J2"
      },
      "source": [
        "sh = tax"
      ],
      "execution_count": null,
      "outputs": []
    },
    {
      "cell_type": "code",
      "metadata": {
        "colab": {
          "base_uri": "https://localhost:8080/"
        },
        "id": "gexF2UIEYMTH",
        "outputId": "bf51ab92-ffe4-4d22-fcde-43b2ddf4cdc8"
      },
      "source": [
        "sh['업종소분류'].unique()"
      ],
      "execution_count": null,
      "outputs": [
        {
          "output_type": "execute_result",
          "data": {
            "text/plain": [
              "array(['월납/세금', '통신요금'], dtype=object)"
            ]
          },
          "metadata": {},
          "execution_count": 25
        }
      ]
    },
    {
      "cell_type": "code",
      "metadata": {
        "colab": {
          "base_uri": "https://localhost:8080/",
          "height": 418
        },
        "id": "IxyOlqulMJij",
        "outputId": "9ce0bde0-0fd0-4961-86ff-58383cc5cea8"
      },
      "source": [
        "sh"
      ],
      "execution_count": null,
      "outputs": [
        {
          "output_type": "execute_result",
          "data": {
            "text/html": [
              "<div>\n",
              "<style scoped>\n",
              "    .dataframe tbody tr th:only-of-type {\n",
              "        vertical-align: middle;\n",
              "    }\n",
              "\n",
              "    .dataframe tbody tr th {\n",
              "        vertical-align: top;\n",
              "    }\n",
              "\n",
              "    .dataframe thead th {\n",
              "        text-align: right;\n",
              "    }\n",
              "</style>\n",
              "<table border=\"1\" class=\"dataframe\">\n",
              "  <thead>\n",
              "    <tr style=\"text-align: right;\">\n",
              "      <th></th>\n",
              "      <th>기준년월</th>\n",
              "      <th>광역시도명</th>\n",
              "      <th>업종대분류</th>\n",
              "      <th>업종중분류</th>\n",
              "      <th>업종소분류</th>\n",
              "      <th>신규가맹점수</th>\n",
              "      <th>해지가맹점수</th>\n",
              "      <th>매출가맹점수</th>\n",
              "      <th>카드매출금액</th>\n",
              "      <th>카드매출건수</th>\n",
              "      <th>점당매출금액</th>\n",
              "      <th>건당매출금액</th>\n",
              "    </tr>\n",
              "  </thead>\n",
              "  <tbody>\n",
              "    <tr>\n",
              "      <th>98</th>\n",
              "      <td>201903</td>\n",
              "      <td>강원</td>\n",
              "      <td>생활서비스</td>\n",
              "      <td>월납/세금</td>\n",
              "      <td>월납/세금</td>\n",
              "      <td>0</td>\n",
              "      <td>0</td>\n",
              "      <td>23</td>\n",
              "      <td>1620425000</td>\n",
              "      <td>14917</td>\n",
              "      <td>70453273</td>\n",
              "      <td>108629</td>\n",
              "    </tr>\n",
              "    <tr>\n",
              "      <th>99</th>\n",
              "      <td>201903</td>\n",
              "      <td>강원</td>\n",
              "      <td>생활서비스</td>\n",
              "      <td>월납/세금</td>\n",
              "      <td>통신요금</td>\n",
              "      <td>0</td>\n",
              "      <td>0</td>\n",
              "      <td>0</td>\n",
              "      <td>0</td>\n",
              "      <td>0</td>\n",
              "      <td>0</td>\n",
              "      <td>0</td>\n",
              "    </tr>\n",
              "    <tr>\n",
              "      <th>437</th>\n",
              "      <td>201903</td>\n",
              "      <td>경기</td>\n",
              "      <td>생활서비스</td>\n",
              "      <td>월납/세금</td>\n",
              "      <td>월납/세금</td>\n",
              "      <td>1</td>\n",
              "      <td>0</td>\n",
              "      <td>123</td>\n",
              "      <td>871581000</td>\n",
              "      <td>30011</td>\n",
              "      <td>7086028</td>\n",
              "      <td>29042</td>\n",
              "    </tr>\n",
              "    <tr>\n",
              "      <th>438</th>\n",
              "      <td>201903</td>\n",
              "      <td>경기</td>\n",
              "      <td>생활서비스</td>\n",
              "      <td>월납/세금</td>\n",
              "      <td>통신요금</td>\n",
              "      <td>0</td>\n",
              "      <td>0</td>\n",
              "      <td>18</td>\n",
              "      <td>141988620000</td>\n",
              "      <td>2360421</td>\n",
              "      <td>7888256656</td>\n",
              "      <td>60154</td>\n",
              "    </tr>\n",
              "    <tr>\n",
              "      <th>783</th>\n",
              "      <td>201903</td>\n",
              "      <td>경남</td>\n",
              "      <td>생활서비스</td>\n",
              "      <td>월납/세금</td>\n",
              "      <td>월납/세금</td>\n",
              "      <td>0</td>\n",
              "      <td>0</td>\n",
              "      <td>77</td>\n",
              "      <td>100556000</td>\n",
              "      <td>3177</td>\n",
              "      <td>1305925</td>\n",
              "      <td>31651</td>\n",
              "    </tr>\n",
              "    <tr>\n",
              "      <th>...</th>\n",
              "      <td>...</td>\n",
              "      <td>...</td>\n",
              "      <td>...</td>\n",
              "      <td>...</td>\n",
              "      <td>...</td>\n",
              "      <td>...</td>\n",
              "      <td>...</td>\n",
              "      <td>...</td>\n",
              "      <td>...</td>\n",
              "      <td>...</td>\n",
              "      <td>...</td>\n",
              "      <td>...</td>\n",
              "    </tr>\n",
              "    <tr>\n",
              "      <th>22988</th>\n",
              "      <td>202009</td>\n",
              "      <td>제주</td>\n",
              "      <td>생활서비스</td>\n",
              "      <td>월납/세금</td>\n",
              "      <td>통신요금</td>\n",
              "      <td>0</td>\n",
              "      <td>0</td>\n",
              "      <td>0</td>\n",
              "      <td>0</td>\n",
              "      <td>0</td>\n",
              "      <td>0</td>\n",
              "      <td>0</td>\n",
              "    </tr>\n",
              "    <tr>\n",
              "      <th>23316</th>\n",
              "      <td>202009</td>\n",
              "      <td>충남</td>\n",
              "      <td>생활서비스</td>\n",
              "      <td>월납/세금</td>\n",
              "      <td>월납/세금</td>\n",
              "      <td>0</td>\n",
              "      <td>0</td>\n",
              "      <td>20</td>\n",
              "      <td>902149000</td>\n",
              "      <td>53936</td>\n",
              "      <td>45107464</td>\n",
              "      <td>16726</td>\n",
              "    </tr>\n",
              "    <tr>\n",
              "      <th>23317</th>\n",
              "      <td>202009</td>\n",
              "      <td>충남</td>\n",
              "      <td>생활서비스</td>\n",
              "      <td>월납/세금</td>\n",
              "      <td>통신요금</td>\n",
              "      <td>0</td>\n",
              "      <td>0</td>\n",
              "      <td>0</td>\n",
              "      <td>0</td>\n",
              "      <td>0</td>\n",
              "      <td>0</td>\n",
              "      <td>0</td>\n",
              "    </tr>\n",
              "    <tr>\n",
              "      <th>23653</th>\n",
              "      <td>202009</td>\n",
              "      <td>충북</td>\n",
              "      <td>생활서비스</td>\n",
              "      <td>월납/세금</td>\n",
              "      <td>월납/세금</td>\n",
              "      <td>2</td>\n",
              "      <td>0</td>\n",
              "      <td>10</td>\n",
              "      <td>670085000</td>\n",
              "      <td>40038</td>\n",
              "      <td>67008523</td>\n",
              "      <td>16736</td>\n",
              "    </tr>\n",
              "    <tr>\n",
              "      <th>23654</th>\n",
              "      <td>202009</td>\n",
              "      <td>충북</td>\n",
              "      <td>생활서비스</td>\n",
              "      <td>월납/세금</td>\n",
              "      <td>통신요금</td>\n",
              "      <td>0</td>\n",
              "      <td>0</td>\n",
              "      <td>3</td>\n",
              "      <td>2335000</td>\n",
              "      <td>97</td>\n",
              "      <td>778200</td>\n",
              "      <td>24068</td>\n",
              "    </tr>\n",
              "  </tbody>\n",
              "</table>\n",
              "<p>134 rows × 12 columns</p>\n",
              "</div>"
            ],
            "text/plain": [
              "         기준년월 광역시도명  업종대분류  업종중분류  ...        카드매출금액   카드매출건수      점당매출금액  건당매출금액\n",
              "98     201903    강원  생활서비스  월납/세금  ...    1620425000    14917    70453273  108629\n",
              "99     201903    강원  생활서비스  월납/세금  ...             0        0           0       0\n",
              "437    201903    경기  생활서비스  월납/세금  ...     871581000    30011     7086028   29042\n",
              "438    201903    경기  생활서비스  월납/세금  ...  141988620000  2360421  7888256656   60154\n",
              "783    201903    경남  생활서비스  월납/세금  ...     100556000     3177     1305925   31651\n",
              "...       ...   ...    ...    ...  ...           ...      ...         ...     ...\n",
              "22988  202009    제주  생활서비스  월납/세금  ...             0        0           0       0\n",
              "23316  202009    충남  생활서비스  월납/세금  ...     902149000    53936    45107464   16726\n",
              "23317  202009    충남  생활서비스  월납/세금  ...             0        0           0       0\n",
              "23653  202009    충북  생활서비스  월납/세금  ...     670085000    40038    67008523   16736\n",
              "23654  202009    충북  생활서비스  월납/세금  ...       2335000       97      778200   24068\n",
              "\n",
              "[134 rows x 12 columns]"
            ]
          },
          "metadata": {},
          "execution_count": 26
        }
      ]
    },
    {
      "cell_type": "code",
      "metadata": {
        "colab": {
          "base_uri": "https://localhost:8080/",
          "height": 111
        },
        "id": "hd17_7C4dP2y",
        "outputId": "fb1a98b0-da0a-4f9f-cc0b-7a9e4036c691"
      },
      "source": [
        "group = sh.groupby(by='업종소분류').sum().reset_index()\n",
        "group.drop(columns='기준년월', inplace=True)\n",
        "group"
      ],
      "execution_count": null,
      "outputs": [
        {
          "output_type": "execute_result",
          "data": {
            "text/html": [
              "<div>\n",
              "<style scoped>\n",
              "    .dataframe tbody tr th:only-of-type {\n",
              "        vertical-align: middle;\n",
              "    }\n",
              "\n",
              "    .dataframe tbody tr th {\n",
              "        vertical-align: top;\n",
              "    }\n",
              "\n",
              "    .dataframe thead th {\n",
              "        text-align: right;\n",
              "    }\n",
              "</style>\n",
              "<table border=\"1\" class=\"dataframe\">\n",
              "  <thead>\n",
              "    <tr style=\"text-align: right;\">\n",
              "      <th></th>\n",
              "      <th>업종소분류</th>\n",
              "      <th>신규가맹점수</th>\n",
              "      <th>해지가맹점수</th>\n",
              "      <th>매출가맹점수</th>\n",
              "      <th>카드매출금액</th>\n",
              "      <th>카드매출건수</th>\n",
              "      <th>점당매출금액</th>\n",
              "      <th>건당매출금액</th>\n",
              "    </tr>\n",
              "  </thead>\n",
              "  <tbody>\n",
              "    <tr>\n",
              "      <th>0</th>\n",
              "      <td>월납/세금</td>\n",
              "      <td>3</td>\n",
              "      <td>4</td>\n",
              "      <td>2228</td>\n",
              "      <td>5386542831000</td>\n",
              "      <td>18844373</td>\n",
              "      <td>48442433886</td>\n",
              "      <td>6801638</td>\n",
              "    </tr>\n",
              "    <tr>\n",
              "      <th>1</th>\n",
              "      <td>통신요금</td>\n",
              "      <td>0</td>\n",
              "      <td>0</td>\n",
              "      <td>268</td>\n",
              "      <td>1554873032000</td>\n",
              "      <td>22091118</td>\n",
              "      <td>54075125853</td>\n",
              "      <td>6840384</td>\n",
              "    </tr>\n",
              "  </tbody>\n",
              "</table>\n",
              "</div>"
            ],
            "text/plain": [
              "   업종소분류  신규가맹점수  해지가맹점수  매출가맹점수         카드매출금액    카드매출건수       점당매출금액   건당매출금액\n",
              "0  월납/세금       3       4    2228  5386542831000  18844373  48442433886  6801638\n",
              "1   통신요금       0       0     268  1554873032000  22091118  54075125853  6840384"
            ]
          },
          "metadata": {},
          "execution_count": 27
        }
      ]
    },
    {
      "cell_type": "code",
      "metadata": {
        "id": "qCU915JYQK0W"
      },
      "source": [
        "group = group[group['매출가맹점수']!=0]\n",
        "group = group[group['카드매출건수']!=0]"
      ],
      "execution_count": null,
      "outputs": []
    },
    {
      "cell_type": "code",
      "metadata": {
        "id": "KpbokjfwPiur"
      },
      "source": [
        "# 점당매출금액, 건당매출금액 재계산\n",
        "group['점당매출금액'] = group['카드매출금액']//group['매출가맹점수']\n",
        "group['건당매출금액'] = group['카드매출금액']//group['카드매출건수']"
      ],
      "execution_count": null,
      "outputs": []
    },
    {
      "cell_type": "code",
      "metadata": {
        "id": "ermW7_FkOmNq"
      },
      "source": [
        "vcols = ['매출가맹점수', '카드매출금액', '카드매출건수', '점당매출금액', '건당매출금액']"
      ],
      "execution_count": null,
      "outputs": []
    },
    {
      "cell_type": "code",
      "metadata": {
        "colab": {
          "base_uri": "https://localhost:8080/"
        },
        "id": "dQ_0-6qMPkbD",
        "outputId": "be504fad-a3ae-4847-dc24-fbe85d144d26"
      },
      "source": [
        "# 표준화 수행\n",
        "cls = group[vcols]\n",
        "cols = cls.columns\n",
        "scaler = StandardScaler()\n",
        "scaler.fit(cls)\n",
        "scaled = scaler.transform(cls)\n",
        "scaled"
      ],
      "execution_count": null,
      "outputs": [
        {
          "output_type": "execute_result",
          "data": {
            "text/plain": [
              "array([[ 1.,  1., -1., -1.,  1.],\n",
              "       [-1., -1.,  1.,  1., -1.]])"
            ]
          },
          "metadata": {},
          "execution_count": 31
        }
      ]
    },
    {
      "cell_type": "code",
      "metadata": {
        "colab": {
          "base_uri": "https://localhost:8080/",
          "height": 265
        },
        "id": "lONoyfLjPpQp",
        "outputId": "dfb226de-310a-41ee-839b-8cf6a79374f0"
      },
      "source": [
        "# screeplot 그리기\n",
        "def elbow(x):\n",
        "  sse = []\n",
        "\n",
        "  for i in range(1, 2):\n",
        "    km = KMeans(n_clusters=i)\n",
        "    km.fit(x)\n",
        "    sse.append(km.inertia_)\n",
        "    plt.plot(sse)\n",
        "  plt.show()\n",
        "\n",
        "elbow(scaled)"
      ],
      "execution_count": null,
      "outputs": [
        {
          "output_type": "display_data",
          "data": {
            "image/png": "[encoded data removed]",
            "text/plain": [
              "<Figure size 432x288 with 1 Axes>"
            ]
          },
          "metadata": {
            "needs_background": "light"
          }
        }
      ]
    },
    {
      "cell_type": "code",
      "metadata": {
        "colab": {
          "base_uri": "https://localhost:8080/",
          "height": 348
        },
        "id": "1A-FS_c1PrwF",
        "outputId": "338bb17e-5a26-4e76-eb5f-fc6d3e73a387"
      },
      "source": [
        "# cluster 수는 2개로 결정\n",
        "km = KMeans(n_clusters=3)\n",
        "km.fit(scaled)\n",
        "km.cluster_centers_"
      ],
      "execution_count": null,
      "outputs": [
        {
          "output_type": "error",
          "ename": "ValueError",
          "evalue": "ignored",
          "traceback": [
            "\u001b[0;31m---------------------------------------------------------------------------\u001b[0m",
            "\u001b[0;31mValueError\u001b[0m                                Traceback (most recent call last)",
            "\u001b[0;32m<ipython-input-33-8f4802071d2c>\u001b[0m in \u001b[0;36m<module>\u001b[0;34m()\u001b[0m\n\u001b[1;32m      1\u001b[0m \u001b[0;31m# cluster 수는 2개로 결정\u001b[0m\u001b[0;34m\u001b[0m\u001b[0;34m\u001b[0m\u001b[0;34m\u001b[0m\u001b[0m\n\u001b[1;32m      2\u001b[0m \u001b[0mkm\u001b[0m \u001b[0;34m=\u001b[0m \u001b[0mKMeans\u001b[0m\u001b[0;34m(\u001b[0m\u001b[0mn_clusters\u001b[0m\u001b[0;34m=\u001b[0m\u001b[0;36m3\u001b[0m\u001b[0;34m)\u001b[0m\u001b[0;34m\u001b[0m\u001b[0;34m\u001b[0m\u001b[0m\n\u001b[0;32m----> 3\u001b[0;31m \u001b[0mkm\u001b[0m\u001b[0;34m.\u001b[0m\u001b[0mfit\u001b[0m\u001b[0;34m(\u001b[0m\u001b[0mscaled\u001b[0m\u001b[0;34m)\u001b[0m\u001b[0;34m\u001b[0m\u001b[0;34m\u001b[0m\u001b[0m\n\u001b[0m\u001b[1;32m      4\u001b[0m \u001b[0mkm\u001b[0m\u001b[0;34m.\u001b[0m\u001b[0mcluster_centers_\u001b[0m\u001b[0;34m\u001b[0m\u001b[0;34m\u001b[0m\u001b[0m\n",
            "\u001b[0;32m/usr/local/lib/python3.7/dist-packages/sklearn/cluster/_kmeans.py\u001b[0m in \u001b[0;36mfit\u001b[0;34m(self, X, y, sample_weight)\u001b[0m\n\u001b[1;32m    861\u001b[0m         \u001b[0;32mif\u001b[0m \u001b[0m_num_samples\u001b[0m\u001b[0;34m(\u001b[0m\u001b[0mX\u001b[0m\u001b[0;34m)\u001b[0m \u001b[0;34m<\u001b[0m \u001b[0mself\u001b[0m\u001b[0;34m.\u001b[0m\u001b[0mn_clusters\u001b[0m\u001b[0;34m:\u001b[0m\u001b[0;34m\u001b[0m\u001b[0;34m\u001b[0m\u001b[0m\n\u001b[1;32m    862\u001b[0m             raise ValueError(\"n_samples=%d should be >= n_clusters=%d\" % (\n\u001b[0;32m--> 863\u001b[0;31m                 _num_samples(X), self.n_clusters))\n\u001b[0m\u001b[1;32m    864\u001b[0m \u001b[0;34m\u001b[0m\u001b[0m\n\u001b[1;32m    865\u001b[0m         \u001b[0mtol\u001b[0m \u001b[0;34m=\u001b[0m \u001b[0m_tolerance\u001b[0m\u001b[0;34m(\u001b[0m\u001b[0mX\u001b[0m\u001b[0;34m,\u001b[0m \u001b[0mself\u001b[0m\u001b[0;34m.\u001b[0m\u001b[0mtol\u001b[0m\u001b[0;34m)\u001b[0m\u001b[0;34m\u001b[0m\u001b[0;34m\u001b[0m\u001b[0m\n",
            "\u001b[0;31mValueError\u001b[0m: n_samples=2 should be >= n_clusters=3"
          ]
        }
      ]
    },
    {
      "cell_type": "code",
      "metadata": {
        "id": "bWeQPBCKQ6qL"
      },
      "source": [
        "cluster = pd.DataFrame(km.cluster_centers_, columns=cls.columns)\n",
        "cluster"
      ],
      "execution_count": null,
      "outputs": []
    },
    {
      "cell_type": "code",
      "metadata": {
        "id": "1lbmobruQ00U"
      },
      "source": [
        "predict = pd.DataFrame(km.predict(scaled))\n",
        "predict.columns = ['클러스터']\n",
        "predict"
      ],
      "execution_count": null,
      "outputs": []
    },
    {
      "cell_type": "code",
      "metadata": {
        "id": "C9zX6-F1Q2zn"
      },
      "source": [
        "scaled = pd.DataFrame(data=scaled, columns=cls.columns)\n",
        "scaled"
      ],
      "execution_count": null,
      "outputs": []
    },
    {
      "cell_type": "code",
      "metadata": {
        "id": "77-VylYYRm3g"
      },
      "source": [
        "names = pd.DataFrame(group['업종소분류'])\n",
        "names.reset_index(inplace=True, drop=True)\n",
        "names"
      ],
      "execution_count": null,
      "outputs": []
    },
    {
      "cell_type": "code",
      "metadata": {
        "id": "xW6FWIEtRqdP"
      },
      "source": [
        "# names와 결합\n",
        "result = pd.concat([scaled, names], axis=1)\n",
        "result = pd.concat([result, predict], axis=1)\n",
        "result"
      ],
      "execution_count": null,
      "outputs": []
    },
    {
      "cell_type": "code",
      "metadata": {
        "id": "3zagHmRab3zZ"
      },
      "source": [
        "# cluster labeling\n",
        "# 0번 클러스터는 가맹점수, 매출건수가 크지만 건당,점당매출은 작은 편의점 같은 산업들이 해당된다.\n",
        "# 1번 클러스터는 가맹점수, 매출건수는 작지만 건당,점당매출이 큰 유통, 전문서비스 등 음식을 제외한 산업이 해당된다.\n",
        "cluster"
      ],
      "execution_count": null,
      "outputs": []
    },
    {
      "cell_type": "code",
      "metadata": {
        "id": "xovoYfCWR3NX"
      },
      "source": [
        "def show_cluster(result, name):\n",
        "  categories = cols\n",
        "  color = ['skyblue', 'blue', 'salmon', 'green', 'orange']\n",
        "\n",
        "  target = result[result['업종소분류']==name]\n",
        "\n",
        "  fig = go.Figure()\n",
        "\n",
        "  fig.add_trace(go.Scatterpolar(\n",
        "      r = cluster.values[0],\n",
        "      theta = categories,\n",
        "      fill='toself',\n",
        "      name='Cluster0',\n",
        "      line_color=color[0]\n",
        "  ))\n",
        "\n",
        "  fig.add_trace(go.Scatterpolar(\n",
        "      r = cluster.values[1],\n",
        "      theta = categories,\n",
        "      fill='toself',\n",
        "      name='Cluster1',\n",
        "      line_color=color[1]\n",
        "  ))\n",
        "\n",
        "  fig.add_trace(go.Scatterpolar(\n",
        "      r = cluster.values[2],\n",
        "      theta = categories,\n",
        "      fill='toself',\n",
        "      name='Cluster2',\n",
        "      line_color=color[2]\n",
        "  ))\n",
        "\n",
        "  fig.add_trace(go.Scatterpolar(\n",
        "      r = target.values[0],\n",
        "      theta = categories,\n",
        "      fill='toself',\n",
        "      name=name,\n",
        "      line_color=color[3]\n",
        "  ))\n",
        "\n",
        "  # fig.add_trace(go.Scatterpolar(\n",
        "  #     r = cluster.values[3],\n",
        "  #     theta = categories,\n",
        "  #     fill='toself',\n",
        "  #     name='Cluster3',\n",
        "  #     line_color=color[3]\n",
        "  # ))\n",
        "\n",
        "  # fig.add_trace(go.Scatterpolar(\n",
        "  #     r = target.values[0],\n",
        "  #     theta = categories,\n",
        "  #     fill='toself',\n",
        "  #     name=name,\n",
        "  #     line_color=color[4]\n",
        "  # ))\n",
        "\n",
        "  fig.update_layout(\n",
        "    polar=dict(\n",
        "      radialaxis=dict(\n",
        "        title=str(target['클러스터']),\n",
        "        visible=True,\n",
        "      )),\n",
        "  )\n",
        "  print(name, target['클러스터'])\n",
        "  fig.show()\n",
        "\n",
        "# 클라우드 맥주 클러스터링 결과\n",
        "# show_cluster(result, '편의점')"
      ],
      "execution_count": null,
      "outputs": []
    },
    {
      "cell_type": "code",
      "metadata": {
        "id": "GJrn8uf-R9-V"
      },
      "source": [
        "# StandardScaler, MinMaxScaler 사용 시 Outlier에 굉장히 민감함.\n",
        "for col in sh['업종소분류'].unique():\n",
        "  show_cluster(result, col)"
      ],
      "execution_count": null,
      "outputs": []
    },
    {
      "cell_type": "markdown",
      "metadata": {
        "id": "luL1fE4SXrxJ"
      },
      "source": [
        "### 결과\n",
        "1. 여객선, 콜백, 퀵배달 은 공통된 특징을 갖고 같은 클러스터로 분류됨\n",
        "2. 철도/항공사/종합이삿짐대행 서비스는 각각 개별분류\n",
        "3. 택배업과 화물운송 분류는 유사한 특징을 갖고 같은 클러스터로 분류됨"
      ]
    },
    {
      "cell_type": "code",
      "metadata": {
        "id": "FQSIJYK6ZDz0"
      },
      "source": [
        ""
      ],
      "execution_count": null,
      "outputs": []
    }
  ]
}