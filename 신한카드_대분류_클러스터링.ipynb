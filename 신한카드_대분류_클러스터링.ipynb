{
  "nbformat": 4,
  "nbformat_minor": 0,
  "metadata": {
    "colab": {
      "name": "신한카드 대분류 클러스터링.ipynb",
      "provenance": [],
      "collapsed_sections": [],
      "authorship_tag": "ABX9TyNB6B8Rb7YfS6UmCYsGx3PT",
      "include_colab_link": true
    },
    "kernelspec": {
      "name": "python3",
      "display_name": "Python 3"
    },
    "language_info": {
      "name": "python"
    }
  },
  "cells": [
    {
      "cell_type": "markdown",
      "metadata": {
        "id": "view-in-github",
        "colab_type": "text"
      },
      "source": [
        "<a href=\"https://colab.research.google.com/github/ghgit1798/2021-financial-competition/blob/Guhyeon/%EC%8B%A0%ED%95%9C%EC%B9%B4%EB%93%9C_%EB%8C%80%EB%B6%84%EB%A5%98_%ED%81%B4%EB%9F%AC%EC%8A%A4%ED%84%B0%EB%A7%81.ipynb\" target=\"_parent\"><img src=\"https://colab.research.google.com/assets/colab-badge.svg\" alt=\"Open In Colab\"/></a>"
      ]
    },
    {
      "cell_type": "code",
      "metadata": {
        "id": "etaTaaaDNOI7"
      },
      "source": [
        "import pandas as pd\n",
        "import plotly.graph_objects as go\n",
        "from matplotlib import pyplot as plt\n",
        "\n",
        "from sklearn.cluster import KMeans\n",
        "from sklearn.preprocessing import MinMaxScaler"
      ],
      "execution_count": 66,
      "outputs": []
    },
    {
      "cell_type": "code",
      "metadata": {
        "id": "WkFYRxdgO2Ty"
      },
      "source": [
        "sh = pd.read_csv('신한카드_업종대분류 전처리완료.csv', index_col=0, encoding='utf-8')"
      ],
      "execution_count": 67,
      "outputs": []
    },
    {
      "cell_type": "code",
      "metadata": {
        "colab": {
          "base_uri": "https://localhost:8080/"
        },
        "id": "p6rM0w3RdALO",
        "outputId": "759259f4-4133-4f2a-946a-b13473e5a31b"
      },
      "source": [
        "sh.columns"
      ],
      "execution_count": 68,
      "outputs": [
        {
          "output_type": "execute_result",
          "data": {
            "text/plain": [
              "Index(['기준년월', '광역시도명', '업종대분류', '업종중분류', '업종소분류', '신규가맹점수', '해지가맹점수',\n",
              "       '매출가맹점수', '카드매출금액', '카드매출건수', '점당매출금액', '건당매출금액'],\n",
              "      dtype='object')"
            ]
          },
          "metadata": {
            "tags": []
          },
          "execution_count": 68
        }
      ]
    },
    {
      "cell_type": "code",
      "metadata": {
        "colab": {
          "base_uri": "https://localhost:8080/"
        },
        "id": "b45jsiMNd7-r",
        "outputId": "3cd2dabe-4b94-486d-aef1-080d63297c3a"
      },
      "source": [
        "og['업종대분류'].unique()"
      ],
      "execution_count": 69,
      "outputs": [
        {
          "output_type": "execute_result",
          "data": {
            "text/plain": [
              "array(['문화레져', '생활서비스', '음식', '일반유통', '전문서비스', '종합유통', nan, '기타', '음식 '],\n",
              "      dtype=object)"
            ]
          },
          "metadata": {
            "tags": []
          },
          "execution_count": 69
        }
      ]
    },
    {
      "cell_type": "code",
      "metadata": {
        "colab": {
          "base_uri": "https://localhost:8080/",
          "height": 265
        },
        "id": "hd17_7C4dP2y",
        "outputId": "96f01cda-a1f4-42bf-f210-ec42c8300d1f"
      },
      "source": [
        "group = sh.groupby(by='업종대분류').sum().reset_index()\n",
        "group.drop(columns='기준년월', inplace=True)\n",
        "group"
      ],
      "execution_count": 70,
      "outputs": [
        {
          "output_type": "execute_result",
          "data": {
            "text/html": [
              "<div>\n",
              "<style scoped>\n",
              "    .dataframe tbody tr th:only-of-type {\n",
              "        vertical-align: middle;\n",
              "    }\n",
              "\n",
              "    .dataframe tbody tr th {\n",
              "        vertical-align: top;\n",
              "    }\n",
              "\n",
              "    .dataframe thead th {\n",
              "        text-align: right;\n",
              "    }\n",
              "</style>\n",
              "<table border=\"1\" class=\"dataframe\">\n",
              "  <thead>\n",
              "    <tr style=\"text-align: right;\">\n",
              "      <th></th>\n",
              "      <th>업종대분류</th>\n",
              "      <th>신규가맹점수</th>\n",
              "      <th>해지가맹점수</th>\n",
              "      <th>매출가맹점수</th>\n",
              "      <th>카드매출금액</th>\n",
              "      <th>카드매출건수</th>\n",
              "      <th>점당매출금액</th>\n",
              "      <th>건당매출금액</th>\n",
              "    </tr>\n",
              "  </thead>\n",
              "  <tbody>\n",
              "    <tr>\n",
              "      <th>0</th>\n",
              "      <td>기타</td>\n",
              "      <td>0</td>\n",
              "      <td>0</td>\n",
              "      <td>298</td>\n",
              "      <td>536510655000</td>\n",
              "      <td>26429942</td>\n",
              "      <td>32630415137</td>\n",
              "      <td>431028</td>\n",
              "    </tr>\n",
              "    <tr>\n",
              "      <th>1</th>\n",
              "      <td>문화레져</td>\n",
              "      <td>14535</td>\n",
              "      <td>11003</td>\n",
              "      <td>604584</td>\n",
              "      <td>1460789771000</td>\n",
              "      <td>36984488</td>\n",
              "      <td>35463948311</td>\n",
              "      <td>466998863</td>\n",
              "    </tr>\n",
              "    <tr>\n",
              "      <th>2</th>\n",
              "      <td>생활서비스</td>\n",
              "      <td>17865</td>\n",
              "      <td>10420</td>\n",
              "      <td>1033493</td>\n",
              "      <td>12768340037000</td>\n",
              "      <td>303639697</td>\n",
              "      <td>262539862981</td>\n",
              "      <td>506748391</td>\n",
              "    </tr>\n",
              "    <tr>\n",
              "      <th>3</th>\n",
              "      <td>음식</td>\n",
              "      <td>66790</td>\n",
              "      <td>55072</td>\n",
              "      <td>3119542</td>\n",
              "      <td>7139967185000</td>\n",
              "      <td>299309025</td>\n",
              "      <td>13661197428</td>\n",
              "      <td>206663989</td>\n",
              "    </tr>\n",
              "    <tr>\n",
              "      <th>4</th>\n",
              "      <td>일반유통</td>\n",
              "      <td>22498</td>\n",
              "      <td>19775</td>\n",
              "      <td>1041532</td>\n",
              "      <td>4477134658000</td>\n",
              "      <td>67913960</td>\n",
              "      <td>161795335539</td>\n",
              "      <td>1074226743</td>\n",
              "    </tr>\n",
              "    <tr>\n",
              "      <th>5</th>\n",
              "      <td>전문서비스</td>\n",
              "      <td>23318</td>\n",
              "      <td>16127</td>\n",
              "      <td>1084907</td>\n",
              "      <td>8200716800000</td>\n",
              "      <td>102373719</td>\n",
              "      <td>99894242637</td>\n",
              "      <td>2407934475</td>\n",
              "    </tr>\n",
              "    <tr>\n",
              "      <th>6</th>\n",
              "      <td>종합유통</td>\n",
              "      <td>5107</td>\n",
              "      <td>4245</td>\n",
              "      <td>338286</td>\n",
              "      <td>13120767979000</td>\n",
              "      <td>445767635</td>\n",
              "      <td>162249411697</td>\n",
              "      <td>53835764</td>\n",
              "    </tr>\n",
              "  </tbody>\n",
              "</table>\n",
              "</div>"
            ],
            "text/plain": [
              "   업종대분류  신규가맹점수  해지가맹점수  ...     카드매출건수        점당매출금액      건당매출금액\n",
              "0     기타       0       0  ...   26429942   32630415137      431028\n",
              "1   문화레져   14535   11003  ...   36984488   35463948311   466998863\n",
              "2  생활서비스   17865   10420  ...  303639697  262539862981   506748391\n",
              "3     음식   66790   55072  ...  299309025   13661197428   206663989\n",
              "4   일반유통   22498   19775  ...   67913960  161795335539  1074226743\n",
              "5  전문서비스   23318   16127  ...  102373719   99894242637  2407934475\n",
              "6   종합유통    5107    4245  ...  445767635  162249411697    53835764\n",
              "\n",
              "[7 rows x 8 columns]"
            ]
          },
          "metadata": {
            "tags": []
          },
          "execution_count": 70
        }
      ]
    },
    {
      "cell_type": "code",
      "metadata": {
        "colab": {
          "base_uri": "https://localhost:8080/",
          "height": 417
        },
        "id": "XmPFafqyO7s5",
        "outputId": "8faddd0c-36a3-40fd-fdb9-47722f8cccea"
      },
      "source": [
        "group = sh.groupby(by='업종대분류').sum().reset_index()\n",
        "group.drop(columns='기준년월', inplace=True)\n",
        "group"
      ],
      "execution_count": 71,
      "outputs": [
        {
          "output_type": "execute_result",
          "data": {
            "text/html": [
              "<div>\n",
              "<style scoped>\n",
              "    .dataframe tbody tr th:only-of-type {\n",
              "        vertical-align: middle;\n",
              "    }\n",
              "\n",
              "    .dataframe tbody tr th {\n",
              "        vertical-align: top;\n",
              "    }\n",
              "\n",
              "    .dataframe thead th {\n",
              "        text-align: right;\n",
              "    }\n",
              "</style>\n",
              "<table border=\"1\" class=\"dataframe\">\n",
              "  <thead>\n",
              "    <tr style=\"text-align: right;\">\n",
              "      <th></th>\n",
              "      <th>업종대분류</th>\n",
              "      <th>신규가맹점수</th>\n",
              "      <th>해지가맹점수</th>\n",
              "      <th>매출가맹점수</th>\n",
              "      <th>카드매출금액</th>\n",
              "      <th>카드매출건수</th>\n",
              "      <th>점당매출금액</th>\n",
              "      <th>건당매출금액</th>\n",
              "    </tr>\n",
              "  </thead>\n",
              "  <tbody>\n",
              "    <tr>\n",
              "      <th>0</th>\n",
              "      <td>기타</td>\n",
              "      <td>0</td>\n",
              "      <td>0</td>\n",
              "      <td>298</td>\n",
              "      <td>536510655000</td>\n",
              "      <td>26429942</td>\n",
              "      <td>32630415137</td>\n",
              "      <td>431028</td>\n",
              "    </tr>\n",
              "    <tr>\n",
              "      <th>1</th>\n",
              "      <td>문화레져</td>\n",
              "      <td>14535</td>\n",
              "      <td>11003</td>\n",
              "      <td>604584</td>\n",
              "      <td>1460789771000</td>\n",
              "      <td>36984488</td>\n",
              "      <td>35463948311</td>\n",
              "      <td>466998863</td>\n",
              "    </tr>\n",
              "    <tr>\n",
              "      <th>2</th>\n",
              "      <td>생활서비스</td>\n",
              "      <td>17865</td>\n",
              "      <td>10420</td>\n",
              "      <td>1033493</td>\n",
              "      <td>12768340037000</td>\n",
              "      <td>303639697</td>\n",
              "      <td>262539862981</td>\n",
              "      <td>506748391</td>\n",
              "    </tr>\n",
              "    <tr>\n",
              "      <th>3</th>\n",
              "      <td>음식</td>\n",
              "      <td>66790</td>\n",
              "      <td>55072</td>\n",
              "      <td>3119542</td>\n",
              "      <td>7139967185000</td>\n",
              "      <td>299309025</td>\n",
              "      <td>13661197428</td>\n",
              "      <td>206663989</td>\n",
              "    </tr>\n",
              "    <tr>\n",
              "      <th>4</th>\n",
              "      <td>일반유통</td>\n",
              "      <td>22498</td>\n",
              "      <td>19775</td>\n",
              "      <td>1041532</td>\n",
              "      <td>4477134658000</td>\n",
              "      <td>67913960</td>\n",
              "      <td>161795335539</td>\n",
              "      <td>1074226743</td>\n",
              "    </tr>\n",
              "    <tr>\n",
              "      <th>5</th>\n",
              "      <td>전문서비스</td>\n",
              "      <td>23318</td>\n",
              "      <td>16127</td>\n",
              "      <td>1084907</td>\n",
              "      <td>8200716800000</td>\n",
              "      <td>102373719</td>\n",
              "      <td>99894242637</td>\n",
              "      <td>2407934475</td>\n",
              "    </tr>\n",
              "    <tr>\n",
              "      <th>6</th>\n",
              "      <td>종합유통</td>\n",
              "      <td>5107</td>\n",
              "      <td>4245</td>\n",
              "      <td>338286</td>\n",
              "      <td>13120767979000</td>\n",
              "      <td>445767635</td>\n",
              "      <td>162249411697</td>\n",
              "      <td>53835764</td>\n",
              "    </tr>\n",
              "  </tbody>\n",
              "</table>\n",
              "</div>"
            ],
            "text/plain": [
              "   업종대분류  신규가맹점수  해지가맹점수  ...     카드매출건수        점당매출금액      건당매출금액\n",
              "0     기타       0       0  ...   26429942   32630415137      431028\n",
              "1   문화레져   14535   11003  ...   36984488   35463948311   466998863\n",
              "2  생활서비스   17865   10420  ...  303639697  262539862981   506748391\n",
              "3     음식   66790   55072  ...  299309025   13661197428   206663989\n",
              "4   일반유통   22498   19775  ...   67913960  161795335539  1074226743\n",
              "5  전문서비스   23318   16127  ...  102373719   99894242637  2407934475\n",
              "6   종합유통    5107    4245  ...  445767635  162249411697    53835764\n",
              "\n",
              "[7 rows x 8 columns]"
            ]
          },
          "metadata": {
            "tags": []
          },
          "execution_count": 71
        }
      ]
    },
    {
      "cell_type": "code",
      "metadata": {
        "id": "qCU915JYQK0W"
      },
      "source": [
        "group = group[group['매출가맹점수']!=0]\n",
        "group = group[group['카드매출건수']!=0]"
      ],
      "execution_count": 72,
      "outputs": []
    },
    {
      "cell_type": "code",
      "metadata": {
        "id": "KpbokjfwPiur"
      },
      "source": [
        "# 점당매출금액, 건당매출금액 재계산\n",
        "group['점당매출금액'] = group['카드매출금액']//group['매출가맹점수']\n",
        "group['건당매출금액'] = group['카드매출금액']//group['카드매출건수']"
      ],
      "execution_count": 73,
      "outputs": []
    },
    {
      "cell_type": "code",
      "metadata": {
        "colab": {
          "base_uri": "https://localhost:8080/"
        },
        "id": "dQ_0-6qMPkbD",
        "outputId": "96122ddd-a7f1-4cf0-8c59-8fb39e72b0d4"
      },
      "source": [
        "# 표준화 수행\n",
        "cls = group.drop(columns='업종대분류')\n",
        "cols = cls.columns\n",
        "scaler = MinMaxScaler()\n",
        "scaler.fit(cls)\n",
        "scaled = scaler.transform(cls)\n",
        "scaled"
      ],
      "execution_count": 74,
      "outputs": [
        {
          "output_type": "execute_result",
          "data": {
            "text/plain": [
              "array([[0.00000000e+00, 0.00000000e+00, 0.00000000e+00, 0.00000000e+00,\n",
              "        0.00000000e+00, 1.00000000e+00, 0.00000000e+00],\n",
              "       [2.17622399e-01, 1.99792998e-01, 1.93728352e-01, 7.34472518e-02,\n",
              "        2.51695619e-02, 7.08543670e-05, 3.21004581e-01],\n",
              "       [2.67480162e-01, 1.89206856e-01, 3.31232504e-01, 9.71994538e-01,\n",
              "        6.61065675e-01, 5.59805336e-03, 3.63692606e-01],\n",
              "       [1.00000000e+00, 1.00000000e+00, 1.00000000e+00, 5.24739471e-01,\n",
              "        6.50738265e-01, 0.00000000e+00, 5.94421964e-02],\n",
              "       [3.36846833e-01, 3.59075392e-01, 3.33809731e-01, 3.13139179e-01,\n",
              "        9.89274723e-02, 1.11775570e-03, 7.62866602e-01],\n",
              "       [3.49124120e-01, 2.92834834e-01, 3.47715344e-01, 6.09031264e-01,\n",
              "        1.81104104e-01, 2.93096946e-03, 1.00000000e+00],\n",
              "       [7.64635424e-02, 7.70809123e-02, 1.08355743e-01, 1.00000000e+00,\n",
              "        1.00000000e+00, 2.02978635e-02, 1.52743872e-01]])"
            ]
          },
          "metadata": {
            "tags": []
          },
          "execution_count": 74
        }
      ]
    },
    {
      "cell_type": "code",
      "metadata": {
        "colab": {
          "base_uri": "https://localhost:8080/",
          "height": 265
        },
        "id": "lONoyfLjPpQp",
        "outputId": "26a11531-d82f-49b5-fa0b-4ac354830d28"
      },
      "source": [
        "# screeplot 그리기\n",
        "def elbow(x):\n",
        "  sse = []\n",
        "\n",
        "  for i in range(1, 8):\n",
        "    km = KMeans(n_clusters=i)\n",
        "    km.fit(x)\n",
        "    sse.append(km.inertia_)\n",
        "    plt.plot(sse)\n",
        "  plt.show()\n",
        "\n",
        "elbow(scaled)"
      ],
      "execution_count": 75,
      "outputs": [
        {
          "output_type": "display_data",
          "data": {
            "image/png": "[encoded data removed]",
            "text/plain": [
              "<Figure size 432x288 with 1 Axes>"
            ]
          },
          "metadata": {
            "tags": [],
            "needs_background": "light"
          }
        }
      ]
    },
    {
      "cell_type": "code",
      "metadata": {
        "colab": {
          "base_uri": "https://localhost:8080/"
        },
        "id": "1A-FS_c1PrwF",
        "outputId": "bb766f59-2ea7-41f7-d13c-5cbd490eefd5"
      },
      "source": [
        "# cluster 수는 2개로 결정\n",
        "km = KMeans(n_clusters=2)\n",
        "km.fit(scaled)\n",
        "km.cluster_centers_"
      ],
      "execution_count": 84,
      "outputs": [
        {
          "output_type": "execute_result",
          "data": {
            "text/plain": [
              "array([[1.        , 1.        , 1.        , 0.52473947, 0.65073827,\n",
              "        0.        , 0.0594422 ],\n",
              "       [0.20792284, 0.18633183, 0.21914028, 0.49460204, 0.32771114,\n",
              "        0.17166925, 0.43338461]])"
            ]
          },
          "metadata": {
            "tags": []
          },
          "execution_count": 84
        }
      ]
    },
    {
      "cell_type": "code",
      "metadata": {
        "colab": {
          "base_uri": "https://localhost:8080/",
          "height": 128
        },
        "id": "bWeQPBCKQ6qL",
        "outputId": "2e4701de-d45c-44ee-b758-52d9fae1c27b"
      },
      "source": [
        "cluster = pd.DataFrame(km.cluster_centers_, columns=cls.columns)\n",
        "cluster"
      ],
      "execution_count": 85,
      "outputs": [
        {
          "output_type": "execute_result",
          "data": {
            "text/html": [
              "<div>\n",
              "<style scoped>\n",
              "    .dataframe tbody tr th:only-of-type {\n",
              "        vertical-align: middle;\n",
              "    }\n",
              "\n",
              "    .dataframe tbody tr th {\n",
              "        vertical-align: top;\n",
              "    }\n",
              "\n",
              "    .dataframe thead th {\n",
              "        text-align: right;\n",
              "    }\n",
              "</style>\n",
              "<table border=\"1\" class=\"dataframe\">\n",
              "  <thead>\n",
              "    <tr style=\"text-align: right;\">\n",
              "      <th></th>\n",
              "      <th>신규가맹점수</th>\n",
              "      <th>해지가맹점수</th>\n",
              "      <th>매출가맹점수</th>\n",
              "      <th>카드매출금액</th>\n",
              "      <th>카드매출건수</th>\n",
              "      <th>점당매출금액</th>\n",
              "      <th>건당매출금액</th>\n",
              "    </tr>\n",
              "  </thead>\n",
              "  <tbody>\n",
              "    <tr>\n",
              "      <th>0</th>\n",
              "      <td>1.000000</td>\n",
              "      <td>1.000000</td>\n",
              "      <td>1.00000</td>\n",
              "      <td>0.524739</td>\n",
              "      <td>0.650738</td>\n",
              "      <td>0.000000</td>\n",
              "      <td>0.059442</td>\n",
              "    </tr>\n",
              "    <tr>\n",
              "      <th>1</th>\n",
              "      <td>0.207923</td>\n",
              "      <td>0.186332</td>\n",
              "      <td>0.21914</td>\n",
              "      <td>0.494602</td>\n",
              "      <td>0.327711</td>\n",
              "      <td>0.171669</td>\n",
              "      <td>0.433385</td>\n",
              "    </tr>\n",
              "  </tbody>\n",
              "</table>\n",
              "</div>"
            ],
            "text/plain": [
              "     신규가맹점수    해지가맹점수   매출가맹점수    카드매출금액    카드매출건수    점당매출금액    건당매출금액\n",
              "0  1.000000  1.000000  1.00000  0.524739  0.650738  0.000000  0.059442\n",
              "1  0.207923  0.186332  0.21914  0.494602  0.327711  0.171669  0.433385"
            ]
          },
          "metadata": {
            "tags": []
          },
          "execution_count": 85
        }
      ]
    },
    {
      "cell_type": "code",
      "metadata": {
        "colab": {
          "base_uri": "https://localhost:8080/",
          "height": 265
        },
        "id": "1lbmobruQ00U",
        "outputId": "086b78fa-1ab5-4aef-f69c-be6354fdab56"
      },
      "source": [
        "predict = pd.DataFrame(km.predict(scaled))\n",
        "predict.columns = ['클러스터']\n",
        "predict"
      ],
      "execution_count": 86,
      "outputs": [
        {
          "output_type": "execute_result",
          "data": {
            "text/html": [
              "<div>\n",
              "<style scoped>\n",
              "    .dataframe tbody tr th:only-of-type {\n",
              "        vertical-align: middle;\n",
              "    }\n",
              "\n",
              "    .dataframe tbody tr th {\n",
              "        vertical-align: top;\n",
              "    }\n",
              "\n",
              "    .dataframe thead th {\n",
              "        text-align: right;\n",
              "    }\n",
              "</style>\n",
              "<table border=\"1\" class=\"dataframe\">\n",
              "  <thead>\n",
              "    <tr style=\"text-align: right;\">\n",
              "      <th></th>\n",
              "      <th>클러스터</th>\n",
              "    </tr>\n",
              "  </thead>\n",
              "  <tbody>\n",
              "    <tr>\n",
              "      <th>0</th>\n",
              "      <td>1</td>\n",
              "    </tr>\n",
              "    <tr>\n",
              "      <th>1</th>\n",
              "      <td>1</td>\n",
              "    </tr>\n",
              "    <tr>\n",
              "      <th>2</th>\n",
              "      <td>1</td>\n",
              "    </tr>\n",
              "    <tr>\n",
              "      <th>3</th>\n",
              "      <td>0</td>\n",
              "    </tr>\n",
              "    <tr>\n",
              "      <th>4</th>\n",
              "      <td>1</td>\n",
              "    </tr>\n",
              "    <tr>\n",
              "      <th>5</th>\n",
              "      <td>1</td>\n",
              "    </tr>\n",
              "    <tr>\n",
              "      <th>6</th>\n",
              "      <td>1</td>\n",
              "    </tr>\n",
              "  </tbody>\n",
              "</table>\n",
              "</div>"
            ],
            "text/plain": [
              "   클러스터\n",
              "0     1\n",
              "1     1\n",
              "2     1\n",
              "3     0\n",
              "4     1\n",
              "5     1\n",
              "6     1"
            ]
          },
          "metadata": {
            "tags": []
          },
          "execution_count": 86
        }
      ]
    },
    {
      "cell_type": "code",
      "metadata": {
        "colab": {
          "base_uri": "https://localhost:8080/",
          "height": 282
        },
        "id": "C9zX6-F1Q2zn",
        "outputId": "115f8514-d12a-422c-a180-241270025e35"
      },
      "source": [
        "scaled = pd.DataFrame(data=scaled, columns=cls.columns)\n",
        "scaled"
      ],
      "execution_count": 87,
      "outputs": [
        {
          "output_type": "execute_result",
          "data": {
            "text/html": [
              "<div>\n",
              "<style scoped>\n",
              "    .dataframe tbody tr th:only-of-type {\n",
              "        vertical-align: middle;\n",
              "    }\n",
              "\n",
              "    .dataframe tbody tr th {\n",
              "        vertical-align: top;\n",
              "    }\n",
              "\n",
              "    .dataframe thead th {\n",
              "        text-align: right;\n",
              "    }\n",
              "</style>\n",
              "<table border=\"1\" class=\"dataframe\">\n",
              "  <thead>\n",
              "    <tr style=\"text-align: right;\">\n",
              "      <th></th>\n",
              "      <th>신규가맹점수</th>\n",
              "      <th>해지가맹점수</th>\n",
              "      <th>매출가맹점수</th>\n",
              "      <th>카드매출금액</th>\n",
              "      <th>카드매출건수</th>\n",
              "      <th>점당매출금액</th>\n",
              "      <th>건당매출금액</th>\n",
              "    </tr>\n",
              "  </thead>\n",
              "  <tbody>\n",
              "    <tr>\n",
              "      <th>0</th>\n",
              "      <td>0.000000</td>\n",
              "      <td>0.000000</td>\n",
              "      <td>0.000000</td>\n",
              "      <td>0.000000</td>\n",
              "      <td>0.000000</td>\n",
              "      <td>1.000000</td>\n",
              "      <td>0.000000</td>\n",
              "    </tr>\n",
              "    <tr>\n",
              "      <th>1</th>\n",
              "      <td>0.217622</td>\n",
              "      <td>0.199793</td>\n",
              "      <td>0.193728</td>\n",
              "      <td>0.073447</td>\n",
              "      <td>0.025170</td>\n",
              "      <td>0.000071</td>\n",
              "      <td>0.321005</td>\n",
              "    </tr>\n",
              "    <tr>\n",
              "      <th>2</th>\n",
              "      <td>0.267480</td>\n",
              "      <td>0.189207</td>\n",
              "      <td>0.331233</td>\n",
              "      <td>0.971995</td>\n",
              "      <td>0.661066</td>\n",
              "      <td>0.005598</td>\n",
              "      <td>0.363693</td>\n",
              "    </tr>\n",
              "    <tr>\n",
              "      <th>3</th>\n",
              "      <td>1.000000</td>\n",
              "      <td>1.000000</td>\n",
              "      <td>1.000000</td>\n",
              "      <td>0.524739</td>\n",
              "      <td>0.650738</td>\n",
              "      <td>0.000000</td>\n",
              "      <td>0.059442</td>\n",
              "    </tr>\n",
              "    <tr>\n",
              "      <th>4</th>\n",
              "      <td>0.336847</td>\n",
              "      <td>0.359075</td>\n",
              "      <td>0.333810</td>\n",
              "      <td>0.313139</td>\n",
              "      <td>0.098927</td>\n",
              "      <td>0.001118</td>\n",
              "      <td>0.762867</td>\n",
              "    </tr>\n",
              "    <tr>\n",
              "      <th>5</th>\n",
              "      <td>0.349124</td>\n",
              "      <td>0.292835</td>\n",
              "      <td>0.347715</td>\n",
              "      <td>0.609031</td>\n",
              "      <td>0.181104</td>\n",
              "      <td>0.002931</td>\n",
              "      <td>1.000000</td>\n",
              "    </tr>\n",
              "    <tr>\n",
              "      <th>6</th>\n",
              "      <td>0.076464</td>\n",
              "      <td>0.077081</td>\n",
              "      <td>0.108356</td>\n",
              "      <td>1.000000</td>\n",
              "      <td>1.000000</td>\n",
              "      <td>0.020298</td>\n",
              "      <td>0.152744</td>\n",
              "    </tr>\n",
              "  </tbody>\n",
              "</table>\n",
              "</div>"
            ],
            "text/plain": [
              "     신규가맹점수    해지가맹점수    매출가맹점수    카드매출금액    카드매출건수    점당매출금액    건당매출금액\n",
              "0  0.000000  0.000000  0.000000  0.000000  0.000000  1.000000  0.000000\n",
              "1  0.217622  0.199793  0.193728  0.073447  0.025170  0.000071  0.321005\n",
              "2  0.267480  0.189207  0.331233  0.971995  0.661066  0.005598  0.363693\n",
              "3  1.000000  1.000000  1.000000  0.524739  0.650738  0.000000  0.059442\n",
              "4  0.336847  0.359075  0.333810  0.313139  0.098927  0.001118  0.762867\n",
              "5  0.349124  0.292835  0.347715  0.609031  0.181104  0.002931  1.000000\n",
              "6  0.076464  0.077081  0.108356  1.000000  1.000000  0.020298  0.152744"
            ]
          },
          "metadata": {
            "tags": []
          },
          "execution_count": 87
        }
      ]
    },
    {
      "cell_type": "code",
      "metadata": {
        "colab": {
          "base_uri": "https://localhost:8080/",
          "height": 265
        },
        "id": "77-VylYYRm3g",
        "outputId": "47544cb7-02b9-4231-9711-28a518d7bb77"
      },
      "source": [
        "names = pd.DataFrame(group['업종대분류'])\n",
        "names.reset_index(inplace=True, drop=True)\n",
        "names"
      ],
      "execution_count": 88,
      "outputs": [
        {
          "output_type": "execute_result",
          "data": {
            "text/html": [
              "<div>\n",
              "<style scoped>\n",
              "    .dataframe tbody tr th:only-of-type {\n",
              "        vertical-align: middle;\n",
              "    }\n",
              "\n",
              "    .dataframe tbody tr th {\n",
              "        vertical-align: top;\n",
              "    }\n",
              "\n",
              "    .dataframe thead th {\n",
              "        text-align: right;\n",
              "    }\n",
              "</style>\n",
              "<table border=\"1\" class=\"dataframe\">\n",
              "  <thead>\n",
              "    <tr style=\"text-align: right;\">\n",
              "      <th></th>\n",
              "      <th>업종대분류</th>\n",
              "    </tr>\n",
              "  </thead>\n",
              "  <tbody>\n",
              "    <tr>\n",
              "      <th>0</th>\n",
              "      <td>기타</td>\n",
              "    </tr>\n",
              "    <tr>\n",
              "      <th>1</th>\n",
              "      <td>문화레져</td>\n",
              "    </tr>\n",
              "    <tr>\n",
              "      <th>2</th>\n",
              "      <td>생활서비스</td>\n",
              "    </tr>\n",
              "    <tr>\n",
              "      <th>3</th>\n",
              "      <td>음식</td>\n",
              "    </tr>\n",
              "    <tr>\n",
              "      <th>4</th>\n",
              "      <td>일반유통</td>\n",
              "    </tr>\n",
              "    <tr>\n",
              "      <th>5</th>\n",
              "      <td>전문서비스</td>\n",
              "    </tr>\n",
              "    <tr>\n",
              "      <th>6</th>\n",
              "      <td>종합유통</td>\n",
              "    </tr>\n",
              "  </tbody>\n",
              "</table>\n",
              "</div>"
            ],
            "text/plain": [
              "   업종대분류\n",
              "0     기타\n",
              "1   문화레져\n",
              "2  생활서비스\n",
              "3     음식\n",
              "4   일반유통\n",
              "5  전문서비스\n",
              "6   종합유통"
            ]
          },
          "metadata": {
            "tags": []
          },
          "execution_count": 88
        }
      ]
    },
    {
      "cell_type": "code",
      "metadata": {
        "colab": {
          "base_uri": "https://localhost:8080/",
          "height": 383
        },
        "id": "xW6FWIEtRqdP",
        "outputId": "3f555207-21d1-4613-99cb-a2b444066cef"
      },
      "source": [
        "# names와 결합\n",
        "result = pd.concat([scaled, names], axis=1)\n",
        "result = pd.concat([result, predict], axis=1)\n",
        "result"
      ],
      "execution_count": 89,
      "outputs": [
        {
          "output_type": "execute_result",
          "data": {
            "text/html": [
              "<div>\n",
              "<style scoped>\n",
              "    .dataframe tbody tr th:only-of-type {\n",
              "        vertical-align: middle;\n",
              "    }\n",
              "\n",
              "    .dataframe tbody tr th {\n",
              "        vertical-align: top;\n",
              "    }\n",
              "\n",
              "    .dataframe thead th {\n",
              "        text-align: right;\n",
              "    }\n",
              "</style>\n",
              "<table border=\"1\" class=\"dataframe\">\n",
              "  <thead>\n",
              "    <tr style=\"text-align: right;\">\n",
              "      <th></th>\n",
              "      <th>신규가맹점수</th>\n",
              "      <th>해지가맹점수</th>\n",
              "      <th>매출가맹점수</th>\n",
              "      <th>카드매출금액</th>\n",
              "      <th>카드매출건수</th>\n",
              "      <th>점당매출금액</th>\n",
              "      <th>건당매출금액</th>\n",
              "      <th>업종대분류</th>\n",
              "      <th>클러스터</th>\n",
              "    </tr>\n",
              "  </thead>\n",
              "  <tbody>\n",
              "    <tr>\n",
              "      <th>0</th>\n",
              "      <td>0.000000</td>\n",
              "      <td>0.000000</td>\n",
              "      <td>0.000000</td>\n",
              "      <td>0.000000</td>\n",
              "      <td>0.000000</td>\n",
              "      <td>1.000000</td>\n",
              "      <td>0.000000</td>\n",
              "      <td>기타</td>\n",
              "      <td>1</td>\n",
              "    </tr>\n",
              "    <tr>\n",
              "      <th>1</th>\n",
              "      <td>0.217622</td>\n",
              "      <td>0.199793</td>\n",
              "      <td>0.193728</td>\n",
              "      <td>0.073447</td>\n",
              "      <td>0.025170</td>\n",
              "      <td>0.000071</td>\n",
              "      <td>0.321005</td>\n",
              "      <td>문화레져</td>\n",
              "      <td>1</td>\n",
              "    </tr>\n",
              "    <tr>\n",
              "      <th>2</th>\n",
              "      <td>0.267480</td>\n",
              "      <td>0.189207</td>\n",
              "      <td>0.331233</td>\n",
              "      <td>0.971995</td>\n",
              "      <td>0.661066</td>\n",
              "      <td>0.005598</td>\n",
              "      <td>0.363693</td>\n",
              "      <td>생활서비스</td>\n",
              "      <td>1</td>\n",
              "    </tr>\n",
              "    <tr>\n",
              "      <th>3</th>\n",
              "      <td>1.000000</td>\n",
              "      <td>1.000000</td>\n",
              "      <td>1.000000</td>\n",
              "      <td>0.524739</td>\n",
              "      <td>0.650738</td>\n",
              "      <td>0.000000</td>\n",
              "      <td>0.059442</td>\n",
              "      <td>음식</td>\n",
              "      <td>0</td>\n",
              "    </tr>\n",
              "    <tr>\n",
              "      <th>4</th>\n",
              "      <td>0.336847</td>\n",
              "      <td>0.359075</td>\n",
              "      <td>0.333810</td>\n",
              "      <td>0.313139</td>\n",
              "      <td>0.098927</td>\n",
              "      <td>0.001118</td>\n",
              "      <td>0.762867</td>\n",
              "      <td>일반유통</td>\n",
              "      <td>1</td>\n",
              "    </tr>\n",
              "    <tr>\n",
              "      <th>5</th>\n",
              "      <td>0.349124</td>\n",
              "      <td>0.292835</td>\n",
              "      <td>0.347715</td>\n",
              "      <td>0.609031</td>\n",
              "      <td>0.181104</td>\n",
              "      <td>0.002931</td>\n",
              "      <td>1.000000</td>\n",
              "      <td>전문서비스</td>\n",
              "      <td>1</td>\n",
              "    </tr>\n",
              "    <tr>\n",
              "      <th>6</th>\n",
              "      <td>0.076464</td>\n",
              "      <td>0.077081</td>\n",
              "      <td>0.108356</td>\n",
              "      <td>1.000000</td>\n",
              "      <td>1.000000</td>\n",
              "      <td>0.020298</td>\n",
              "      <td>0.152744</td>\n",
              "      <td>종합유통</td>\n",
              "      <td>1</td>\n",
              "    </tr>\n",
              "  </tbody>\n",
              "</table>\n",
              "</div>"
            ],
            "text/plain": [
              "     신규가맹점수    해지가맹점수    매출가맹점수    카드매출금액  ...    점당매출금액    건당매출금액  업종대분류 클러스터\n",
              "0  0.000000  0.000000  0.000000  0.000000  ...  1.000000  0.000000     기타    1\n",
              "1  0.217622  0.199793  0.193728  0.073447  ...  0.000071  0.321005   문화레져    1\n",
              "2  0.267480  0.189207  0.331233  0.971995  ...  0.005598  0.363693  생활서비스    1\n",
              "3  1.000000  1.000000  1.000000  0.524739  ...  0.000000  0.059442     음식    0\n",
              "4  0.336847  0.359075  0.333810  0.313139  ...  0.001118  0.762867   일반유통    1\n",
              "5  0.349124  0.292835  0.347715  0.609031  ...  0.002931  1.000000  전문서비스    1\n",
              "6  0.076464  0.077081  0.108356  1.000000  ...  0.020298  0.152744   종합유통    1\n",
              "\n",
              "[7 rows x 9 columns]"
            ]
          },
          "metadata": {
            "tags": []
          },
          "execution_count": 89
        }
      ]
    },
    {
      "cell_type": "code",
      "metadata": {
        "colab": {
          "base_uri": "https://localhost:8080/",
          "height": 128
        },
        "id": "3zagHmRab3zZ",
        "outputId": "69543545-3182-473d-f8c3-eaac37fc5cad"
      },
      "source": [
        "# cluster labeling\n",
        "# 0번 클러스터는 가맹점수, 매출건수가 크지만 건당,점당매출은 작은 편의점 같은 산업들이 해당된다.\n",
        "# 1번 클러스터는 가맹점수, 매출건수는 작지만 건당,점당매출이 큰 유통, 전문서비스 등 음식을 제외한 산업이 해당된다.\n",
        "cluster"
      ],
      "execution_count": 91,
      "outputs": [
        {
          "output_type": "execute_result",
          "data": {
            "text/html": [
              "<div>\n",
              "<style scoped>\n",
              "    .dataframe tbody tr th:only-of-type {\n",
              "        vertical-align: middle;\n",
              "    }\n",
              "\n",
              "    .dataframe tbody tr th {\n",
              "        vertical-align: top;\n",
              "    }\n",
              "\n",
              "    .dataframe thead th {\n",
              "        text-align: right;\n",
              "    }\n",
              "</style>\n",
              "<table border=\"1\" class=\"dataframe\">\n",
              "  <thead>\n",
              "    <tr style=\"text-align: right;\">\n",
              "      <th></th>\n",
              "      <th>신규가맹점수</th>\n",
              "      <th>해지가맹점수</th>\n",
              "      <th>매출가맹점수</th>\n",
              "      <th>카드매출금액</th>\n",
              "      <th>카드매출건수</th>\n",
              "      <th>점당매출금액</th>\n",
              "      <th>건당매출금액</th>\n",
              "    </tr>\n",
              "  </thead>\n",
              "  <tbody>\n",
              "    <tr>\n",
              "      <th>0</th>\n",
              "      <td>1.000000</td>\n",
              "      <td>1.000000</td>\n",
              "      <td>1.00000</td>\n",
              "      <td>0.524739</td>\n",
              "      <td>0.650738</td>\n",
              "      <td>0.000000</td>\n",
              "      <td>0.059442</td>\n",
              "    </tr>\n",
              "    <tr>\n",
              "      <th>1</th>\n",
              "      <td>0.207923</td>\n",
              "      <td>0.186332</td>\n",
              "      <td>0.21914</td>\n",
              "      <td>0.494602</td>\n",
              "      <td>0.327711</td>\n",
              "      <td>0.171669</td>\n",
              "      <td>0.433385</td>\n",
              "    </tr>\n",
              "  </tbody>\n",
              "</table>\n",
              "</div>"
            ],
            "text/plain": [
              "     신규가맹점수    해지가맹점수   매출가맹점수    카드매출금액    카드매출건수    점당매출금액    건당매출금액\n",
              "0  1.000000  1.000000  1.00000  0.524739  0.650738  0.000000  0.059442\n",
              "1  0.207923  0.186332  0.21914  0.494602  0.327711  0.171669  0.433385"
            ]
          },
          "metadata": {
            "tags": []
          },
          "execution_count": 91
        }
      ]
    },
    {
      "cell_type": "code",
      "metadata": {
        "colab": {
          "base_uri": "https://localhost:8080/",
          "height": 578
        },
        "id": "xovoYfCWR3NX",
        "outputId": "0b0a48c1-3ca3-48e4-c70f-be84c3640807"
      },
      "source": [
        "def show_cluster(result, name):\n",
        "  categories = cols\n",
        "  color = ['skyblue', 'blue', 'salmon', 'green']\n",
        "\n",
        "  target = result[result['업종대분류']==name]\n",
        "\n",
        "  fig = go.Figure()\n",
        "\n",
        "  fig.add_trace(go.Scatterpolar(\n",
        "      r = cluster.values[0],\n",
        "      theta = categories,\n",
        "      fill='toself',\n",
        "      name='음식',\n",
        "      line_color=color[0]\n",
        "  ))\n",
        "\n",
        "  fig.add_trace(go.Scatterpolar(\n",
        "      r = cluster.values[1],\n",
        "      theta = categories,\n",
        "      fill='toself',\n",
        "      name='그 외 산업',\n",
        "      line_color=color[1]\n",
        "  ))\n",
        "\n",
        "  # fig.add_trace(go.Scatterpolar(\n",
        "  #     r = cluster.values[2],\n",
        "  #     theta = categories,\n",
        "  #     fill='toself',\n",
        "  #     name='비주류산업',\n",
        "  #     line_color=color[2]\n",
        "  # ))\n",
        "\n",
        "  fig.add_trace(go.Scatterpolar(\n",
        "      r = target.values[0],\n",
        "      theta = categories,\n",
        "      fill='toself',\n",
        "      name=name,\n",
        "      line_color=color[3]\n",
        "  ))\n",
        "\n",
        "  fig.update_layout(\n",
        "    polar=dict(\n",
        "      radialaxis=dict(\n",
        "        title=str(target['클러스터']),\n",
        "        visible=True,\n",
        "      )),\n",
        "  )\n",
        "  print(target['클러스터'])\n",
        "  fig.show()\n",
        "\n",
        "# 클라우드 맥주 클러스터링 결과\n",
        "show_cluster(result, '전문서비스')"
      ],
      "execution_count": 92,
      "outputs": [
        {
          "output_type": "stream",
          "text": [
            "5    1\n",
            "Name: 클러스터, dtype: int32\n"
          ],
          "name": "stdout"
        },
        {
          "output_type": "display_data",
          "data": {
            "text/html": [
              "<html>\n",
              "<head><meta charset=\"utf-8\" /></head>\n",
              "<body>\n",
              "    <div>\n",
              "            <script src=\"https://cdnjs.cloudflare.com/ajax/libs/mathjax/2.7.5/MathJax.js?config=TeX-AMS-MML_SVG\"></script><script type=\"text/javascript\">if (window.MathJax) {MathJax.Hub.Config({SVG: {font: \"STIX-Web\"}});}</script>\n",
              "                <script type=\"text/javascript\">window.PlotlyConfig = {MathJaxConfig: 'local'};</script>\n",
              "        <script src=\"https://cdn.plot.ly/plotly-latest.min.js\"></script>    \n",
              "            <div id=\"e84fee9a-2d97-4413-8af8-0acf6874125c\" class=\"plotly-graph-div\" style=\"height:525px; width:100%;\"></div>\n",
              "            <script type=\"text/javascript\">\n",
              "                \n",
              "                    window.PLOTLYENV=window.PLOTLYENV || {};\n",
              "                    \n",
              "                if (document.getElementById(\"e84fee9a-2d97-4413-8af8-0acf6874125c\")) {\n",
              "                    Plotly.newPlot(\n",
              "                        'e84fee9a-2d97-4413-8af8-0acf6874125c',\n",
              "                        [{\"fill\": \"toself\", \"line\": {\"color\": \"skyblue\"}, \"name\": \"\\uc74c\\uc2dd\", \"r\": [1.0, 1.0, 1.0000000000000002, 0.5247394709107109, 0.6507382654962047, 0.0, 0.05944219643514026], \"theta\": [\"\\uc2e0\\uaddc\\uac00\\ub9f9\\uc810\\uc218\", \"\\ud574\\uc9c0\\uac00\\ub9f9\\uc810\\uc218\", \"\\ub9e4\\ucd9c\\uac00\\ub9f9\\uc810\\uc218\", \"\\uce74\\ub4dc\\ub9e4\\ucd9c\\uae08\\uc561\", \"\\uce74\\ub4dc\\ub9e4\\ucd9c\\uac74\\uc218\", \"\\uc810\\ub2f9\\ub9e4\\ucd9c\\uae08\\uc561\", \"\\uac74\\ub2f9\\ub9e4\\ucd9c\\uae08\\uc561\"], \"type\": \"scatterpolar\"}, {\"fill\": \"toself\", \"line\": {\"color\": \"blue\"}, \"name\": \"\\uadf8 \\uc678 \\uc0b0\\uc5c5\", \"r\": [0.20792284274092926, 0.18633183226806121, 0.2191402788624423, 0.4946020387284107, 0.3277111354261206, 0.1716692494049829, 0.43338461023977515], \"theta\": [\"\\uc2e0\\uaddc\\uac00\\ub9f9\\uc810\\uc218\", \"\\ud574\\uc9c0\\uac00\\ub9f9\\uc810\\uc218\", \"\\ub9e4\\ucd9c\\uac00\\ub9f9\\uc810\\uc218\", \"\\uce74\\ub4dc\\ub9e4\\ucd9c\\uae08\\uc561\", \"\\uce74\\ub4dc\\ub9e4\\ucd9c\\uac74\\uc218\", \"\\uc810\\ub2f9\\ub9e4\\ucd9c\\uae08\\uc561\", \"\\uac74\\ub2f9\\ub9e4\\ucd9c\\uae08\\uc561\"], \"type\": \"scatterpolar\"}, {\"fill\": \"toself\", \"line\": {\"color\": \"green\"}, \"name\": \"\\uc804\\ubb38\\uc11c\\ube44\\uc2a4\", \"r\": [0.349124120377302, 0.29283483439860547, 0.3477153438461371, 0.6090312640367939, 0.18110410360844903, 0.0029309694569760627, 0.9999999999999998, \"\\uc804\\ubb38\\uc11c\\ube44\\uc2a4\", 1], \"theta\": [\"\\uc2e0\\uaddc\\uac00\\ub9f9\\uc810\\uc218\", \"\\ud574\\uc9c0\\uac00\\ub9f9\\uc810\\uc218\", \"\\ub9e4\\ucd9c\\uac00\\ub9f9\\uc810\\uc218\", \"\\uce74\\ub4dc\\ub9e4\\ucd9c\\uae08\\uc561\", \"\\uce74\\ub4dc\\ub9e4\\ucd9c\\uac74\\uc218\", \"\\uc810\\ub2f9\\ub9e4\\ucd9c\\uae08\\uc561\", \"\\uac74\\ub2f9\\ub9e4\\ucd9c\\uae08\\uc561\"], \"type\": \"scatterpolar\"}],\n",
              "                        {\"polar\": {\"radialaxis\": {\"title\": {\"text\": \"5    1\\nName: \\ud074\\ub7ec\\uc2a4\\ud130, dtype: int32\"}, \"visible\": true}}, \"template\": {\"data\": {\"bar\": [{\"error_x\": {\"color\": \"#2a3f5f\"}, \"error_y\": {\"color\": \"#2a3f5f\"}, \"marker\": {\"line\": {\"color\": \"#E5ECF6\", \"width\": 0.5}}, \"type\": \"bar\"}], \"barpolar\": [{\"marker\": {\"line\": {\"color\": \"#E5ECF6\", \"width\": 0.5}}, \"type\": \"barpolar\"}], \"carpet\": [{\"aaxis\": {\"endlinecolor\": \"#2a3f5f\", \"gridcolor\": \"white\", \"linecolor\": \"white\", \"minorgridcolor\": \"white\", \"startlinecolor\": \"#2a3f5f\"}, \"baxis\": {\"endlinecolor\": \"#2a3f5f\", \"gridcolor\": \"white\", \"linecolor\": \"white\", \"minorgridcolor\": \"white\", \"startlinecolor\": \"#2a3f5f\"}, \"type\": \"carpet\"}], \"choropleth\": [{\"colorbar\": {\"outlinewidth\": 0, \"ticks\": \"\"}, \"type\": \"choropleth\"}], \"contour\": [{\"colorbar\": {\"outlinewidth\": 0, \"ticks\": \"\"}, \"colorscale\": [[0.0, \"#0d0887\"], [0.1111111111111111, \"#46039f\"], [0.2222222222222222, \"#7201a8\"], [0.3333333333333333, \"#9c179e\"], [0.4444444444444444, \"#bd3786\"], [0.5555555555555556, \"#d8576b\"], [0.6666666666666666, \"#ed7953\"], [0.7777777777777778, \"#fb9f3a\"], [0.8888888888888888, \"#fdca26\"], [1.0, \"#f0f921\"]], \"type\": \"contour\"}], \"contourcarpet\": [{\"colorbar\": {\"outlinewidth\": 0, \"ticks\": \"\"}, \"type\": \"contourcarpet\"}], \"heatmap\": [{\"colorbar\": {\"outlinewidth\": 0, \"ticks\": \"\"}, \"colorscale\": [[0.0, \"#0d0887\"], [0.1111111111111111, \"#46039f\"], [0.2222222222222222, \"#7201a8\"], [0.3333333333333333, \"#9c179e\"], [0.4444444444444444, \"#bd3786\"], [0.5555555555555556, \"#d8576b\"], [0.6666666666666666, \"#ed7953\"], [0.7777777777777778, \"#fb9f3a\"], [0.8888888888888888, \"#fdca26\"], [1.0, \"#f0f921\"]], \"type\": \"heatmap\"}], \"heatmapgl\": [{\"colorbar\": {\"outlinewidth\": 0, \"ticks\": \"\"}, \"colorscale\": [[0.0, \"#0d0887\"], [0.1111111111111111, \"#46039f\"], [0.2222222222222222, \"#7201a8\"], [0.3333333333333333, \"#9c179e\"], [0.4444444444444444, \"#bd3786\"], [0.5555555555555556, \"#d8576b\"], [0.6666666666666666, \"#ed7953\"], [0.7777777777777778, \"#fb9f3a\"], [0.8888888888888888, \"#fdca26\"], [1.0, \"#f0f921\"]], \"type\": \"heatmapgl\"}], \"histogram\": [{\"marker\": {\"colorbar\": {\"outlinewidth\": 0, \"ticks\": \"\"}}, \"type\": \"histogram\"}], \"histogram2d\": [{\"colorbar\": {\"outlinewidth\": 0, \"ticks\": \"\"}, \"colorscale\": [[0.0, \"#0d0887\"], [0.1111111111111111, \"#46039f\"], [0.2222222222222222, \"#7201a8\"], [0.3333333333333333, \"#9c179e\"], [0.4444444444444444, \"#bd3786\"], [0.5555555555555556, \"#d8576b\"], [0.6666666666666666, \"#ed7953\"], [0.7777777777777778, \"#fb9f3a\"], [0.8888888888888888, \"#fdca26\"], [1.0, \"#f0f921\"]], \"type\": \"histogram2d\"}], \"histogram2dcontour\": [{\"colorbar\": {\"outlinewidth\": 0, \"ticks\": \"\"}, \"colorscale\": [[0.0, \"#0d0887\"], [0.1111111111111111, \"#46039f\"], [0.2222222222222222, \"#7201a8\"], [0.3333333333333333, \"#9c179e\"], [0.4444444444444444, \"#bd3786\"], [0.5555555555555556, \"#d8576b\"], [0.6666666666666666, \"#ed7953\"], [0.7777777777777778, \"#fb9f3a\"], [0.8888888888888888, \"#fdca26\"], [1.0, \"#f0f921\"]], \"type\": \"histogram2dcontour\"}], \"mesh3d\": [{\"colorbar\": {\"outlinewidth\": 0, \"ticks\": \"\"}, \"type\": \"mesh3d\"}], \"parcoords\": [{\"line\": {\"colorbar\": {\"outlinewidth\": 0, \"ticks\": \"\"}}, \"type\": \"parcoords\"}], \"pie\": [{\"automargin\": true, \"type\": \"pie\"}], \"scatter\": [{\"marker\": {\"colorbar\": {\"outlinewidth\": 0, \"ticks\": \"\"}}, \"type\": \"scatter\"}], \"scatter3d\": [{\"line\": {\"colorbar\": {\"outlinewidth\": 0, \"ticks\": \"\"}}, \"marker\": {\"colorbar\": {\"outlinewidth\": 0, \"ticks\": \"\"}}, \"type\": \"scatter3d\"}], \"scattercarpet\": [{\"marker\": {\"colorbar\": {\"outlinewidth\": 0, \"ticks\": \"\"}}, \"type\": \"scattercarpet\"}], \"scattergeo\": [{\"marker\": {\"colorbar\": {\"outlinewidth\": 0, \"ticks\": \"\"}}, \"type\": \"scattergeo\"}], \"scattergl\": [{\"marker\": {\"colorbar\": {\"outlinewidth\": 0, \"ticks\": \"\"}}, \"type\": \"scattergl\"}], \"scattermapbox\": [{\"marker\": {\"colorbar\": {\"outlinewidth\": 0, \"ticks\": \"\"}}, \"type\": \"scattermapbox\"}], \"scatterpolar\": [{\"marker\": {\"colorbar\": {\"outlinewidth\": 0, \"ticks\": \"\"}}, \"type\": \"scatterpolar\"}], \"scatterpolargl\": [{\"marker\": {\"colorbar\": {\"outlinewidth\": 0, \"ticks\": \"\"}}, \"type\": \"scatterpolargl\"}], \"scatterternary\": [{\"marker\": {\"colorbar\": {\"outlinewidth\": 0, \"ticks\": \"\"}}, \"type\": \"scatterternary\"}], \"surface\": [{\"colorbar\": {\"outlinewidth\": 0, \"ticks\": \"\"}, \"colorscale\": [[0.0, \"#0d0887\"], [0.1111111111111111, \"#46039f\"], [0.2222222222222222, \"#7201a8\"], [0.3333333333333333, \"#9c179e\"], [0.4444444444444444, \"#bd3786\"], [0.5555555555555556, \"#d8576b\"], [0.6666666666666666, \"#ed7953\"], [0.7777777777777778, \"#fb9f3a\"], [0.8888888888888888, \"#fdca26\"], [1.0, \"#f0f921\"]], \"type\": \"surface\"}], \"table\": [{\"cells\": {\"fill\": {\"color\": \"#EBF0F8\"}, \"line\": {\"color\": \"white\"}}, \"header\": {\"fill\": {\"color\": \"#C8D4E3\"}, \"line\": {\"color\": \"white\"}}, \"type\": \"table\"}]}, \"layout\": {\"annotationdefaults\": {\"arrowcolor\": \"#2a3f5f\", \"arrowhead\": 0, \"arrowwidth\": 1}, \"coloraxis\": {\"colorbar\": {\"outlinewidth\": 0, \"ticks\": \"\"}}, \"colorscale\": {\"diverging\": [[0, \"#8e0152\"], [0.1, \"#c51b7d\"], [0.2, \"#de77ae\"], [0.3, \"#f1b6da\"], [0.4, \"#fde0ef\"], [0.5, \"#f7f7f7\"], [0.6, \"#e6f5d0\"], [0.7, \"#b8e186\"], [0.8, \"#7fbc41\"], [0.9, \"#4d9221\"], [1, \"#276419\"]], \"sequential\": [[0.0, \"#0d0887\"], [0.1111111111111111, \"#46039f\"], [0.2222222222222222, \"#7201a8\"], [0.3333333333333333, \"#9c179e\"], [0.4444444444444444, \"#bd3786\"], [0.5555555555555556, \"#d8576b\"], [0.6666666666666666, \"#ed7953\"], [0.7777777777777778, \"#fb9f3a\"], [0.8888888888888888, \"#fdca26\"], [1.0, \"#f0f921\"]], \"sequentialminus\": [[0.0, \"#0d0887\"], [0.1111111111111111, \"#46039f\"], [0.2222222222222222, \"#7201a8\"], [0.3333333333333333, \"#9c179e\"], [0.4444444444444444, \"#bd3786\"], [0.5555555555555556, \"#d8576b\"], [0.6666666666666666, \"#ed7953\"], [0.7777777777777778, \"#fb9f3a\"], [0.8888888888888888, \"#fdca26\"], [1.0, \"#f0f921\"]]}, \"colorway\": [\"#636efa\", \"#EF553B\", \"#00cc96\", \"#ab63fa\", \"#FFA15A\", \"#19d3f3\", \"#FF6692\", \"#B6E880\", \"#FF97FF\", \"#FECB52\"], \"font\": {\"color\": \"#2a3f5f\"}, \"geo\": {\"bgcolor\": \"white\", \"lakecolor\": \"white\", \"landcolor\": \"#E5ECF6\", \"showlakes\": true, \"showland\": true, \"subunitcolor\": \"white\"}, \"hoverlabel\": {\"align\": \"left\"}, \"hovermode\": \"closest\", \"mapbox\": {\"style\": \"light\"}, \"paper_bgcolor\": \"white\", \"plot_bgcolor\": \"#E5ECF6\", \"polar\": {\"angularaxis\": {\"gridcolor\": \"white\", \"linecolor\": \"white\", \"ticks\": \"\"}, \"bgcolor\": \"#E5ECF6\", \"radialaxis\": {\"gridcolor\": \"white\", \"linecolor\": \"white\", \"ticks\": \"\"}}, \"scene\": {\"xaxis\": {\"backgroundcolor\": \"#E5ECF6\", \"gridcolor\": \"white\", \"gridwidth\": 2, \"linecolor\": \"white\", \"showbackground\": true, \"ticks\": \"\", \"zerolinecolor\": \"white\"}, \"yaxis\": {\"backgroundcolor\": \"#E5ECF6\", \"gridcolor\": \"white\", \"gridwidth\": 2, \"linecolor\": \"white\", \"showbackground\": true, \"ticks\": \"\", \"zerolinecolor\": \"white\"}, \"zaxis\": {\"backgroundcolor\": \"#E5ECF6\", \"gridcolor\": \"white\", \"gridwidth\": 2, \"linecolor\": \"white\", \"showbackground\": true, \"ticks\": \"\", \"zerolinecolor\": \"white\"}}, \"shapedefaults\": {\"line\": {\"color\": \"#2a3f5f\"}}, \"ternary\": {\"aaxis\": {\"gridcolor\": \"white\", \"linecolor\": \"white\", \"ticks\": \"\"}, \"baxis\": {\"gridcolor\": \"white\", \"linecolor\": \"white\", \"ticks\": \"\"}, \"bgcolor\": \"#E5ECF6\", \"caxis\": {\"gridcolor\": \"white\", \"linecolor\": \"white\", \"ticks\": \"\"}}, \"title\": {\"x\": 0.05}, \"xaxis\": {\"automargin\": true, \"gridcolor\": \"white\", \"linecolor\": \"white\", \"ticks\": \"\", \"title\": {\"standoff\": 15}, \"zerolinecolor\": \"white\", \"zerolinewidth\": 2}, \"yaxis\": {\"automargin\": true, \"gridcolor\": \"white\", \"linecolor\": \"white\", \"ticks\": \"\", \"title\": {\"standoff\": 15}, \"zerolinecolor\": \"white\", \"zerolinewidth\": 2}}}},\n",
              "                        {\"responsive\": true}\n",
              "                    ).then(function(){\n",
              "                            \n",
              "var gd = document.getElementById('e84fee9a-2d97-4413-8af8-0acf6874125c');\n",
              "var x = new MutationObserver(function (mutations, observer) {{\n",
              "        var display = window.getComputedStyle(gd).display;\n",
              "        if (!display || display === 'none') {{\n",
              "            console.log([gd, 'removed!']);\n",
              "            Plotly.purge(gd);\n",
              "            observer.disconnect();\n",
              "        }}\n",
              "}});\n",
              "\n",
              "// Listen for the removal of the full notebook cells\n",
              "var notebookContainer = gd.closest('#notebook-container');\n",
              "if (notebookContainer) {{\n",
              "    x.observe(notebookContainer, {childList: true});\n",
              "}}\n",
              "\n",
              "// Listen for the clearing of the current output cell\n",
              "var outputEl = gd.closest('.output');\n",
              "if (outputEl) {{\n",
              "    x.observe(outputEl, {childList: true});\n",
              "}}\n",
              "\n",
              "                        })\n",
              "                };\n",
              "                \n",
              "            </script>\n",
              "        </div>\n",
              "</body>\n",
              "</html>"
            ]
          },
          "metadata": {
            "tags": []
          }
        }
      ]
    },
    {
      "cell_type": "code",
      "metadata": {
        "id": "GJrn8uf-R9-V"
      },
      "source": [
        ""
      ],
      "execution_count": 83,
      "outputs": []
    }
  ]
}