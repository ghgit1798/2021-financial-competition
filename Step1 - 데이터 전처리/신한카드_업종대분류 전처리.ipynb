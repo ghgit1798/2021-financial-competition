{
  "nbformat": 4,
  "nbformat_minor": 0,
  "metadata": {
    "colab": {
      "name": "신한카드 전처리.ipynb",
      "provenance": [],
      "collapsed_sections": [],
      "authorship_tag": "ABX9TyN4Daj8K47ew727bXgt7GrW",
      "include_colab_link": true
    },
    "kernelspec": {
      "name": "python3",
      "display_name": "Python 3"
    },
    "language_info": {
      "name": "python"
    }
  },
  "cells": [
    {
      "cell_type": "markdown",
      "metadata": {
        "id": "view-in-github",
        "colab_type": "text"
      },
      "source": [
        "<a href=\"https://colab.research.google.com/github/ghgit1798/2021-financial-competition/blob/Guhyeon/%EC%8B%A0%ED%95%9C%EC%B9%B4%EB%93%9C_%EC%97%85%EC%A2%85%EB%8C%80%EB%B6%84%EB%A5%98%20%EC%A0%84%EC%B2%98%EB%A6%AC.ipynb\" target=\"_parent\"><img src=\"https://colab.research.google.com/assets/colab-badge.svg\" alt=\"Open In Colab\"/></a>"
      ]
    },
    {
      "cell_type": "code",
      "metadata": {
        "id": "etaTaaaDNOI7"
      },
      "source": [
        "import pandas as pd\n",
        "import plotly.graph_objects as go\n",
        "from matplotlib import pyplot as plt\n",
        "\n",
        "from sklearn.cluster import KMeans\n",
        "from sklearn.preprocessing import MinMaxScaler"
      ],
      "execution_count": 4,
      "outputs": []
    },
    {
      "cell_type": "code",
      "metadata": {
        "id": "Gd8IVGjrj5aP"
      },
      "source": [
        "og = pd.read_csv('신한카드.csv', index_col=0, encoding='utf-8')"
      ],
      "execution_count": 50,
      "outputs": []
    },
    {
      "cell_type": "code",
      "metadata": {
        "colab": {
          "base_uri": "https://localhost:8080/"
        },
        "id": "p6rM0w3RdALO",
        "outputId": "ec99347c-67b5-487b-c44f-09f6a6ac57cb"
      },
      "source": [
        "og.columns"
      ],
      "execution_count": 51,
      "outputs": [
        {
          "output_type": "execute_result",
          "data": {
            "text/plain": [
              "Index(['기준년월', '광역시도명', '업종대분류', '업종중분류', '업종소분류', '신규가맹점수', '해지가맹점수',\n",
              "       '매출가맹점수', '카드매출금액', '카드매출건수', '점당매출금액', '건당매출금액'],\n",
              "      dtype='object')"
            ]
          },
          "metadata": {
            "tags": []
          },
          "execution_count": 51
        }
      ]
    },
    {
      "cell_type": "code",
      "metadata": {
        "colab": {
          "base_uri": "https://localhost:8080/"
        },
        "id": "b45jsiMNd7-r",
        "outputId": "d7e5ee2c-1285-4538-b867-3066c301e731"
      },
      "source": [
        "# 업종대분류에 nan값과 음식업종이 2개로 분리되어 있다.\n",
        "og['업종대분류'].unique()"
      ],
      "execution_count": 52,
      "outputs": [
        {
          "output_type": "execute_result",
          "data": {
            "text/plain": [
              "array(['문화레져', '생활서비스', '음식', '일반유통', '전문서비스', '종합유통', nan, '기타', '음식 '],\n",
              "      dtype=object)"
            ]
          },
          "metadata": {
            "tags": []
          },
          "execution_count": 52
        }
      ]
    },
    {
      "cell_type": "code",
      "metadata": {
        "colab": {
          "base_uri": "https://localhost:8080/",
          "height": 418
        },
        "id": "zuxmKQtMe9Ny",
        "outputId": "da77ead9-4951-422c-d889-59dbc7767cb9"
      },
      "source": [
        "og"
      ],
      "execution_count": 53,
      "outputs": [
        {
          "output_type": "execute_result",
          "data": {
            "text/html": [
              "<div>\n",
              "<style scoped>\n",
              "    .dataframe tbody tr th:only-of-type {\n",
              "        vertical-align: middle;\n",
              "    }\n",
              "\n",
              "    .dataframe tbody tr th {\n",
              "        vertical-align: top;\n",
              "    }\n",
              "\n",
              "    .dataframe thead th {\n",
              "        text-align: right;\n",
              "    }\n",
              "</style>\n",
              "<table border=\"1\" class=\"dataframe\">\n",
              "  <thead>\n",
              "    <tr style=\"text-align: right;\">\n",
              "      <th></th>\n",
              "      <th>기준년월</th>\n",
              "      <th>광역시도명</th>\n",
              "      <th>업종대분류</th>\n",
              "      <th>업종중분류</th>\n",
              "      <th>업종소분류</th>\n",
              "      <th>신규가맹점수</th>\n",
              "      <th>해지가맹점수</th>\n",
              "      <th>매출가맹점수</th>\n",
              "      <th>카드매출금액</th>\n",
              "      <th>카드매출건수</th>\n",
              "      <th>점당매출금액</th>\n",
              "      <th>건당매출금액</th>\n",
              "    </tr>\n",
              "  </thead>\n",
              "  <tbody>\n",
              "    <tr>\n",
              "      <th>0</th>\n",
              "      <td>201903</td>\n",
              "      <td>강원</td>\n",
              "      <td>문화레져</td>\n",
              "      <td>동물</td>\n",
              "      <td>동물농장</td>\n",
              "      <td>3</td>\n",
              "      <td>1</td>\n",
              "      <td>12</td>\n",
              "      <td>16036000</td>\n",
              "      <td>500</td>\n",
              "      <td>1336292</td>\n",
              "      <td>32071</td>\n",
              "    </tr>\n",
              "    <tr>\n",
              "      <th>1</th>\n",
              "      <td>201903</td>\n",
              "      <td>강원</td>\n",
              "      <td>문화레져</td>\n",
              "      <td>동물</td>\n",
              "      <td>애완동물/용품</td>\n",
              "      <td>5</td>\n",
              "      <td>1</td>\n",
              "      <td>190</td>\n",
              "      <td>283445000</td>\n",
              "      <td>7826</td>\n",
              "      <td>1491816</td>\n",
              "      <td>36218</td>\n",
              "    </tr>\n",
              "    <tr>\n",
              "      <th>2</th>\n",
              "      <td>201903</td>\n",
              "      <td>강원</td>\n",
              "      <td>문화레져</td>\n",
              "      <td>동물병원</td>\n",
              "      <td>병원-동물병원</td>\n",
              "      <td>0</td>\n",
              "      <td>1</td>\n",
              "      <td>88</td>\n",
              "      <td>341305000</td>\n",
              "      <td>4910</td>\n",
              "      <td>3878461</td>\n",
              "      <td>69512</td>\n",
              "    </tr>\n",
              "    <tr>\n",
              "      <th>3</th>\n",
              "      <td>201903</td>\n",
              "      <td>강원</td>\n",
              "      <td>문화레져</td>\n",
              "      <td>레져</td>\n",
              "      <td>골프장</td>\n",
              "      <td>0</td>\n",
              "      <td>1</td>\n",
              "      <td>80</td>\n",
              "      <td>3575639000</td>\n",
              "      <td>25016</td>\n",
              "      <td>44695491</td>\n",
              "      <td>142934</td>\n",
              "    </tr>\n",
              "    <tr>\n",
              "      <th>4</th>\n",
              "      <td>201903</td>\n",
              "      <td>강원</td>\n",
              "      <td>문화레져</td>\n",
              "      <td>레져</td>\n",
              "      <td>낚시터</td>\n",
              "      <td>1</td>\n",
              "      <td>1</td>\n",
              "      <td>3</td>\n",
              "      <td>748000</td>\n",
              "      <td>9</td>\n",
              "      <td>249333</td>\n",
              "      <td>83111</td>\n",
              "    </tr>\n",
              "    <tr>\n",
              "      <th>...</th>\n",
              "      <td>...</td>\n",
              "      <td>...</td>\n",
              "      <td>...</td>\n",
              "      <td>...</td>\n",
              "      <td>...</td>\n",
              "      <td>...</td>\n",
              "      <td>...</td>\n",
              "      <td>...</td>\n",
              "      <td>...</td>\n",
              "      <td>...</td>\n",
              "      <td>...</td>\n",
              "      <td>...</td>\n",
              "    </tr>\n",
              "    <tr>\n",
              "      <th>23887</th>\n",
              "      <td>202009</td>\n",
              "      <td>충북</td>\n",
              "      <td>종합유통</td>\n",
              "      <td>전용매장</td>\n",
              "      <td>복지매점</td>\n",
              "      <td>0</td>\n",
              "      <td>0</td>\n",
              "      <td>5</td>\n",
              "      <td>2199000</td>\n",
              "      <td>415</td>\n",
              "      <td>439877</td>\n",
              "      <td>5300</td>\n",
              "    </tr>\n",
              "    <tr>\n",
              "      <th>23888</th>\n",
              "      <td>202009</td>\n",
              "      <td>충북</td>\n",
              "      <td>종합유통</td>\n",
              "      <td>전용매장</td>\n",
              "      <td>사원전용매장</td>\n",
              "      <td>0</td>\n",
              "      <td>0</td>\n",
              "      <td>10</td>\n",
              "      <td>82163000</td>\n",
              "      <td>3971</td>\n",
              "      <td>8216280</td>\n",
              "      <td>20691</td>\n",
              "    </tr>\n",
              "    <tr>\n",
              "      <th>23889</th>\n",
              "      <td>202009</td>\n",
              "      <td>충북</td>\n",
              "      <td>종합유통</td>\n",
              "      <td>전용매장</td>\n",
              "      <td>연금매장</td>\n",
              "      <td>0</td>\n",
              "      <td>0</td>\n",
              "      <td>3</td>\n",
              "      <td>36451000</td>\n",
              "      <td>1602</td>\n",
              "      <td>12150400</td>\n",
              "      <td>22754</td>\n",
              "    </tr>\n",
              "    <tr>\n",
              "      <th>23890</th>\n",
              "      <td>202009</td>\n",
              "      <td>충북</td>\n",
              "      <td>종합유통</td>\n",
              "      <td>편의점</td>\n",
              "      <td>편의점</td>\n",
              "      <td>31</td>\n",
              "      <td>23</td>\n",
              "      <td>1726</td>\n",
              "      <td>10572495000</td>\n",
              "      <td>1365915</td>\n",
              "      <td>6125432</td>\n",
              "      <td>7740</td>\n",
              "    </tr>\n",
              "    <tr>\n",
              "      <th>23891</th>\n",
              "      <td>202009</td>\n",
              "      <td>충북</td>\n",
              "      <td>NaN</td>\n",
              "      <td>NaN</td>\n",
              "      <td>NaN</td>\n",
              "      <td>0</td>\n",
              "      <td>0</td>\n",
              "      <td>0</td>\n",
              "      <td>0</td>\n",
              "      <td>0</td>\n",
              "      <td>0</td>\n",
              "      <td>0</td>\n",
              "    </tr>\n",
              "  </tbody>\n",
              "</table>\n",
              "<p>23892 rows × 12 columns</p>\n",
              "</div>"
            ],
            "text/plain": [
              "         기준년월 광역시도명 업종대분류 업종중분류  ...       카드매출금액   카드매출건수    점당매출금액  건당매출금액\n",
              "0      201903    강원  문화레져    동물  ...     16036000      500   1336292   32071\n",
              "1      201903    강원  문화레져    동물  ...    283445000     7826   1491816   36218\n",
              "2      201903    강원  문화레져  동물병원  ...    341305000     4910   3878461   69512\n",
              "3      201903    강원  문화레져    레져  ...   3575639000    25016  44695491  142934\n",
              "4      201903    강원  문화레져    레져  ...       748000        9    249333   83111\n",
              "...       ...   ...   ...   ...  ...          ...      ...       ...     ...\n",
              "23887  202009    충북  종합유통  전용매장  ...      2199000      415    439877    5300\n",
              "23888  202009    충북  종합유통  전용매장  ...     82163000     3971   8216280   20691\n",
              "23889  202009    충북  종합유통  전용매장  ...     36451000     1602  12150400   22754\n",
              "23890  202009    충북  종합유통   편의점  ...  10572495000  1365915   6125432    7740\n",
              "23891  202009    충북   NaN   NaN  ...            0        0         0       0\n",
              "\n",
              "[23892 rows x 12 columns]"
            ]
          },
          "metadata": {
            "tags": []
          },
          "execution_count": 53
        }
      ]
    },
    {
      "cell_type": "code",
      "metadata": {
        "colab": {
          "base_uri": "https://localhost:8080/"
        },
        "id": "_na_1ZHTe9Rh",
        "outputId": "aaca8c53-f110-4c44-8810-0c1c111a56fd"
      },
      "source": [
        "# 업종분류가 되지 않은 종류가 72개이므로, 삭제할 지 레이블링을 해줄 지 결정해야 한다.\n",
        "og.isnull().sum()"
      ],
      "execution_count": 54,
      "outputs": [
        {
          "output_type": "execute_result",
          "data": {
            "text/plain": [
              "기준년월       0\n",
              "광역시도명      0\n",
              "업종대분류     72\n",
              "업종중분류     72\n",
              "업종소분류     72\n",
              "신규가맹점수     0\n",
              "해지가맹점수     0\n",
              "매출가맹점수     0\n",
              "카드매출금액     0\n",
              "카드매출건수     0\n",
              "점당매출금액     0\n",
              "건당매출금액     0\n",
              "dtype: int64"
            ]
          },
          "metadata": {
            "tags": []
          },
          "execution_count": 54
        }
      ]
    },
    {
      "cell_type": "code",
      "metadata": {
        "colab": {
          "base_uri": "https://localhost:8080/",
          "height": 418
        },
        "id": "KoJBNp8re9Uo",
        "outputId": "d872d920-d2f4-454f-99fb-7aa0d716cd8b"
      },
      "source": [
        "# 매출가맹점수가 1480개인 업종도 존재한다.\n",
        "# 반면, 매출가맹점수가 0개인 것도 존재한다.\n",
        "og[og['업종대분류'].isnull()]"
      ],
      "execution_count": 55,
      "outputs": [
        {
          "output_type": "execute_result",
          "data": {
            "text/html": [
              "<div>\n",
              "<style scoped>\n",
              "    .dataframe tbody tr th:only-of-type {\n",
              "        vertical-align: middle;\n",
              "    }\n",
              "\n",
              "    .dataframe tbody tr th {\n",
              "        vertical-align: top;\n",
              "    }\n",
              "\n",
              "    .dataframe thead th {\n",
              "        text-align: right;\n",
              "    }\n",
              "</style>\n",
              "<table border=\"1\" class=\"dataframe\">\n",
              "  <thead>\n",
              "    <tr style=\"text-align: right;\">\n",
              "      <th></th>\n",
              "      <th>기준년월</th>\n",
              "      <th>광역시도명</th>\n",
              "      <th>업종대분류</th>\n",
              "      <th>업종중분류</th>\n",
              "      <th>업종소분류</th>\n",
              "      <th>신규가맹점수</th>\n",
              "      <th>해지가맹점수</th>\n",
              "      <th>매출가맹점수</th>\n",
              "      <th>카드매출금액</th>\n",
              "      <th>카드매출건수</th>\n",
              "      <th>점당매출금액</th>\n",
              "      <th>건당매출금액</th>\n",
              "    </tr>\n",
              "  </thead>\n",
              "  <tbody>\n",
              "    <tr>\n",
              "      <th>334</th>\n",
              "      <td>201903</td>\n",
              "      <td>강원</td>\n",
              "      <td>NaN</td>\n",
              "      <td>NaN</td>\n",
              "      <td>NaN</td>\n",
              "      <td>0</td>\n",
              "      <td>0</td>\n",
              "      <td>492</td>\n",
              "      <td>1499526000</td>\n",
              "      <td>33382</td>\n",
              "      <td>3047818</td>\n",
              "      <td>44920</td>\n",
              "    </tr>\n",
              "    <tr>\n",
              "      <th>681</th>\n",
              "      <td>201903</td>\n",
              "      <td>경기</td>\n",
              "      <td>NaN</td>\n",
              "      <td>NaN</td>\n",
              "      <td>NaN</td>\n",
              "      <td>0</td>\n",
              "      <td>0</td>\n",
              "      <td>1480</td>\n",
              "      <td>26941555000</td>\n",
              "      <td>1685731</td>\n",
              "      <td>18203753</td>\n",
              "      <td>15982</td>\n",
              "    </tr>\n",
              "    <tr>\n",
              "      <th>1022</th>\n",
              "      <td>201903</td>\n",
              "      <td>경남</td>\n",
              "      <td>NaN</td>\n",
              "      <td>NaN</td>\n",
              "      <td>NaN</td>\n",
              "      <td>0</td>\n",
              "      <td>0</td>\n",
              "      <td>412</td>\n",
              "      <td>1092492000</td>\n",
              "      <td>21015</td>\n",
              "      <td>2651680</td>\n",
              "      <td>51986</td>\n",
              "    </tr>\n",
              "    <tr>\n",
              "      <th>1360</th>\n",
              "      <td>201903</td>\n",
              "      <td>경북</td>\n",
              "      <td>NaN</td>\n",
              "      <td>NaN</td>\n",
              "      <td>NaN</td>\n",
              "      <td>0</td>\n",
              "      <td>0</td>\n",
              "      <td>457</td>\n",
              "      <td>1822708000</td>\n",
              "      <td>34566</td>\n",
              "      <td>3988420</td>\n",
              "      <td>52731</td>\n",
              "    </tr>\n",
              "    <tr>\n",
              "      <th>1688</th>\n",
              "      <td>201903</td>\n",
              "      <td>광주</td>\n",
              "      <td>NaN</td>\n",
              "      <td>NaN</td>\n",
              "      <td>NaN</td>\n",
              "      <td>0</td>\n",
              "      <td>0</td>\n",
              "      <td>216</td>\n",
              "      <td>879589000</td>\n",
              "      <td>17898</td>\n",
              "      <td>4072172</td>\n",
              "      <td>49145</td>\n",
              "    </tr>\n",
              "    <tr>\n",
              "      <th>...</th>\n",
              "      <td>...</td>\n",
              "      <td>...</td>\n",
              "      <td>...</td>\n",
              "      <td>...</td>\n",
              "      <td>...</td>\n",
              "      <td>...</td>\n",
              "      <td>...</td>\n",
              "      <td>...</td>\n",
              "      <td>...</td>\n",
              "      <td>...</td>\n",
              "      <td>...</td>\n",
              "      <td>...</td>\n",
              "    </tr>\n",
              "    <tr>\n",
              "      <th>22550</th>\n",
              "      <td>202009</td>\n",
              "      <td>전남</td>\n",
              "      <td>NaN</td>\n",
              "      <td>NaN</td>\n",
              "      <td>NaN</td>\n",
              "      <td>0</td>\n",
              "      <td>0</td>\n",
              "      <td>0</td>\n",
              "      <td>0</td>\n",
              "      <td>0</td>\n",
              "      <td>0</td>\n",
              "      <td>0</td>\n",
              "    </tr>\n",
              "    <tr>\n",
              "      <th>22889</th>\n",
              "      <td>202009</td>\n",
              "      <td>전북</td>\n",
              "      <td>NaN</td>\n",
              "      <td>NaN</td>\n",
              "      <td>NaN</td>\n",
              "      <td>0</td>\n",
              "      <td>0</td>\n",
              "      <td>0</td>\n",
              "      <td>0</td>\n",
              "      <td>0</td>\n",
              "      <td>0</td>\n",
              "      <td>0</td>\n",
              "    </tr>\n",
              "    <tr>\n",
              "      <th>23214</th>\n",
              "      <td>202009</td>\n",
              "      <td>제주</td>\n",
              "      <td>NaN</td>\n",
              "      <td>NaN</td>\n",
              "      <td>NaN</td>\n",
              "      <td>0</td>\n",
              "      <td>0</td>\n",
              "      <td>0</td>\n",
              "      <td>0</td>\n",
              "      <td>0</td>\n",
              "      <td>0</td>\n",
              "      <td>0</td>\n",
              "    </tr>\n",
              "    <tr>\n",
              "      <th>23551</th>\n",
              "      <td>202009</td>\n",
              "      <td>충남</td>\n",
              "      <td>NaN</td>\n",
              "      <td>NaN</td>\n",
              "      <td>NaN</td>\n",
              "      <td>0</td>\n",
              "      <td>0</td>\n",
              "      <td>0</td>\n",
              "      <td>0</td>\n",
              "      <td>0</td>\n",
              "      <td>0</td>\n",
              "      <td>0</td>\n",
              "    </tr>\n",
              "    <tr>\n",
              "      <th>23891</th>\n",
              "      <td>202009</td>\n",
              "      <td>충북</td>\n",
              "      <td>NaN</td>\n",
              "      <td>NaN</td>\n",
              "      <td>NaN</td>\n",
              "      <td>0</td>\n",
              "      <td>0</td>\n",
              "      <td>0</td>\n",
              "      <td>0</td>\n",
              "      <td>0</td>\n",
              "      <td>0</td>\n",
              "      <td>0</td>\n",
              "    </tr>\n",
              "  </tbody>\n",
              "</table>\n",
              "<p>72 rows × 12 columns</p>\n",
              "</div>"
            ],
            "text/plain": [
              "         기준년월 광역시도명 업종대분류 업종중분류  ...       카드매출금액   카드매출건수    점당매출금액  건당매출금액\n",
              "334    201903    강원   NaN   NaN  ...   1499526000    33382   3047818   44920\n",
              "681    201903    경기   NaN   NaN  ...  26941555000  1685731  18203753   15982\n",
              "1022   201903    경남   NaN   NaN  ...   1092492000    21015   2651680   51986\n",
              "1360   201903    경북   NaN   NaN  ...   1822708000    34566   3988420   52731\n",
              "1688   201903    광주   NaN   NaN  ...    879589000    17898   4072172   49145\n",
              "...       ...   ...   ...   ...  ...          ...      ...       ...     ...\n",
              "22550  202009    전남   NaN   NaN  ...            0        0         0       0\n",
              "22889  202009    전북   NaN   NaN  ...            0        0         0       0\n",
              "23214  202009    제주   NaN   NaN  ...            0        0         0       0\n",
              "23551  202009    충남   NaN   NaN  ...            0        0         0       0\n",
              "23891  202009    충북   NaN   NaN  ...            0        0         0       0\n",
              "\n",
              "[72 rows x 12 columns]"
            ]
          },
          "metadata": {
            "tags": []
          },
          "execution_count": 55
        }
      ]
    },
    {
      "cell_type": "code",
      "metadata": {
        "id": "8uKb1FLie9WL"
      },
      "source": [
        "# 특정 지역에만 존재하는 가맹점이 있다. 이 산업을 분류하긴 어려우므로 삭제하자.\n",
        "og = og[og['업종대분류'].notnull()]"
      ],
      "execution_count": 56,
      "outputs": []
    },
    {
      "cell_type": "code",
      "metadata": {
        "colab": {
          "base_uri": "https://localhost:8080/"
        },
        "id": "c4WrgPw8e9Yy",
        "outputId": "a97a7283-01a7-4de5-8954-98825390224d"
      },
      "source": [
        "# null값은 전부 삭제되었다.\n",
        "og.isnull().sum()"
      ],
      "execution_count": 57,
      "outputs": [
        {
          "output_type": "execute_result",
          "data": {
            "text/plain": [
              "기준년월      0\n",
              "광역시도명     0\n",
              "업종대분류     0\n",
              "업종중분류     0\n",
              "업종소분류     0\n",
              "신규가맹점수    0\n",
              "해지가맹점수    0\n",
              "매출가맹점수    0\n",
              "카드매출금액    0\n",
              "카드매출건수    0\n",
              "점당매출금액    0\n",
              "건당매출금액    0\n",
              "dtype: int64"
            ]
          },
          "metadata": {
            "tags": []
          },
          "execution_count": 57
        }
      ]
    },
    {
      "cell_type": "code",
      "metadata": {
        "colab": {
          "base_uri": "https://localhost:8080/"
        },
        "id": "Z5VHJgQ2e9bY",
        "outputId": "012b4133-c4a4-4ad9-ba36-3f924b2a7fff"
      },
      "source": [
        "# 다음은 음식 업종을 통합해야한다.\n",
        "og['업종대분류'].unique()"
      ],
      "execution_count": 58,
      "outputs": [
        {
          "output_type": "execute_result",
          "data": {
            "text/plain": [
              "array(['문화레져', '생활서비스', '음식', '일반유통', '전문서비스', '종합유통', '기타', '음식 '],\n",
              "      dtype=object)"
            ]
          },
          "metadata": {
            "tags": []
          },
          "execution_count": 58
        }
      ]
    },
    {
      "cell_type": "code",
      "metadata": {
        "colab": {
          "base_uri": "https://localhost:8080/",
          "height": 543
        },
        "id": "SIeNvysVg3rg",
        "outputId": "e07a14c9-9125-4049-a5b4-489326ab08fa"
      },
      "source": [
        "# 업종소분류가 요식배달인 경우 카테고리 분류가 잘못되어있다.\n",
        "og[og['업종대분류']=='음식 ']"
      ],
      "execution_count": 59,
      "outputs": [
        {
          "output_type": "execute_result",
          "data": {
            "text/html": [
              "<div>\n",
              "<style scoped>\n",
              "    .dataframe tbody tr th:only-of-type {\n",
              "        vertical-align: middle;\n",
              "    }\n",
              "\n",
              "    .dataframe tbody tr th {\n",
              "        vertical-align: top;\n",
              "    }\n",
              "\n",
              "    .dataframe thead th {\n",
              "        text-align: right;\n",
              "    }\n",
              "</style>\n",
              "<table border=\"1\" class=\"dataframe\">\n",
              "  <thead>\n",
              "    <tr style=\"text-align: right;\">\n",
              "      <th></th>\n",
              "      <th>기준년월</th>\n",
              "      <th>광역시도명</th>\n",
              "      <th>업종대분류</th>\n",
              "      <th>업종중분류</th>\n",
              "      <th>업종소분류</th>\n",
              "      <th>신규가맹점수</th>\n",
              "      <th>해지가맹점수</th>\n",
              "      <th>매출가맹점수</th>\n",
              "      <th>카드매출금액</th>\n",
              "      <th>카드매출건수</th>\n",
              "      <th>점당매출금액</th>\n",
              "      <th>건당매출금액</th>\n",
              "    </tr>\n",
              "  </thead>\n",
              "  <tbody>\n",
              "    <tr>\n",
              "      <th>12395</th>\n",
              "      <td>202003</td>\n",
              "      <td>경기</td>\n",
              "      <td>음식</td>\n",
              "      <td>배달</td>\n",
              "      <td>요식배달</td>\n",
              "      <td>0</td>\n",
              "      <td>0</td>\n",
              "      <td>0</td>\n",
              "      <td>0</td>\n",
              "      <td>0</td>\n",
              "      <td>0</td>\n",
              "      <td>0</td>\n",
              "    </tr>\n",
              "    <tr>\n",
              "      <th>12738</th>\n",
              "      <td>202003</td>\n",
              "      <td>경남</td>\n",
              "      <td>음식</td>\n",
              "      <td>배달</td>\n",
              "      <td>요식배달</td>\n",
              "      <td>0</td>\n",
              "      <td>0</td>\n",
              "      <td>0</td>\n",
              "      <td>0</td>\n",
              "      <td>0</td>\n",
              "      <td>0</td>\n",
              "      <td>0</td>\n",
              "    </tr>\n",
              "    <tr>\n",
              "      <th>13080</th>\n",
              "      <td>202003</td>\n",
              "      <td>경북</td>\n",
              "      <td>음식</td>\n",
              "      <td>배달</td>\n",
              "      <td>요식배달</td>\n",
              "      <td>0</td>\n",
              "      <td>0</td>\n",
              "      <td>2</td>\n",
              "      <td>1554000</td>\n",
              "      <td>24</td>\n",
              "      <td>777000</td>\n",
              "      <td>64750</td>\n",
              "    </tr>\n",
              "    <tr>\n",
              "      <th>13416</th>\n",
              "      <td>202003</td>\n",
              "      <td>광주</td>\n",
              "      <td>음식</td>\n",
              "      <td>배달</td>\n",
              "      <td>요식배달</td>\n",
              "      <td>0</td>\n",
              "      <td>0</td>\n",
              "      <td>1</td>\n",
              "      <td>100000</td>\n",
              "      <td>1</td>\n",
              "      <td>100000</td>\n",
              "      <td>100000</td>\n",
              "    </tr>\n",
              "    <tr>\n",
              "      <th>14754</th>\n",
              "      <td>202003</td>\n",
              "      <td>부산</td>\n",
              "      <td>음식</td>\n",
              "      <td>배달</td>\n",
              "      <td>요식배달</td>\n",
              "      <td>0</td>\n",
              "      <td>0</td>\n",
              "      <td>1</td>\n",
              "      <td>93000</td>\n",
              "      <td>2</td>\n",
              "      <td>93000</td>\n",
              "      <td>46500</td>\n",
              "    </tr>\n",
              "    <tr>\n",
              "      <th>15103</th>\n",
              "      <td>202003</td>\n",
              "      <td>서울</td>\n",
              "      <td>음식</td>\n",
              "      <td>배달</td>\n",
              "      <td>요식배달</td>\n",
              "      <td>1</td>\n",
              "      <td>0</td>\n",
              "      <td>2</td>\n",
              "      <td>1270000</td>\n",
              "      <td>5</td>\n",
              "      <td>635000</td>\n",
              "      <td>254000</td>\n",
              "    </tr>\n",
              "    <tr>\n",
              "      <th>16046</th>\n",
              "      <td>202003</td>\n",
              "      <td>인천</td>\n",
              "      <td>음식</td>\n",
              "      <td>배달</td>\n",
              "      <td>요식배달</td>\n",
              "      <td>0</td>\n",
              "      <td>0</td>\n",
              "      <td>0</td>\n",
              "      <td>0</td>\n",
              "      <td>0</td>\n",
              "      <td>0</td>\n",
              "      <td>0</td>\n",
              "    </tr>\n",
              "    <tr>\n",
              "      <th>18413</th>\n",
              "      <td>202009</td>\n",
              "      <td>경기</td>\n",
              "      <td>음식</td>\n",
              "      <td>배달</td>\n",
              "      <td>요식배달</td>\n",
              "      <td>0</td>\n",
              "      <td>0</td>\n",
              "      <td>0</td>\n",
              "      <td>0</td>\n",
              "      <td>0</td>\n",
              "      <td>0</td>\n",
              "      <td>0</td>\n",
              "    </tr>\n",
              "    <tr>\n",
              "      <th>18765</th>\n",
              "      <td>202009</td>\n",
              "      <td>경남</td>\n",
              "      <td>음식</td>\n",
              "      <td>배달</td>\n",
              "      <td>요식배달</td>\n",
              "      <td>0</td>\n",
              "      <td>0</td>\n",
              "      <td>0</td>\n",
              "      <td>0</td>\n",
              "      <td>0</td>\n",
              "      <td>0</td>\n",
              "      <td>0</td>\n",
              "    </tr>\n",
              "    <tr>\n",
              "      <th>19110</th>\n",
              "      <td>202009</td>\n",
              "      <td>경북</td>\n",
              "      <td>음식</td>\n",
              "      <td>배달</td>\n",
              "      <td>요식배달</td>\n",
              "      <td>0</td>\n",
              "      <td>0</td>\n",
              "      <td>2</td>\n",
              "      <td>3370000</td>\n",
              "      <td>54</td>\n",
              "      <td>1685009</td>\n",
              "      <td>62408</td>\n",
              "    </tr>\n",
              "    <tr>\n",
              "      <th>19442</th>\n",
              "      <td>202009</td>\n",
              "      <td>광주</td>\n",
              "      <td>음식</td>\n",
              "      <td>배달</td>\n",
              "      <td>요식배달</td>\n",
              "      <td>0</td>\n",
              "      <td>0</td>\n",
              "      <td>0</td>\n",
              "      <td>0</td>\n",
              "      <td>0</td>\n",
              "      <td>0</td>\n",
              "      <td>0</td>\n",
              "    </tr>\n",
              "    <tr>\n",
              "      <th>19765</th>\n",
              "      <td>202009</td>\n",
              "      <td>기타</td>\n",
              "      <td>음식</td>\n",
              "      <td>배달</td>\n",
              "      <td>요식배달</td>\n",
              "      <td>0</td>\n",
              "      <td>0</td>\n",
              "      <td>0</td>\n",
              "      <td>0</td>\n",
              "      <td>0</td>\n",
              "      <td>0</td>\n",
              "      <td>0</td>\n",
              "    </tr>\n",
              "    <tr>\n",
              "      <th>20772</th>\n",
              "      <td>202009</td>\n",
              "      <td>부산</td>\n",
              "      <td>음식</td>\n",
              "      <td>배달</td>\n",
              "      <td>요식배달</td>\n",
              "      <td>0</td>\n",
              "      <td>0</td>\n",
              "      <td>1</td>\n",
              "      <td>40000</td>\n",
              "      <td>1</td>\n",
              "      <td>40000</td>\n",
              "      <td>40000</td>\n",
              "    </tr>\n",
              "    <tr>\n",
              "      <th>21123</th>\n",
              "      <td>202009</td>\n",
              "      <td>서울</td>\n",
              "      <td>음식</td>\n",
              "      <td>배달</td>\n",
              "      <td>요식배달</td>\n",
              "      <td>0</td>\n",
              "      <td>0</td>\n",
              "      <td>1</td>\n",
              "      <td>350000</td>\n",
              "      <td>1</td>\n",
              "      <td>350000</td>\n",
              "      <td>350000</td>\n",
              "    </tr>\n",
              "    <tr>\n",
              "      <th>22054</th>\n",
              "      <td>202009</td>\n",
              "      <td>인천</td>\n",
              "      <td>음식</td>\n",
              "      <td>배달</td>\n",
              "      <td>요식배달</td>\n",
              "      <td>0</td>\n",
              "      <td>0</td>\n",
              "      <td>0</td>\n",
              "      <td>0</td>\n",
              "      <td>0</td>\n",
              "      <td>0</td>\n",
              "      <td>0</td>\n",
              "    </tr>\n",
              "    <tr>\n",
              "      <th>23061</th>\n",
              "      <td>202009</td>\n",
              "      <td>제주</td>\n",
              "      <td>음식</td>\n",
              "      <td>배달</td>\n",
              "      <td>요식배달</td>\n",
              "      <td>0</td>\n",
              "      <td>0</td>\n",
              "      <td>0</td>\n",
              "      <td>0</td>\n",
              "      <td>0</td>\n",
              "      <td>0</td>\n",
              "      <td>0</td>\n",
              "    </tr>\n",
              "  </tbody>\n",
              "</table>\n",
              "</div>"
            ],
            "text/plain": [
              "         기준년월 광역시도명 업종대분류 업종중분류  ...   카드매출금액  카드매출건수   점당매출금액  건당매출금액\n",
              "12395  202003    경기   음식    배달   ...        0       0        0       0\n",
              "12738  202003    경남   음식    배달   ...        0       0        0       0\n",
              "13080  202003    경북   음식    배달   ...  1554000      24   777000   64750\n",
              "13416  202003    광주   음식    배달   ...   100000       1   100000  100000\n",
              "14754  202003    부산   음식    배달   ...    93000       2    93000   46500\n",
              "15103  202003    서울   음식    배달   ...  1270000       5   635000  254000\n",
              "16046  202003    인천   음식    배달   ...        0       0        0       0\n",
              "18413  202009    경기   음식    배달   ...        0       0        0       0\n",
              "18765  202009    경남   음식    배달   ...        0       0        0       0\n",
              "19110  202009    경북   음식    배달   ...  3370000      54  1685009   62408\n",
              "19442  202009    광주   음식    배달   ...        0       0        0       0\n",
              "19765  202009    기타   음식    배달   ...        0       0        0       0\n",
              "20772  202009    부산   음식    배달   ...    40000       1    40000   40000\n",
              "21123  202009    서울   음식    배달   ...   350000       1   350000  350000\n",
              "22054  202009    인천   음식    배달   ...        0       0        0       0\n",
              "23061  202009    제주   음식    배달   ...        0       0        0       0\n",
              "\n",
              "[16 rows x 12 columns]"
            ]
          },
          "metadata": {
            "tags": []
          },
          "execution_count": 59
        }
      ]
    },
    {
      "cell_type": "code",
      "metadata": {
        "colab": {
          "base_uri": "https://localhost:8080/"
        },
        "id": "9ISWWL0og3u8",
        "outputId": "7664e0d3-9503-4e32-b021-6718ee9fdd04"
      },
      "source": [
        "# 업종대분류를 음식으로 변경해주자.\n",
        "og.loc[og['업종대분류']=='음식 ', '업종대분류'] = '음식'"
      ],
      "execution_count": 78,
      "outputs": [
        {
          "output_type": "stream",
          "text": [
            "/usr/local/lib/python3.7/dist-packages/pandas/core/indexing.py:1763: SettingWithCopyWarning:\n",
            "\n",
            "\n",
            "A value is trying to be set on a copy of a slice from a DataFrame.\n",
            "Try using .loc[row_indexer,col_indexer] = value instead\n",
            "\n",
            "See the caveats in the documentation: https://pandas.pydata.org/pandas-docs/stable/user_guide/indexing.html#returning-a-view-versus-a-copy\n",
            "\n"
          ],
          "name": "stderr"
        }
      ]
    },
    {
      "cell_type": "code",
      "metadata": {
        "colab": {
          "base_uri": "https://localhost:8080/",
          "height": 49
        },
        "id": "o--1qCbLj1aj",
        "outputId": "39418bb5-a9a2-4d4b-f423-f655952d657b"
      },
      "source": [
        "og[og['업종대분류']=='음식 ']"
      ],
      "execution_count": 79,
      "outputs": [
        {
          "output_type": "execute_result",
          "data": {
            "text/html": [
              "<div>\n",
              "<style scoped>\n",
              "    .dataframe tbody tr th:only-of-type {\n",
              "        vertical-align: middle;\n",
              "    }\n",
              "\n",
              "    .dataframe tbody tr th {\n",
              "        vertical-align: top;\n",
              "    }\n",
              "\n",
              "    .dataframe thead th {\n",
              "        text-align: right;\n",
              "    }\n",
              "</style>\n",
              "<table border=\"1\" class=\"dataframe\">\n",
              "  <thead>\n",
              "    <tr style=\"text-align: right;\">\n",
              "      <th></th>\n",
              "      <th>기준년월</th>\n",
              "      <th>광역시도명</th>\n",
              "      <th>업종대분류</th>\n",
              "      <th>업종중분류</th>\n",
              "      <th>업종소분류</th>\n",
              "      <th>신규가맹점수</th>\n",
              "      <th>해지가맹점수</th>\n",
              "      <th>매출가맹점수</th>\n",
              "      <th>카드매출금액</th>\n",
              "      <th>카드매출건수</th>\n",
              "      <th>점당매출금액</th>\n",
              "      <th>건당매출금액</th>\n",
              "    </tr>\n",
              "  </thead>\n",
              "  <tbody>\n",
              "  </tbody>\n",
              "</table>\n",
              "</div>"
            ],
            "text/plain": [
              "Empty DataFrame\n",
              "Columns: [기준년월, 광역시도명, 업종대분류, 업종중분류, 업종소분류, 신규가맹점수, 해지가맹점수, 매출가맹점수, 카드매출금액, 카드매출건수, 점당매출금액, 건당매출금액]\n",
              "Index: []"
            ]
          },
          "metadata": {
            "tags": []
          },
          "execution_count": 79
        }
      ]
    },
    {
      "cell_type": "code",
      "metadata": {
        "colab": {
          "base_uri": "https://localhost:8080/"
        },
        "id": "g7-zuSUng30u",
        "outputId": "976d0712-4551-4ae2-9a7b-81ad922ade27"
      },
      "source": [
        "# 업종대분류 카테고리 전처리가 완료되었다.\n",
        "og['업종대분류'].unique()"
      ],
      "execution_count": 81,
      "outputs": [
        {
          "output_type": "execute_result",
          "data": {
            "text/plain": [
              "array(['문화레져', '생활서비스', '음식', '일반유통', '전문서비스', '종합유통', '기타'], dtype=object)"
            ]
          },
          "metadata": {
            "tags": []
          },
          "execution_count": 81
        }
      ]
    },
    {
      "cell_type": "code",
      "metadata": {
        "id": "ftmQxg2Dl-2o"
      },
      "source": [
        "og.to_csv('신한카드_업종대분류 전처리완료.csv', encoding='utf-8')"
      ],
      "execution_count": 82,
      "outputs": []
    },
    {
      "cell_type": "code",
      "metadata": {
        "id": "XksPWUCDmMCM"
      },
      "source": [
        ""
      ],
      "execution_count": null,
      "outputs": []
    }
  ]
}