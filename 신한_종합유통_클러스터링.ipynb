{
  "nbformat": 4,
  "nbformat_minor": 0,
  "metadata": {
    "colab": {
      "name": "신한-종합유통 클러스터링.ipynb",
      "provenance": [],
      "collapsed_sections": [],
      "authorship_tag": "ABX9TyOUXoP1C6Dcmswb3JOJ4x/V",
      "include_colab_link": true
    },
    "kernelspec": {
      "name": "python3",
      "display_name": "Python 3"
    },
    "language_info": {
      "name": "python"
    }
  },
  "cells": [
    {
      "cell_type": "markdown",
      "metadata": {
        "id": "view-in-github",
        "colab_type": "text"
      },
      "source": [
        "<a href=\"https://colab.research.google.com/github/ghgit1798/2021-financial-competition/blob/Guhyeon/%EC%8B%A0%ED%95%9C_%EC%A2%85%ED%95%A9%EC%9C%A0%ED%86%B5_%ED%81%B4%EB%9F%AC%EC%8A%A4%ED%84%B0%EB%A7%81.ipynb\" target=\"_parent\"><img src=\"https://colab.research.google.com/assets/colab-badge.svg\" alt=\"Open In Colab\"/></a>"
      ]
    },
    {
      "cell_type": "code",
      "metadata": {
        "id": "etaTaaaDNOI7"
      },
      "source": [
        "import pandas as pd\n",
        "import plotly.graph_objects as go\n",
        "from matplotlib import pyplot as plt\n",
        "\n",
        "from sklearn.cluster import KMeans\n",
        "from sklearn.preprocessing import MinMaxScaler"
      ],
      "execution_count": 49,
      "outputs": []
    },
    {
      "cell_type": "code",
      "metadata": {
        "id": "WkFYRxdgO2Ty"
      },
      "source": [
        "sh = pd.read_csv('신한카드_전처리.csv', index_col=0, encoding='utf-8')"
      ],
      "execution_count": 50,
      "outputs": []
    },
    {
      "cell_type": "code",
      "metadata": {
        "colab": {
          "base_uri": "https://localhost:8080/"
        },
        "id": "CNg3COZ4VAZD",
        "outputId": "c1e487cc-9927-45c5-b712-1045036932d1"
      },
      "source": [
        "sh.columns"
      ],
      "execution_count": 51,
      "outputs": [
        {
          "output_type": "execute_result",
          "data": {
            "text/plain": [
              "Index(['기준년월', '광역시도명', '업종대분류', '업종중분류', '업종소분류', '신규가맹점수', '해지가맹점수',\n",
              "       '매출가맹점수', '카드매출금액', '카드매출건수', '점당매출금액', '건당매출금액'],\n",
              "      dtype='object')"
            ]
          },
          "metadata": {
            "tags": []
          },
          "execution_count": 51
        }
      ]
    },
    {
      "cell_type": "code",
      "metadata": {
        "id": "fyViVGQYaBJV"
      },
      "source": [
        "sh = sh[sh['업종대분류']=='종합유통']"
      ],
      "execution_count": 55,
      "outputs": []
    },
    {
      "cell_type": "code",
      "metadata": {
        "colab": {
          "base_uri": "https://localhost:8080/",
          "height": 327
        },
        "id": "XmPFafqyO7s5",
        "outputId": "f72df8da-8a1b-4218-dc3d-5757adfae4b0"
      },
      "source": [
        "group = sh.groupby(by='업종중분류').sum().reset_index()\n",
        "n_cols = ['신규가맹점수','해지가맹점수','매출가맹점수', '카드매출금액', '카드매출건수', '점당매출금액', '건당매출금액']\n",
        "group.drop(columns='기준년월', inplace=True)\n",
        "group"
      ],
      "execution_count": 56,
      "outputs": [
        {
          "output_type": "execute_result",
          "data": {
            "text/html": [
              "<div>\n",
              "<style scoped>\n",
              "    .dataframe tbody tr th:only-of-type {\n",
              "        vertical-align: middle;\n",
              "    }\n",
              "\n",
              "    .dataframe tbody tr th {\n",
              "        vertical-align: top;\n",
              "    }\n",
              "\n",
              "    .dataframe thead th {\n",
              "        text-align: right;\n",
              "    }\n",
              "</style>\n",
              "<table border=\"1\" class=\"dataframe\">\n",
              "  <thead>\n",
              "    <tr style=\"text-align: right;\">\n",
              "      <th></th>\n",
              "      <th>업종중분류</th>\n",
              "      <th>신규가맹점수</th>\n",
              "      <th>해지가맹점수</th>\n",
              "      <th>매출가맹점수</th>\n",
              "      <th>카드매출금액</th>\n",
              "      <th>카드매출건수</th>\n",
              "      <th>점당매출금액</th>\n",
              "      <th>건당매출금액</th>\n",
              "    </tr>\n",
              "  </thead>\n",
              "  <tbody>\n",
              "    <tr>\n",
              "      <th>0</th>\n",
              "      <td>다단계판매</td>\n",
              "      <td>0</td>\n",
              "      <td>6</td>\n",
              "      <td>166</td>\n",
              "      <td>68535712000</td>\n",
              "      <td>415764</td>\n",
              "      <td>3440037895</td>\n",
              "      <td>9503086</td>\n",
              "    </tr>\n",
              "    <tr>\n",
              "      <th>1</th>\n",
              "      <td>마트/슈퍼마켓</td>\n",
              "      <td>951</td>\n",
              "      <td>1597</td>\n",
              "      <td>129394</td>\n",
              "      <td>3182073478000</td>\n",
              "      <td>128947589</td>\n",
              "      <td>30874076255</td>\n",
              "      <td>6425078</td>\n",
              "    </tr>\n",
              "    <tr>\n",
              "      <th>2</th>\n",
              "      <td>면세점</td>\n",
              "      <td>1</td>\n",
              "      <td>3</td>\n",
              "      <td>244</td>\n",
              "      <td>69964223000</td>\n",
              "      <td>637961</td>\n",
              "      <td>5498045789</td>\n",
              "      <td>10496464</td>\n",
              "    </tr>\n",
              "    <tr>\n",
              "      <th>3</th>\n",
              "      <td>백화점</td>\n",
              "      <td>16</td>\n",
              "      <td>13</td>\n",
              "      <td>1394</td>\n",
              "      <td>855398800000</td>\n",
              "      <td>11691087</td>\n",
              "      <td>34990277028</td>\n",
              "      <td>5589468</td>\n",
              "    </tr>\n",
              "    <tr>\n",
              "      <th>4</th>\n",
              "      <td>수입품</td>\n",
              "      <td>4</td>\n",
              "      <td>5</td>\n",
              "      <td>801</td>\n",
              "      <td>1311856000</td>\n",
              "      <td>22095</td>\n",
              "      <td>70468959</td>\n",
              "      <td>4027765</td>\n",
              "    </tr>\n",
              "    <tr>\n",
              "      <th>5</th>\n",
              "      <td>아울렛</td>\n",
              "      <td>2</td>\n",
              "      <td>3</td>\n",
              "      <td>392</td>\n",
              "      <td>309930292000</td>\n",
              "      <td>4999965</td>\n",
              "      <td>40272590748</td>\n",
              "      <td>4503586</td>\n",
              "    </tr>\n",
              "    <tr>\n",
              "      <th>6</th>\n",
              "      <td>온라인</td>\n",
              "      <td>577</td>\n",
              "      <td>60</td>\n",
              "      <td>13920</td>\n",
              "      <td>7597573667000</td>\n",
              "      <td>151774563</td>\n",
              "      <td>33520709158</td>\n",
              "      <td>7180724</td>\n",
              "    </tr>\n",
              "    <tr>\n",
              "      <th>7</th>\n",
              "      <td>전용매장</td>\n",
              "      <td>0</td>\n",
              "      <td>11</td>\n",
              "      <td>1891</td>\n",
              "      <td>58480890000</td>\n",
              "      <td>3784686</td>\n",
              "      <td>13266038688</td>\n",
              "      <td>5587615</td>\n",
              "    </tr>\n",
              "    <tr>\n",
              "      <th>8</th>\n",
              "      <td>편의점</td>\n",
              "      <td>3556</td>\n",
              "      <td>2547</td>\n",
              "      <td>190084</td>\n",
              "      <td>977499061000</td>\n",
              "      <td>143493925</td>\n",
              "      <td>317167177</td>\n",
              "      <td>521978</td>\n",
              "    </tr>\n",
              "  </tbody>\n",
              "</table>\n",
              "</div>"
            ],
            "text/plain": [
              "     업종중분류  신규가맹점수  해지가맹점수  ...     카드매출건수       점당매출금액    건당매출금액\n",
              "0    다단계판매       0       6  ...     415764   3440037895   9503086\n",
              "1  마트/슈퍼마켓     951    1597  ...  128947589  30874076255   6425078\n",
              "2      면세점       1       3  ...     637961   5498045789  10496464\n",
              "3      백화점      16      13  ...   11691087  34990277028   5589468\n",
              "4      수입품       4       5  ...      22095     70468959   4027765\n",
              "5      아울렛       2       3  ...    4999965  40272590748   4503586\n",
              "6      온라인     577      60  ...  151774563  33520709158   7180724\n",
              "7     전용매장       0      11  ...    3784686  13266038688   5587615\n",
              "8      편의점    3556    2547  ...  143493925    317167177    521978\n",
              "\n",
              "[9 rows x 8 columns]"
            ]
          },
          "metadata": {
            "tags": []
          },
          "execution_count": 56
        }
      ]
    },
    {
      "cell_type": "code",
      "metadata": {
        "id": "qCU915JYQK0W"
      },
      "source": [
        "group = group[group['매출가맹점수']!=0]\n",
        "group = group[group['카드매출건수']!=0]"
      ],
      "execution_count": 57,
      "outputs": []
    },
    {
      "cell_type": "code",
      "metadata": {
        "id": "KpbokjfwPiur"
      },
      "source": [
        "# 점당매출금액, 건당매출금액 재계산\n",
        "group['점당매출금액'] = group['카드매출금액']//group['매출가맹점수']\n",
        "group['건당매출금액'] = group['카드매출금액']//group['카드매출건수']"
      ],
      "execution_count": 58,
      "outputs": []
    },
    {
      "cell_type": "code",
      "metadata": {
        "colab": {
          "base_uri": "https://localhost:8080/"
        },
        "id": "dQ_0-6qMPkbD",
        "outputId": "c91f3481-273d-4b13-8e60-865f4c587c8b"
      },
      "source": [
        "# 표준화 수행\n",
        "cls = group[n_cols]\n",
        "scaler = MinMaxScaler()\n",
        "scaler.fit(cls)\n",
        "scaled = scaler.transform(cls)\n",
        "scaled"
      ],
      "execution_count": 59,
      "outputs": [
        {
          "output_type": "execute_result",
          "data": {
            "text/plain": [
              "array([[0.00000000e+00, 1.17924528e-03, 0.00000000e+00, 8.84959704e-03,\n",
              "        2.59415221e-03, 5.21200992e-01, 1.00000000e+00],\n",
              "       [2.67435321e-01, 6.26572327e-01, 6.80441032e-01, 4.18727224e-01,\n",
              "        8.49577577e-01, 2.90929427e-02, 1.13048155e-01],\n",
              "       [2.81214848e-04, 0.00000000e+00, 4.10703567e-04, 9.03765151e-03,\n",
              "        4.05835904e-03, 3.61344212e-01, 6.50863760e-01],\n",
              "       [4.49943757e-03, 3.93081761e-03, 6.46594846e-03, 1.12435164e-01,\n",
              "        7.68949076e-02, 7.75653542e-01, 4.19882301e-01],\n",
              "       [1.12485939e-03, 7.86163522e-04, 3.34354827e-03, 0.00000000e+00,\n",
              "        0.00000000e+00, 0.00000000e+00, 3.32601405e-01],\n",
              "       [5.62429696e-04, 0.00000000e+00, 1.18998726e-03, 4.06276724e-02,\n",
              "        3.28025637e-02, 1.00000000e+00, 3.49136240e-01],\n",
              "       [1.62260967e-01, 2.24056604e-02, 7.24207289e-02, 1.00000000e+00,\n",
              "        1.00000000e+00, 6.89688759e-01, 2.73656901e-01],\n",
              "       [0.00000000e+00, 3.14465409e-03, 9.08286734e-03, 7.52594308e-03,\n",
              "        2.47942656e-02, 3.71205412e-02, 5.46668354e-02],\n",
              "       [1.00000000e+00, 1.00000000e+00, 1.00000000e+00, 1.28508894e-01,\n",
              "        9.45433256e-01, 4.44193000e-03, 0.00000000e+00]])"
            ]
          },
          "metadata": {
            "tags": []
          },
          "execution_count": 59
        }
      ]
    },
    {
      "cell_type": "code",
      "metadata": {
        "colab": {
          "base_uri": "https://localhost:8080/",
          "height": 265
        },
        "id": "lONoyfLjPpQp",
        "outputId": "44b70cbf-5cf4-4981-83b9-26ffaae29d42"
      },
      "source": [
        "# screeplot 그리기\n",
        "def elbow(x):\n",
        "  sse = []\n",
        "\n",
        "  for i in range(1, 8):\n",
        "    km = KMeans(n_clusters=i)\n",
        "    km.fit(x)\n",
        "    sse.append(km.inertia_)\n",
        "    plt.plot(sse)\n",
        "  plt.show()\n",
        "\n",
        "elbow(scaled)"
      ],
      "execution_count": 60,
      "outputs": [
        {
          "output_type": "display_data",
          "data": {
            "image/png": "[encoded data removed]",
            "text/plain": [
              "<Figure size 432x288 with 1 Axes>"
            ]
          },
          "metadata": {
            "tags": [],
            "needs_background": "light"
          }
        }
      ]
    },
    {
      "cell_type": "code",
      "metadata": {
        "colab": {
          "base_uri": "https://localhost:8080/"
        },
        "id": "1A-FS_c1PrwF",
        "outputId": "8f245661-dfd0-4ef7-ed02-07e694110427"
      },
      "source": [
        "# cluster 수는 3개로 결정\n",
        "km = KMeans(n_clusters=3)\n",
        "km.fit(scaled)\n",
        "km.cluster_centers_"
      ],
      "execution_count": 61,
      "outputs": [
        {
          "output_type": "execute_result",
          "data": {
            "text/plain": [
              "array([[0.00107799, 0.00150681, 0.00341551, 0.029746  , 0.02352404,\n",
              "        0.44921988, 0.46785842],\n",
              "       [0.63371766, 0.81328616, 0.84022052, 0.27361806, 0.89750542,\n",
              "        0.01676744, 0.05652408],\n",
              "       [0.16226097, 0.02240566, 0.07242073, 1.        , 1.        ,\n",
              "        0.68968876, 0.2736569 ]])"
            ]
          },
          "metadata": {
            "tags": []
          },
          "execution_count": 61
        }
      ]
    },
    {
      "cell_type": "code",
      "metadata": {
        "colab": {
          "base_uri": "https://localhost:8080/",
          "height": 141
        },
        "id": "bWeQPBCKQ6qL",
        "outputId": "75ae5228-a63b-4e9b-c920-c1cccb7d62b0"
      },
      "source": [
        "cluster = pd.DataFrame(km.cluster_centers_, columns=cls.columns)\n",
        "cluster.sort_values(by='카드매출금액', ascending=False, inplace=True)\n",
        "cluster"
      ],
      "execution_count": 62,
      "outputs": [
        {
          "output_type": "execute_result",
          "data": {
            "text/html": [
              "<div>\n",
              "<style scoped>\n",
              "    .dataframe tbody tr th:only-of-type {\n",
              "        vertical-align: middle;\n",
              "    }\n",
              "\n",
              "    .dataframe tbody tr th {\n",
              "        vertical-align: top;\n",
              "    }\n",
              "\n",
              "    .dataframe thead th {\n",
              "        text-align: right;\n",
              "    }\n",
              "</style>\n",
              "<table border=\"1\" class=\"dataframe\">\n",
              "  <thead>\n",
              "    <tr style=\"text-align: right;\">\n",
              "      <th></th>\n",
              "      <th>신규가맹점수</th>\n",
              "      <th>해지가맹점수</th>\n",
              "      <th>매출가맹점수</th>\n",
              "      <th>카드매출금액</th>\n",
              "      <th>카드매출건수</th>\n",
              "      <th>점당매출금액</th>\n",
              "      <th>건당매출금액</th>\n",
              "    </tr>\n",
              "  </thead>\n",
              "  <tbody>\n",
              "    <tr>\n",
              "      <th>2</th>\n",
              "      <td>0.162261</td>\n",
              "      <td>0.022406</td>\n",
              "      <td>0.072421</td>\n",
              "      <td>1.000000</td>\n",
              "      <td>1.000000</td>\n",
              "      <td>0.689689</td>\n",
              "      <td>0.273657</td>\n",
              "    </tr>\n",
              "    <tr>\n",
              "      <th>1</th>\n",
              "      <td>0.633718</td>\n",
              "      <td>0.813286</td>\n",
              "      <td>0.840221</td>\n",
              "      <td>0.273618</td>\n",
              "      <td>0.897505</td>\n",
              "      <td>0.016767</td>\n",
              "      <td>0.056524</td>\n",
              "    </tr>\n",
              "    <tr>\n",
              "      <th>0</th>\n",
              "      <td>0.001078</td>\n",
              "      <td>0.001507</td>\n",
              "      <td>0.003416</td>\n",
              "      <td>0.029746</td>\n",
              "      <td>0.023524</td>\n",
              "      <td>0.449220</td>\n",
              "      <td>0.467858</td>\n",
              "    </tr>\n",
              "  </tbody>\n",
              "</table>\n",
              "</div>"
            ],
            "text/plain": [
              "     신규가맹점수    해지가맹점수    매출가맹점수    카드매출금액    카드매출건수    점당매출금액    건당매출금액\n",
              "2  0.162261  0.022406  0.072421  1.000000  1.000000  0.689689  0.273657\n",
              "1  0.633718  0.813286  0.840221  0.273618  0.897505  0.016767  0.056524\n",
              "0  0.001078  0.001507  0.003416  0.029746  0.023524  0.449220  0.467858"
            ]
          },
          "metadata": {
            "tags": []
          },
          "execution_count": 62
        }
      ]
    },
    {
      "cell_type": "code",
      "metadata": {
        "colab": {
          "base_uri": "https://localhost:8080/",
          "height": 327
        },
        "id": "1lbmobruQ00U",
        "outputId": "f3178469-8cbf-4807-ce87-5669762e8a55"
      },
      "source": [
        "predict = pd.DataFrame(km.predict(scaled))\n",
        "predict.columns = ['Cluster']\n",
        "predict"
      ],
      "execution_count": 63,
      "outputs": [
        {
          "output_type": "execute_result",
          "data": {
            "text/html": [
              "<div>\n",
              "<style scoped>\n",
              "    .dataframe tbody tr th:only-of-type {\n",
              "        vertical-align: middle;\n",
              "    }\n",
              "\n",
              "    .dataframe tbody tr th {\n",
              "        vertical-align: top;\n",
              "    }\n",
              "\n",
              "    .dataframe thead th {\n",
              "        text-align: right;\n",
              "    }\n",
              "</style>\n",
              "<table border=\"1\" class=\"dataframe\">\n",
              "  <thead>\n",
              "    <tr style=\"text-align: right;\">\n",
              "      <th></th>\n",
              "      <th>Cluster</th>\n",
              "    </tr>\n",
              "  </thead>\n",
              "  <tbody>\n",
              "    <tr>\n",
              "      <th>0</th>\n",
              "      <td>0</td>\n",
              "    </tr>\n",
              "    <tr>\n",
              "      <th>1</th>\n",
              "      <td>1</td>\n",
              "    </tr>\n",
              "    <tr>\n",
              "      <th>2</th>\n",
              "      <td>0</td>\n",
              "    </tr>\n",
              "    <tr>\n",
              "      <th>3</th>\n",
              "      <td>0</td>\n",
              "    </tr>\n",
              "    <tr>\n",
              "      <th>4</th>\n",
              "      <td>0</td>\n",
              "    </tr>\n",
              "    <tr>\n",
              "      <th>5</th>\n",
              "      <td>0</td>\n",
              "    </tr>\n",
              "    <tr>\n",
              "      <th>6</th>\n",
              "      <td>2</td>\n",
              "    </tr>\n",
              "    <tr>\n",
              "      <th>7</th>\n",
              "      <td>0</td>\n",
              "    </tr>\n",
              "    <tr>\n",
              "      <th>8</th>\n",
              "      <td>1</td>\n",
              "    </tr>\n",
              "  </tbody>\n",
              "</table>\n",
              "</div>"
            ],
            "text/plain": [
              "   Cluster\n",
              "0        0\n",
              "1        1\n",
              "2        0\n",
              "3        0\n",
              "4        0\n",
              "5        0\n",
              "6        2\n",
              "7        0\n",
              "8        1"
            ]
          },
          "metadata": {
            "tags": []
          },
          "execution_count": 63
        }
      ]
    },
    {
      "cell_type": "code",
      "metadata": {
        "colab": {
          "base_uri": "https://localhost:8080/",
          "height": 327
        },
        "id": "C9zX6-F1Q2zn",
        "outputId": "216f6260-8c6b-4595-ae35-31b067bbad58"
      },
      "source": [
        "scaled = pd.DataFrame(data=scaled, columns=cls.columns)\n",
        "scaled"
      ],
      "execution_count": 64,
      "outputs": [
        {
          "output_type": "execute_result",
          "data": {
            "text/html": [
              "<div>\n",
              "<style scoped>\n",
              "    .dataframe tbody tr th:only-of-type {\n",
              "        vertical-align: middle;\n",
              "    }\n",
              "\n",
              "    .dataframe tbody tr th {\n",
              "        vertical-align: top;\n",
              "    }\n",
              "\n",
              "    .dataframe thead th {\n",
              "        text-align: right;\n",
              "    }\n",
              "</style>\n",
              "<table border=\"1\" class=\"dataframe\">\n",
              "  <thead>\n",
              "    <tr style=\"text-align: right;\">\n",
              "      <th></th>\n",
              "      <th>신규가맹점수</th>\n",
              "      <th>해지가맹점수</th>\n",
              "      <th>매출가맹점수</th>\n",
              "      <th>카드매출금액</th>\n",
              "      <th>카드매출건수</th>\n",
              "      <th>점당매출금액</th>\n",
              "      <th>건당매출금액</th>\n",
              "    </tr>\n",
              "  </thead>\n",
              "  <tbody>\n",
              "    <tr>\n",
              "      <th>0</th>\n",
              "      <td>0.000000</td>\n",
              "      <td>0.001179</td>\n",
              "      <td>0.000000</td>\n",
              "      <td>0.008850</td>\n",
              "      <td>0.002594</td>\n",
              "      <td>0.521201</td>\n",
              "      <td>1.000000</td>\n",
              "    </tr>\n",
              "    <tr>\n",
              "      <th>1</th>\n",
              "      <td>0.267435</td>\n",
              "      <td>0.626572</td>\n",
              "      <td>0.680441</td>\n",
              "      <td>0.418727</td>\n",
              "      <td>0.849578</td>\n",
              "      <td>0.029093</td>\n",
              "      <td>0.113048</td>\n",
              "    </tr>\n",
              "    <tr>\n",
              "      <th>2</th>\n",
              "      <td>0.000281</td>\n",
              "      <td>0.000000</td>\n",
              "      <td>0.000411</td>\n",
              "      <td>0.009038</td>\n",
              "      <td>0.004058</td>\n",
              "      <td>0.361344</td>\n",
              "      <td>0.650864</td>\n",
              "    </tr>\n",
              "    <tr>\n",
              "      <th>3</th>\n",
              "      <td>0.004499</td>\n",
              "      <td>0.003931</td>\n",
              "      <td>0.006466</td>\n",
              "      <td>0.112435</td>\n",
              "      <td>0.076895</td>\n",
              "      <td>0.775654</td>\n",
              "      <td>0.419882</td>\n",
              "    </tr>\n",
              "    <tr>\n",
              "      <th>4</th>\n",
              "      <td>0.001125</td>\n",
              "      <td>0.000786</td>\n",
              "      <td>0.003344</td>\n",
              "      <td>0.000000</td>\n",
              "      <td>0.000000</td>\n",
              "      <td>0.000000</td>\n",
              "      <td>0.332601</td>\n",
              "    </tr>\n",
              "    <tr>\n",
              "      <th>5</th>\n",
              "      <td>0.000562</td>\n",
              "      <td>0.000000</td>\n",
              "      <td>0.001190</td>\n",
              "      <td>0.040628</td>\n",
              "      <td>0.032803</td>\n",
              "      <td>1.000000</td>\n",
              "      <td>0.349136</td>\n",
              "    </tr>\n",
              "    <tr>\n",
              "      <th>6</th>\n",
              "      <td>0.162261</td>\n",
              "      <td>0.022406</td>\n",
              "      <td>0.072421</td>\n",
              "      <td>1.000000</td>\n",
              "      <td>1.000000</td>\n",
              "      <td>0.689689</td>\n",
              "      <td>0.273657</td>\n",
              "    </tr>\n",
              "    <tr>\n",
              "      <th>7</th>\n",
              "      <td>0.000000</td>\n",
              "      <td>0.003145</td>\n",
              "      <td>0.009083</td>\n",
              "      <td>0.007526</td>\n",
              "      <td>0.024794</td>\n",
              "      <td>0.037121</td>\n",
              "      <td>0.054667</td>\n",
              "    </tr>\n",
              "    <tr>\n",
              "      <th>8</th>\n",
              "      <td>1.000000</td>\n",
              "      <td>1.000000</td>\n",
              "      <td>1.000000</td>\n",
              "      <td>0.128509</td>\n",
              "      <td>0.945433</td>\n",
              "      <td>0.004442</td>\n",
              "      <td>0.000000</td>\n",
              "    </tr>\n",
              "  </tbody>\n",
              "</table>\n",
              "</div>"
            ],
            "text/plain": [
              "     신규가맹점수    해지가맹점수    매출가맹점수    카드매출금액    카드매출건수    점당매출금액    건당매출금액\n",
              "0  0.000000  0.001179  0.000000  0.008850  0.002594  0.521201  1.000000\n",
              "1  0.267435  0.626572  0.680441  0.418727  0.849578  0.029093  0.113048\n",
              "2  0.000281  0.000000  0.000411  0.009038  0.004058  0.361344  0.650864\n",
              "3  0.004499  0.003931  0.006466  0.112435  0.076895  0.775654  0.419882\n",
              "4  0.001125  0.000786  0.003344  0.000000  0.000000  0.000000  0.332601\n",
              "5  0.000562  0.000000  0.001190  0.040628  0.032803  1.000000  0.349136\n",
              "6  0.162261  0.022406  0.072421  1.000000  1.000000  0.689689  0.273657\n",
              "7  0.000000  0.003145  0.009083  0.007526  0.024794  0.037121  0.054667\n",
              "8  1.000000  1.000000  1.000000  0.128509  0.945433  0.004442  0.000000"
            ]
          },
          "metadata": {
            "tags": []
          },
          "execution_count": 64
        }
      ]
    },
    {
      "cell_type": "code",
      "metadata": {
        "colab": {
          "base_uri": "https://localhost:8080/",
          "height": 327
        },
        "id": "77-VylYYRm3g",
        "outputId": "1af9a252-32bd-4f16-de4f-a9b093738e59"
      },
      "source": [
        "names = pd.DataFrame(group['업종중분류'])\n",
        "names.reset_index(inplace=True, drop=True)\n",
        "names"
      ],
      "execution_count": 67,
      "outputs": [
        {
          "output_type": "execute_result",
          "data": {
            "text/html": [
              "<div>\n",
              "<style scoped>\n",
              "    .dataframe tbody tr th:only-of-type {\n",
              "        vertical-align: middle;\n",
              "    }\n",
              "\n",
              "    .dataframe tbody tr th {\n",
              "        vertical-align: top;\n",
              "    }\n",
              "\n",
              "    .dataframe thead th {\n",
              "        text-align: right;\n",
              "    }\n",
              "</style>\n",
              "<table border=\"1\" class=\"dataframe\">\n",
              "  <thead>\n",
              "    <tr style=\"text-align: right;\">\n",
              "      <th></th>\n",
              "      <th>업종중분류</th>\n",
              "    </tr>\n",
              "  </thead>\n",
              "  <tbody>\n",
              "    <tr>\n",
              "      <th>0</th>\n",
              "      <td>다단계판매</td>\n",
              "    </tr>\n",
              "    <tr>\n",
              "      <th>1</th>\n",
              "      <td>마트/슈퍼마켓</td>\n",
              "    </tr>\n",
              "    <tr>\n",
              "      <th>2</th>\n",
              "      <td>면세점</td>\n",
              "    </tr>\n",
              "    <tr>\n",
              "      <th>3</th>\n",
              "      <td>백화점</td>\n",
              "    </tr>\n",
              "    <tr>\n",
              "      <th>4</th>\n",
              "      <td>수입품</td>\n",
              "    </tr>\n",
              "    <tr>\n",
              "      <th>5</th>\n",
              "      <td>아울렛</td>\n",
              "    </tr>\n",
              "    <tr>\n",
              "      <th>6</th>\n",
              "      <td>온라인</td>\n",
              "    </tr>\n",
              "    <tr>\n",
              "      <th>7</th>\n",
              "      <td>전용매장</td>\n",
              "    </tr>\n",
              "    <tr>\n",
              "      <th>8</th>\n",
              "      <td>편의점</td>\n",
              "    </tr>\n",
              "  </tbody>\n",
              "</table>\n",
              "</div>"
            ],
            "text/plain": [
              "     업종중분류\n",
              "0    다단계판매\n",
              "1  마트/슈퍼마켓\n",
              "2      면세점\n",
              "3      백화점\n",
              "4      수입품\n",
              "5      아울렛\n",
              "6      온라인\n",
              "7     전용매장\n",
              "8      편의점"
            ]
          },
          "metadata": {
            "tags": []
          },
          "execution_count": 67
        }
      ]
    },
    {
      "cell_type": "code",
      "metadata": {
        "colab": {
          "base_uri": "https://localhost:8080/",
          "height": 327
        },
        "id": "xW6FWIEtRqdP",
        "outputId": "44166de8-4765-4a53-e795-2b43fdb0587e"
      },
      "source": [
        "# names와 결합\n",
        "result = pd.concat([scaled, names], axis=1)\n",
        "result = pd.concat([result, predict], axis=1)\n",
        "result"
      ],
      "execution_count": 68,
      "outputs": [
        {
          "output_type": "execute_result",
          "data": {
            "text/html": [
              "<div>\n",
              "<style scoped>\n",
              "    .dataframe tbody tr th:only-of-type {\n",
              "        vertical-align: middle;\n",
              "    }\n",
              "\n",
              "    .dataframe tbody tr th {\n",
              "        vertical-align: top;\n",
              "    }\n",
              "\n",
              "    .dataframe thead th {\n",
              "        text-align: right;\n",
              "    }\n",
              "</style>\n",
              "<table border=\"1\" class=\"dataframe\">\n",
              "  <thead>\n",
              "    <tr style=\"text-align: right;\">\n",
              "      <th></th>\n",
              "      <th>신규가맹점수</th>\n",
              "      <th>해지가맹점수</th>\n",
              "      <th>매출가맹점수</th>\n",
              "      <th>카드매출금액</th>\n",
              "      <th>카드매출건수</th>\n",
              "      <th>점당매출금액</th>\n",
              "      <th>건당매출금액</th>\n",
              "      <th>업종중분류</th>\n",
              "      <th>Cluster</th>\n",
              "    </tr>\n",
              "  </thead>\n",
              "  <tbody>\n",
              "    <tr>\n",
              "      <th>0</th>\n",
              "      <td>0.000000</td>\n",
              "      <td>0.001179</td>\n",
              "      <td>0.000000</td>\n",
              "      <td>0.008850</td>\n",
              "      <td>0.002594</td>\n",
              "      <td>0.521201</td>\n",
              "      <td>1.000000</td>\n",
              "      <td>다단계판매</td>\n",
              "      <td>0</td>\n",
              "    </tr>\n",
              "    <tr>\n",
              "      <th>1</th>\n",
              "      <td>0.267435</td>\n",
              "      <td>0.626572</td>\n",
              "      <td>0.680441</td>\n",
              "      <td>0.418727</td>\n",
              "      <td>0.849578</td>\n",
              "      <td>0.029093</td>\n",
              "      <td>0.113048</td>\n",
              "      <td>마트/슈퍼마켓</td>\n",
              "      <td>1</td>\n",
              "    </tr>\n",
              "    <tr>\n",
              "      <th>2</th>\n",
              "      <td>0.000281</td>\n",
              "      <td>0.000000</td>\n",
              "      <td>0.000411</td>\n",
              "      <td>0.009038</td>\n",
              "      <td>0.004058</td>\n",
              "      <td>0.361344</td>\n",
              "      <td>0.650864</td>\n",
              "      <td>면세점</td>\n",
              "      <td>0</td>\n",
              "    </tr>\n",
              "    <tr>\n",
              "      <th>3</th>\n",
              "      <td>0.004499</td>\n",
              "      <td>0.003931</td>\n",
              "      <td>0.006466</td>\n",
              "      <td>0.112435</td>\n",
              "      <td>0.076895</td>\n",
              "      <td>0.775654</td>\n",
              "      <td>0.419882</td>\n",
              "      <td>백화점</td>\n",
              "      <td>0</td>\n",
              "    </tr>\n",
              "    <tr>\n",
              "      <th>4</th>\n",
              "      <td>0.001125</td>\n",
              "      <td>0.000786</td>\n",
              "      <td>0.003344</td>\n",
              "      <td>0.000000</td>\n",
              "      <td>0.000000</td>\n",
              "      <td>0.000000</td>\n",
              "      <td>0.332601</td>\n",
              "      <td>수입품</td>\n",
              "      <td>0</td>\n",
              "    </tr>\n",
              "    <tr>\n",
              "      <th>5</th>\n",
              "      <td>0.000562</td>\n",
              "      <td>0.000000</td>\n",
              "      <td>0.001190</td>\n",
              "      <td>0.040628</td>\n",
              "      <td>0.032803</td>\n",
              "      <td>1.000000</td>\n",
              "      <td>0.349136</td>\n",
              "      <td>아울렛</td>\n",
              "      <td>0</td>\n",
              "    </tr>\n",
              "    <tr>\n",
              "      <th>6</th>\n",
              "      <td>0.162261</td>\n",
              "      <td>0.022406</td>\n",
              "      <td>0.072421</td>\n",
              "      <td>1.000000</td>\n",
              "      <td>1.000000</td>\n",
              "      <td>0.689689</td>\n",
              "      <td>0.273657</td>\n",
              "      <td>온라인</td>\n",
              "      <td>2</td>\n",
              "    </tr>\n",
              "    <tr>\n",
              "      <th>7</th>\n",
              "      <td>0.000000</td>\n",
              "      <td>0.003145</td>\n",
              "      <td>0.009083</td>\n",
              "      <td>0.007526</td>\n",
              "      <td>0.024794</td>\n",
              "      <td>0.037121</td>\n",
              "      <td>0.054667</td>\n",
              "      <td>전용매장</td>\n",
              "      <td>0</td>\n",
              "    </tr>\n",
              "    <tr>\n",
              "      <th>8</th>\n",
              "      <td>1.000000</td>\n",
              "      <td>1.000000</td>\n",
              "      <td>1.000000</td>\n",
              "      <td>0.128509</td>\n",
              "      <td>0.945433</td>\n",
              "      <td>0.004442</td>\n",
              "      <td>0.000000</td>\n",
              "      <td>편의점</td>\n",
              "      <td>1</td>\n",
              "    </tr>\n",
              "  </tbody>\n",
              "</table>\n",
              "</div>"
            ],
            "text/plain": [
              "     신규가맹점수    해지가맹점수    매출가맹점수    카드매출금액  ...    점당매출금액    건당매출금액    업종중분류 Cluster\n",
              "0  0.000000  0.001179  0.000000  0.008850  ...  0.521201  1.000000    다단계판매       0\n",
              "1  0.267435  0.626572  0.680441  0.418727  ...  0.029093  0.113048  마트/슈퍼마켓       1\n",
              "2  0.000281  0.000000  0.000411  0.009038  ...  0.361344  0.650864      면세점       0\n",
              "3  0.004499  0.003931  0.006466  0.112435  ...  0.775654  0.419882      백화점       0\n",
              "4  0.001125  0.000786  0.003344  0.000000  ...  0.000000  0.332601      수입품       0\n",
              "5  0.000562  0.000000  0.001190  0.040628  ...  1.000000  0.349136      아울렛       0\n",
              "6  0.162261  0.022406  0.072421  1.000000  ...  0.689689  0.273657      온라인       2\n",
              "7  0.000000  0.003145  0.009083  0.007526  ...  0.037121  0.054667     전용매장       0\n",
              "8  1.000000  1.000000  1.000000  0.128509  ...  0.004442  0.000000      편의점       1\n",
              "\n",
              "[9 rows x 9 columns]"
            ]
          },
          "metadata": {
            "tags": []
          },
          "execution_count": 68
        }
      ]
    },
    {
      "cell_type": "code",
      "metadata": {
        "colab": {
          "base_uri": "https://localhost:8080/",
          "height": 578
        },
        "id": "xovoYfCWR3NX",
        "outputId": "57f0fca9-38c1-4a7e-f1e1-58832d043cde"
      },
      "source": [
        "def show_cluster(result, name):\n",
        "  categories = n_cols\n",
        "  color = ['skyblue', 'blue', 'salmon', 'green']\n",
        "\n",
        "  target = result[result['업종중분류']==name]\n",
        "\n",
        "  fig = go.Figure()\n",
        "\n",
        "  fig.add_trace(go.Scatterpolar(\n",
        "      r = cluster.values[0],\n",
        "      theta = categories,\n",
        "      fill='toself',\n",
        "      name='필수산업',\n",
        "      line_color=color[0]\n",
        "  ))\n",
        "\n",
        "  fig.add_trace(go.Scatterpolar(\n",
        "      r = cluster.values[1],\n",
        "      theta = categories,\n",
        "      fill='toself',\n",
        "      name='주류산업',\n",
        "      line_color=color[1]\n",
        "  ))\n",
        "\n",
        "  fig.add_trace(go.Scatterpolar(\n",
        "      r = cluster.values[2],\n",
        "      theta = categories,\n",
        "      fill='toself',\n",
        "      name='비주류산업',\n",
        "      line_color=color[2]\n",
        "  ))\n",
        "\n",
        "  fig.add_trace(go.Scatterpolar(\n",
        "      r = target.values[0],\n",
        "      theta = categories,\n",
        "      fill='toself',\n",
        "      name=name,\n",
        "      line_color=color[3]\n",
        "  ))\n",
        "\n",
        "  fig.update_layout(\n",
        "    polar=dict(\n",
        "      radialaxis=dict(\n",
        "        title=str(target['Cluster']),\n",
        "        visible=True,\n",
        "      )),\n",
        "  )\n",
        "  print(target['Cluster'])\n",
        "  fig.show()\n",
        "\n",
        "# 클라우드 맥주 클러스터링 결과\n",
        "show_cluster(result, '면세점')"
      ],
      "execution_count": 73,
      "outputs": [
        {
          "output_type": "stream",
          "text": [
            "2    0\n",
            "Name: Cluster, dtype: int32\n"
          ],
          "name": "stdout"
        },
        {
          "output_type": "display_data",
          "data": {
            "text/html": [
              "<html>\n",
              "<head><meta charset=\"utf-8\" /></head>\n",
              "<body>\n",
              "    <div>\n",
              "            <script src=\"https://cdnjs.cloudflare.com/ajax/libs/mathjax/2.7.5/MathJax.js?config=TeX-AMS-MML_SVG\"></script><script type=\"text/javascript\">if (window.MathJax) {MathJax.Hub.Config({SVG: {font: \"STIX-Web\"}});}</script>\n",
              "                <script type=\"text/javascript\">window.PlotlyConfig = {MathJaxConfig: 'local'};</script>\n",
              "        <script src=\"https://cdn.plot.ly/plotly-latest.min.js\"></script>    \n",
              "            <div id=\"0f2e0aa5-360d-4839-aa1c-18d3089f6cd0\" class=\"plotly-graph-div\" style=\"height:525px; width:100%;\"></div>\n",
              "            <script type=\"text/javascript\">\n",
              "                \n",
              "                    window.PLOTLYENV=window.PLOTLYENV || {};\n",
              "                    \n",
              "                if (document.getElementById(\"0f2e0aa5-360d-4839-aa1c-18d3089f6cd0\")) {\n",
              "                    Plotly.newPlot(\n",
              "                        '0f2e0aa5-360d-4839-aa1c-18d3089f6cd0',\n",
              "                        [{\"fill\": \"toself\", \"line\": {\"color\": \"skyblue\"}, \"name\": \"\\ud544\\uc218\\uc0b0\\uc5c5\", \"r\": [0.16226096737907764, 0.0224056603773585, 0.07242072894617677, 1.0, 1.0, 0.6896887590704479, 0.27365690058849584], \"theta\": [\"\\uc2e0\\uaddc\\uac00\\ub9f9\\uc810\\uc218\", \"\\ud574\\uc9c0\\uac00\\ub9f9\\uc810\\uc218\", \"\\ub9e4\\ucd9c\\uac00\\ub9f9\\uc810\\uc218\", \"\\uce74\\ub4dc\\ub9e4\\ucd9c\\uae08\\uc561\", \"\\uce74\\ub4dc\\ub9e4\\ucd9c\\uac74\\uc218\", \"\\uc810\\ub2f9\\ub9e4\\ucd9c\\uae08\\uc561\", \"\\uac74\\ub2f9\\ub9e4\\ucd9c\\uae08\\uc561\"], \"type\": \"scatterpolar\"}, {\"fill\": \"toself\", \"line\": {\"color\": \"blue\"}, \"name\": \"\\uc8fc\\ub958\\uc0b0\\uc5c5\", \"r\": [0.6337176602924635, 0.8132861635220127, 0.8402205162227908, 0.2736180591472244, 0.8975054165181682, 0.016767436366674715, 0.05652407770676454], \"theta\": [\"\\uc2e0\\uaddc\\uac00\\ub9f9\\uc810\\uc218\", \"\\ud574\\uc9c0\\uac00\\ub9f9\\uc810\\uc218\", \"\\ub9e4\\ucd9c\\uac00\\ub9f9\\uc810\\uc218\", \"\\uce74\\ub4dc\\ub9e4\\ucd9c\\uae08\\uc561\", \"\\uce74\\ub4dc\\ub9e4\\ucd9c\\uac74\\uc218\", \"\\uc810\\ub2f9\\ub9e4\\ucd9c\\uae08\\uc561\", \"\\uac74\\ub2f9\\ub9e4\\ucd9c\\uae08\\uc561\"], \"type\": \"scatterpolar\"}, {\"fill\": \"toself\", \"line\": {\"color\": \"salmon\"}, \"name\": \"\\ube44\\uc8fc\\ub958\\uc0b0\\uc5c5\", \"r\": [0.0010779902512186024, 0.00150681341719075, 0.00341550914956279, 0.02974600469572994, 0.023524041357490977, 0.4492198810324376, 0.4678584235060853], \"theta\": [\"\\uc2e0\\uaddc\\uac00\\ub9f9\\uc810\\uc218\", \"\\ud574\\uc9c0\\uac00\\ub9f9\\uc810\\uc218\", \"\\ub9e4\\ucd9c\\uac00\\ub9f9\\uc810\\uc218\", \"\\uce74\\ub4dc\\ub9e4\\ucd9c\\uae08\\uc561\", \"\\uce74\\ub4dc\\ub9e4\\ucd9c\\uac74\\uc218\", \"\\uc810\\ub2f9\\ub9e4\\ucd9c\\uae08\\uc561\", \"\\uac74\\ub2f9\\ub9e4\\ucd9c\\uae08\\uc561\"], \"type\": \"scatterpolar\"}, {\"fill\": \"toself\", \"line\": {\"color\": \"green\"}, \"name\": \"\\uba74\\uc138\\uc810\", \"r\": [0.00028121484814398203, 0.0, 0.00041070356680251476, 0.009037651506506246, 0.004058359037692883, 0.36134421158607605, 0.6508637600455609, \"\\uba74\\uc138\\uc810\", 0], \"theta\": [\"\\uc2e0\\uaddc\\uac00\\ub9f9\\uc810\\uc218\", \"\\ud574\\uc9c0\\uac00\\ub9f9\\uc810\\uc218\", \"\\ub9e4\\ucd9c\\uac00\\ub9f9\\uc810\\uc218\", \"\\uce74\\ub4dc\\ub9e4\\ucd9c\\uae08\\uc561\", \"\\uce74\\ub4dc\\ub9e4\\ucd9c\\uac74\\uc218\", \"\\uc810\\ub2f9\\ub9e4\\ucd9c\\uae08\\uc561\", \"\\uac74\\ub2f9\\ub9e4\\ucd9c\\uae08\\uc561\"], \"type\": \"scatterpolar\"}],\n",
              "                        {\"polar\": {\"radialaxis\": {\"title\": {\"text\": \"2    0\\nName: Cluster, dtype: int32\"}, \"visible\": true}}, \"template\": {\"data\": {\"bar\": [{\"error_x\": {\"color\": \"#2a3f5f\"}, \"error_y\": {\"color\": \"#2a3f5f\"}, \"marker\": {\"line\": {\"color\": \"#E5ECF6\", \"width\": 0.5}}, \"type\": \"bar\"}], \"barpolar\": [{\"marker\": {\"line\": {\"color\": \"#E5ECF6\", \"width\": 0.5}}, \"type\": \"barpolar\"}], \"carpet\": [{\"aaxis\": {\"endlinecolor\": \"#2a3f5f\", \"gridcolor\": \"white\", \"linecolor\": \"white\", \"minorgridcolor\": \"white\", \"startlinecolor\": \"#2a3f5f\"}, \"baxis\": {\"endlinecolor\": \"#2a3f5f\", \"gridcolor\": \"white\", \"linecolor\": \"white\", \"minorgridcolor\": \"white\", \"startlinecolor\": \"#2a3f5f\"}, \"type\": \"carpet\"}], \"choropleth\": [{\"colorbar\": {\"outlinewidth\": 0, \"ticks\": \"\"}, \"type\": \"choropleth\"}], \"contour\": [{\"colorbar\": {\"outlinewidth\": 0, \"ticks\": \"\"}, \"colorscale\": [[0.0, \"#0d0887\"], [0.1111111111111111, \"#46039f\"], [0.2222222222222222, \"#7201a8\"], [0.3333333333333333, \"#9c179e\"], [0.4444444444444444, \"#bd3786\"], [0.5555555555555556, \"#d8576b\"], [0.6666666666666666, \"#ed7953\"], [0.7777777777777778, \"#fb9f3a\"], [0.8888888888888888, \"#fdca26\"], [1.0, \"#f0f921\"]], \"type\": \"contour\"}], \"contourcarpet\": [{\"colorbar\": {\"outlinewidth\": 0, \"ticks\": \"\"}, \"type\": \"contourcarpet\"}], \"heatmap\": [{\"colorbar\": {\"outlinewidth\": 0, \"ticks\": \"\"}, \"colorscale\": [[0.0, \"#0d0887\"], [0.1111111111111111, \"#46039f\"], [0.2222222222222222, \"#7201a8\"], [0.3333333333333333, \"#9c179e\"], [0.4444444444444444, \"#bd3786\"], [0.5555555555555556, \"#d8576b\"], [0.6666666666666666, \"#ed7953\"], [0.7777777777777778, \"#fb9f3a\"], [0.8888888888888888, \"#fdca26\"], [1.0, \"#f0f921\"]], \"type\": \"heatmap\"}], \"heatmapgl\": [{\"colorbar\": {\"outlinewidth\": 0, \"ticks\": \"\"}, \"colorscale\": [[0.0, \"#0d0887\"], [0.1111111111111111, \"#46039f\"], [0.2222222222222222, \"#7201a8\"], [0.3333333333333333, \"#9c179e\"], [0.4444444444444444, \"#bd3786\"], [0.5555555555555556, \"#d8576b\"], [0.6666666666666666, \"#ed7953\"], [0.7777777777777778, \"#fb9f3a\"], [0.8888888888888888, \"#fdca26\"], [1.0, \"#f0f921\"]], \"type\": \"heatmapgl\"}], \"histogram\": [{\"marker\": {\"colorbar\": {\"outlinewidth\": 0, \"ticks\": \"\"}}, \"type\": \"histogram\"}], \"histogram2d\": [{\"colorbar\": {\"outlinewidth\": 0, \"ticks\": \"\"}, \"colorscale\": [[0.0, \"#0d0887\"], [0.1111111111111111, \"#46039f\"], [0.2222222222222222, \"#7201a8\"], [0.3333333333333333, \"#9c179e\"], [0.4444444444444444, \"#bd3786\"], [0.5555555555555556, \"#d8576b\"], [0.6666666666666666, \"#ed7953\"], [0.7777777777777778, \"#fb9f3a\"], [0.8888888888888888, \"#fdca26\"], [1.0, \"#f0f921\"]], \"type\": \"histogram2d\"}], \"histogram2dcontour\": [{\"colorbar\": {\"outlinewidth\": 0, \"ticks\": \"\"}, \"colorscale\": [[0.0, \"#0d0887\"], [0.1111111111111111, \"#46039f\"], [0.2222222222222222, \"#7201a8\"], [0.3333333333333333, \"#9c179e\"], [0.4444444444444444, \"#bd3786\"], [0.5555555555555556, \"#d8576b\"], [0.6666666666666666, \"#ed7953\"], [0.7777777777777778, \"#fb9f3a\"], [0.8888888888888888, \"#fdca26\"], [1.0, \"#f0f921\"]], \"type\": \"histogram2dcontour\"}], \"mesh3d\": [{\"colorbar\": {\"outlinewidth\": 0, \"ticks\": \"\"}, \"type\": \"mesh3d\"}], \"parcoords\": [{\"line\": {\"colorbar\": {\"outlinewidth\": 0, \"ticks\": \"\"}}, \"type\": \"parcoords\"}], \"pie\": [{\"automargin\": true, \"type\": \"pie\"}], \"scatter\": [{\"marker\": {\"colorbar\": {\"outlinewidth\": 0, \"ticks\": \"\"}}, \"type\": \"scatter\"}], \"scatter3d\": [{\"line\": {\"colorbar\": {\"outlinewidth\": 0, \"ticks\": \"\"}}, \"marker\": {\"colorbar\": {\"outlinewidth\": 0, \"ticks\": \"\"}}, \"type\": \"scatter3d\"}], \"scattercarpet\": [{\"marker\": {\"colorbar\": {\"outlinewidth\": 0, \"ticks\": \"\"}}, \"type\": \"scattercarpet\"}], \"scattergeo\": [{\"marker\": {\"colorbar\": {\"outlinewidth\": 0, \"ticks\": \"\"}}, \"type\": \"scattergeo\"}], \"scattergl\": [{\"marker\": {\"colorbar\": {\"outlinewidth\": 0, \"ticks\": \"\"}}, \"type\": \"scattergl\"}], \"scattermapbox\": [{\"marker\": {\"colorbar\": {\"outlinewidth\": 0, \"ticks\": \"\"}}, \"type\": \"scattermapbox\"}], \"scatterpolar\": [{\"marker\": {\"colorbar\": {\"outlinewidth\": 0, \"ticks\": \"\"}}, \"type\": \"scatterpolar\"}], \"scatterpolargl\": [{\"marker\": {\"colorbar\": {\"outlinewidth\": 0, \"ticks\": \"\"}}, \"type\": \"scatterpolargl\"}], \"scatterternary\": [{\"marker\": {\"colorbar\": {\"outlinewidth\": 0, \"ticks\": \"\"}}, \"type\": \"scatterternary\"}], \"surface\": [{\"colorbar\": {\"outlinewidth\": 0, \"ticks\": \"\"}, \"colorscale\": [[0.0, \"#0d0887\"], [0.1111111111111111, \"#46039f\"], [0.2222222222222222, \"#7201a8\"], [0.3333333333333333, \"#9c179e\"], [0.4444444444444444, \"#bd3786\"], [0.5555555555555556, \"#d8576b\"], [0.6666666666666666, \"#ed7953\"], [0.7777777777777778, \"#fb9f3a\"], [0.8888888888888888, \"#fdca26\"], [1.0, \"#f0f921\"]], \"type\": \"surface\"}], \"table\": [{\"cells\": {\"fill\": {\"color\": \"#EBF0F8\"}, \"line\": {\"color\": \"white\"}}, \"header\": {\"fill\": {\"color\": \"#C8D4E3\"}, \"line\": {\"color\": \"white\"}}, \"type\": \"table\"}]}, \"layout\": {\"annotationdefaults\": {\"arrowcolor\": \"#2a3f5f\", \"arrowhead\": 0, \"arrowwidth\": 1}, \"coloraxis\": {\"colorbar\": {\"outlinewidth\": 0, \"ticks\": \"\"}}, \"colorscale\": {\"diverging\": [[0, \"#8e0152\"], [0.1, \"#c51b7d\"], [0.2, \"#de77ae\"], [0.3, \"#f1b6da\"], [0.4, \"#fde0ef\"], [0.5, \"#f7f7f7\"], [0.6, \"#e6f5d0\"], [0.7, \"#b8e186\"], [0.8, \"#7fbc41\"], [0.9, \"#4d9221\"], [1, \"#276419\"]], \"sequential\": [[0.0, \"#0d0887\"], [0.1111111111111111, \"#46039f\"], [0.2222222222222222, \"#7201a8\"], [0.3333333333333333, \"#9c179e\"], [0.4444444444444444, \"#bd3786\"], [0.5555555555555556, \"#d8576b\"], [0.6666666666666666, \"#ed7953\"], [0.7777777777777778, \"#fb9f3a\"], [0.8888888888888888, \"#fdca26\"], [1.0, \"#f0f921\"]], \"sequentialminus\": [[0.0, \"#0d0887\"], [0.1111111111111111, \"#46039f\"], [0.2222222222222222, \"#7201a8\"], [0.3333333333333333, \"#9c179e\"], [0.4444444444444444, \"#bd3786\"], [0.5555555555555556, \"#d8576b\"], [0.6666666666666666, \"#ed7953\"], [0.7777777777777778, \"#fb9f3a\"], [0.8888888888888888, \"#fdca26\"], [1.0, \"#f0f921\"]]}, \"colorway\": [\"#636efa\", \"#EF553B\", \"#00cc96\", \"#ab63fa\", \"#FFA15A\", \"#19d3f3\", \"#FF6692\", \"#B6E880\", \"#FF97FF\", \"#FECB52\"], \"font\": {\"color\": \"#2a3f5f\"}, \"geo\": {\"bgcolor\": \"white\", \"lakecolor\": \"white\", \"landcolor\": \"#E5ECF6\", \"showlakes\": true, \"showland\": true, \"subunitcolor\": \"white\"}, \"hoverlabel\": {\"align\": \"left\"}, \"hovermode\": \"closest\", \"mapbox\": {\"style\": \"light\"}, \"paper_bgcolor\": \"white\", \"plot_bgcolor\": \"#E5ECF6\", \"polar\": {\"angularaxis\": {\"gridcolor\": \"white\", \"linecolor\": \"white\", \"ticks\": \"\"}, \"bgcolor\": \"#E5ECF6\", \"radialaxis\": {\"gridcolor\": \"white\", \"linecolor\": \"white\", \"ticks\": \"\"}}, \"scene\": {\"xaxis\": {\"backgroundcolor\": \"#E5ECF6\", \"gridcolor\": \"white\", \"gridwidth\": 2, \"linecolor\": \"white\", \"showbackground\": true, \"ticks\": \"\", \"zerolinecolor\": \"white\"}, \"yaxis\": {\"backgroundcolor\": \"#E5ECF6\", \"gridcolor\": \"white\", \"gridwidth\": 2, \"linecolor\": \"white\", \"showbackground\": true, \"ticks\": \"\", \"zerolinecolor\": \"white\"}, \"zaxis\": {\"backgroundcolor\": \"#E5ECF6\", \"gridcolor\": \"white\", \"gridwidth\": 2, \"linecolor\": \"white\", \"showbackground\": true, \"ticks\": \"\", \"zerolinecolor\": \"white\"}}, \"shapedefaults\": {\"line\": {\"color\": \"#2a3f5f\"}}, \"ternary\": {\"aaxis\": {\"gridcolor\": \"white\", \"linecolor\": \"white\", \"ticks\": \"\"}, \"baxis\": {\"gridcolor\": \"white\", \"linecolor\": \"white\", \"ticks\": \"\"}, \"bgcolor\": \"#E5ECF6\", \"caxis\": {\"gridcolor\": \"white\", \"linecolor\": \"white\", \"ticks\": \"\"}}, \"title\": {\"x\": 0.05}, \"xaxis\": {\"automargin\": true, \"gridcolor\": \"white\", \"linecolor\": \"white\", \"ticks\": \"\", \"title\": {\"standoff\": 15}, \"zerolinecolor\": \"white\", \"zerolinewidth\": 2}, \"yaxis\": {\"automargin\": true, \"gridcolor\": \"white\", \"linecolor\": \"white\", \"ticks\": \"\", \"title\": {\"standoff\": 15}, \"zerolinecolor\": \"white\", \"zerolinewidth\": 2}}}},\n",
              "                        {\"responsive\": true}\n",
              "                    ).then(function(){\n",
              "                            \n",
              "var gd = document.getElementById('0f2e0aa5-360d-4839-aa1c-18d3089f6cd0');\n",
              "var x = new MutationObserver(function (mutations, observer) {{\n",
              "        var display = window.getComputedStyle(gd).display;\n",
              "        if (!display || display === 'none') {{\n",
              "            console.log([gd, 'removed!']);\n",
              "            Plotly.purge(gd);\n",
              "            observer.disconnect();\n",
              "        }}\n",
              "}});\n",
              "\n",
              "// Listen for the removal of the full notebook cells\n",
              "var notebookContainer = gd.closest('#notebook-container');\n",
              "if (notebookContainer) {{\n",
              "    x.observe(notebookContainer, {childList: true});\n",
              "}}\n",
              "\n",
              "// Listen for the clearing of the current output cell\n",
              "var outputEl = gd.closest('.output');\n",
              "if (outputEl) {{\n",
              "    x.observe(outputEl, {childList: true});\n",
              "}}\n",
              "\n",
              "                        })\n",
              "                };\n",
              "                \n",
              "            </script>\n",
              "        </div>\n",
              "</body>\n",
              "</html>"
            ]
          },
          "metadata": {
            "tags": []
          }
        }
      ]
    },
    {
      "cell_type": "code",
      "metadata": {
        "id": "GJrn8uf-R9-V"
      },
      "source": [
        ""
      ],
      "execution_count": null,
      "outputs": []
    }
  ]
}